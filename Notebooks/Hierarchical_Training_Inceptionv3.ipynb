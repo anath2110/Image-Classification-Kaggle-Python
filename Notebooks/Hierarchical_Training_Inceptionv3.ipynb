{
 "cells": [
  {
   "cell_type": "markdown",
   "metadata": {
    "_cell_guid": "75d61c38-954c-4bd1-a127-5d17e1812402",
    "_uuid": "2ae1f395d8768512da0739dded661e329dbfa14e"
   },
   "source": [
    "This notebook contains a generator class for Keras called `BSONIterator` that can read directly from the BSON data. You can use it in combination with `ImageDataGenerator` for doing data augmentation."
   ]
  },
  {
   "cell_type": "code",
   "execution_count": 1,
   "metadata": {
    "_cell_guid": "4036f11e-5223-46e5-8948-5cbf70a9bf73",
    "_uuid": "3767d2738682e30c292a466f66bc75fcc80a5076"
   },
   "outputs": [
    {
     "name": "stderr",
     "output_type": "stream",
     "text": [
      "Using TensorFlow backend.\n"
     ]
    }
   ],
   "source": [
    "import os, sys, math, io\n",
    "import numpy as np\n",
    "import pandas as pd\n",
    "import multiprocessing as mp\n",
    "import bson\n",
    "import struct\n",
    "\n",
    "%matplotlib inline\n",
    "import matplotlib.pyplot as plt\n",
    "\n",
    "import keras\n",
    "from keras.preprocessing.image import load_img, img_to_array\n",
    "import tensorflow as tf\n",
    "\n",
    "from collections import defaultdict\n",
    "from tqdm import *\n",
    "\n",
    "# Input data files are available in the \"../input/\" directory.\n",
    "# For example, running this (by clicking run or pressing Shift+Enter) will list the files in the input directory\n",
    "\n",
    "from subprocess import check_output\n",
    "#print(check_output([\"ls\", \"input\"]).decode(\"utf8\"))\n",
    "\n",
    "# Any results you write to the current directory are saved as output."
   ]
  },
  {
   "cell_type": "code",
   "execution_count": 2,
   "metadata": {
    "_cell_guid": "3601ddc2-5dca-463c-be54-a297e019469a",
    "_uuid": "41fb122f53b29ff6c7cdba4f08001fa8204fab34"
   },
   "outputs": [
    {
     "data": {
      "text/plain": [
       "('2.0.8', '1.3.0')"
      ]
     },
     "execution_count": 2,
     "metadata": {},
     "output_type": "execute_result"
    }
   ],
   "source": [
    "keras.__version__, tf.__version__"
   ]
  },
  {
   "cell_type": "code",
   "execution_count": 3,
   "metadata": {
    "_cell_guid": "dfec6cb3-3b14-44cc-920c-c4bba4f79589",
    "_uuid": "1d92f3f86af7906e204eec1d536bd29878fed02d"
   },
   "outputs": [
    {
     "name": "stdout",
     "output_type": "stream",
     "text": [
      "C:\\Users\\msaha\\Documents\\Deep_Learning\\Project\\test.bson\n"
     ]
    }
   ],
   "source": [
    "#data_dir = \"/home/manojps/Documents/deep_learning/Project\"\n",
    "data_dir = \"C:\\\\Users\\\\msaha\\\\Documents\\\\Deep_Learning\\\\Project\\\\\"\n",
    "\n",
    "train_bson_path = os.path.join(data_dir, \"train.bson\")\n",
    "num_train_products = 7069896\n",
    "\n",
    "# train_bson_path = os.path.join(data_dir, \"train_example.bson\")\n",
    "# num_train_products = 82\n",
    "\n",
    "test_bson_path = os.path.join(data_dir, \"test.bson\")\n",
    "num_test_products = 1768182\n",
    "\n",
    "print(test_bson_path)"
   ]
  },
  {
   "cell_type": "markdown",
   "metadata": {
    "_cell_guid": "3c24b66f-0f55-4007-86d9-aae6ec1c16bc",
    "_uuid": "0c1457925b72937cc9b8d431142f06098cbfe06c"
   },
   "source": [
    "# Part 1: Create lookup tables\n",
    "\n",
    "The generator uses several lookup tables that describe the layout of the BSON file, which products and images are part of the training/validation sets, and so on.\n",
    "\n",
    "You only need to generate these tables once, as they get saved to CSV files. If you already have these CSV files, skip to part 2."
   ]
  },
  {
   "cell_type": "markdown",
   "metadata": {
    "_cell_guid": "593c6f49-83eb-4491-bcd1-0131845e395c",
    "_uuid": "7ea59756f0ab3eb271e2b5d6495e6a158311de35"
   },
   "source": [
    "## Lookup table for categories"
   ]
  },
  {
   "cell_type": "code",
   "execution_count": 4,
   "metadata": {
    "_cell_guid": "c049b397-8b31-4389-9657-f0281c5f7b4f",
    "_uuid": "c2a19dc1ea89274a1ab3332fa635e6dfdc385ce6"
   },
   "outputs": [
    {
     "data": {
      "text/html": [
       "<div>\n",
       "<style>\n",
       "    .dataframe thead tr:only-child th {\n",
       "        text-align: right;\n",
       "    }\n",
       "\n",
       "    .dataframe thead th {\n",
       "        text-align: left;\n",
       "    }\n",
       "\n",
       "    .dataframe tbody tr th {\n",
       "        vertical-align: top;\n",
       "    }\n",
       "</style>\n",
       "<table border=\"1\" class=\"dataframe\">\n",
       "  <thead>\n",
       "    <tr style=\"text-align: right;\">\n",
       "      <th></th>\n",
       "      <th>category_id</th>\n",
       "      <th>category_level1</th>\n",
       "      <th>category_level2</th>\n",
       "      <th>category_level3</th>\n",
       "      <th>category_idx</th>\n",
       "    </tr>\n",
       "  </thead>\n",
       "  <tbody>\n",
       "    <tr>\n",
       "      <th>0</th>\n",
       "      <td>1000021794</td>\n",
       "      <td>ABONNEMENT / SERVICES</td>\n",
       "      <td>CARTE PREPAYEE</td>\n",
       "      <td>CARTE PREPAYEE MULTIMEDIA</td>\n",
       "      <td>0</td>\n",
       "    </tr>\n",
       "    <tr>\n",
       "      <th>1</th>\n",
       "      <td>1000012764</td>\n",
       "      <td>AMENAGEMENT URBAIN - VOIRIE</td>\n",
       "      <td>AMENAGEMENT URBAIN</td>\n",
       "      <td>ABRI FUMEUR</td>\n",
       "      <td>1</td>\n",
       "    </tr>\n",
       "    <tr>\n",
       "      <th>2</th>\n",
       "      <td>1000012776</td>\n",
       "      <td>AMENAGEMENT URBAIN - VOIRIE</td>\n",
       "      <td>AMENAGEMENT URBAIN</td>\n",
       "      <td>ABRI VELO - ABRI MOTO</td>\n",
       "      <td>2</td>\n",
       "    </tr>\n",
       "    <tr>\n",
       "      <th>3</th>\n",
       "      <td>1000012768</td>\n",
       "      <td>AMENAGEMENT URBAIN - VOIRIE</td>\n",
       "      <td>AMENAGEMENT URBAIN</td>\n",
       "      <td>FONTAINE A EAU</td>\n",
       "      <td>3</td>\n",
       "    </tr>\n",
       "    <tr>\n",
       "      <th>4</th>\n",
       "      <td>1000012755</td>\n",
       "      <td>AMENAGEMENT URBAIN - VOIRIE</td>\n",
       "      <td>SIGNALETIQUE</td>\n",
       "      <td>PANNEAU D'INFORMATION EXTERIEUR</td>\n",
       "      <td>4</td>\n",
       "    </tr>\n",
       "  </tbody>\n",
       "</table>\n",
       "</div>"
      ],
      "text/plain": [
       "   category_id              category_level1     category_level2  \\\n",
       "0   1000021794        ABONNEMENT / SERVICES      CARTE PREPAYEE   \n",
       "1   1000012764  AMENAGEMENT URBAIN - VOIRIE  AMENAGEMENT URBAIN   \n",
       "2   1000012776  AMENAGEMENT URBAIN - VOIRIE  AMENAGEMENT URBAIN   \n",
       "3   1000012768  AMENAGEMENT URBAIN - VOIRIE  AMENAGEMENT URBAIN   \n",
       "4   1000012755  AMENAGEMENT URBAIN - VOIRIE        SIGNALETIQUE   \n",
       "\n",
       "                   category_level3  category_idx  \n",
       "0        CARTE PREPAYEE MULTIMEDIA             0  \n",
       "1                      ABRI FUMEUR             1  \n",
       "2            ABRI VELO - ABRI MOTO             2  \n",
       "3                   FONTAINE A EAU             3  \n",
       "4  PANNEAU D'INFORMATION EXTERIEUR             4  "
      ]
     },
     "execution_count": 4,
     "metadata": {},
     "output_type": "execute_result"
    }
   ],
   "source": [
    "categories_path = os.path.join(data_dir, \"category_names.csv\")\n",
    "#categories_df = pd.read_csv(categories_path, index_col=\"category_id\")\n",
    "categories_df = pd.read_csv(categories_path)\n",
    "\n",
    "# Maps the category_id to an integer index. This is what we'll use to\n",
    "# one-hot encode the labels.\n",
    "categories_df[\"category_idx\"] = pd.Series(range(len(categories_df)), index=categories_df.index)\n",
    "\n",
    "#categories_df.to_csv(\"categories.csv\")\n",
    "categories_df.head()"
   ]
  },
  {
   "cell_type": "code",
   "execution_count": 5,
   "metadata": {},
   "outputs": [
    {
     "data": {
      "text/html": [
       "<div>\n",
       "<style>\n",
       "    .dataframe thead tr:only-child th {\n",
       "        text-align: right;\n",
       "    }\n",
       "\n",
       "    .dataframe thead th {\n",
       "        text-align: left;\n",
       "    }\n",
       "\n",
       "    .dataframe tbody tr th {\n",
       "        vertical-align: top;\n",
       "    }\n",
       "</style>\n",
       "<table border=\"1\" class=\"dataframe\">\n",
       "  <thead>\n",
       "    <tr style=\"text-align: right;\">\n",
       "      <th></th>\n",
       "      <th>category_level1</th>\n",
       "      <th>cat1_idx</th>\n",
       "    </tr>\n",
       "  </thead>\n",
       "  <tbody>\n",
       "    <tr>\n",
       "      <th>0</th>\n",
       "      <td>ABONNEMENT / SERVICES</td>\n",
       "      <td>0</td>\n",
       "    </tr>\n",
       "    <tr>\n",
       "      <th>1</th>\n",
       "      <td>AMENAGEMENT URBAIN - VOIRIE</td>\n",
       "      <td>1</td>\n",
       "    </tr>\n",
       "    <tr>\n",
       "      <th>2</th>\n",
       "      <td>ANIMALERIE</td>\n",
       "      <td>2</td>\n",
       "    </tr>\n",
       "    <tr>\n",
       "      <th>3</th>\n",
       "      <td>APICULTURE</td>\n",
       "      <td>3</td>\n",
       "    </tr>\n",
       "    <tr>\n",
       "      <th>4</th>\n",
       "      <td>ART DE LA TABLE - ARTICLES CULINAIRES</td>\n",
       "      <td>4</td>\n",
       "    </tr>\n",
       "  </tbody>\n",
       "</table>\n",
       "</div>"
      ],
      "text/plain": [
       "                         category_level1  cat1_idx\n",
       "0                  ABONNEMENT / SERVICES         0\n",
       "1            AMENAGEMENT URBAIN - VOIRIE         1\n",
       "2                             ANIMALERIE         2\n",
       "3                             APICULTURE         3\n",
       "4  ART DE LA TABLE - ARTICLES CULINAIRES         4"
      ]
     },
     "execution_count": 5,
     "metadata": {},
     "output_type": "execute_result"
    }
   ],
   "source": [
    "# Create a dataframe with category level1 idx\n",
    "cat1_level_df = pd.DataFrame(categories_df.category_level1.unique())\n",
    "cat1_level_df.rename(columns={0: \"category_level1\"}, inplace=True)\n",
    "cat1_level_df[\"cat1_idx\"] = pd.Series(range(len(cat1_level_df)), index=cat1_level_df.index)\n",
    "cat1_level_df.head()"
   ]
  },
  {
   "cell_type": "code",
   "execution_count": 6,
   "metadata": {},
   "outputs": [
    {
     "data": {
      "text/plain": [
       "array([ 0,  1,  2,  3,  4,  5,  6,  7,  8,  9, 10, 11, 12, 13, 14, 15, 16,\n",
       "       17, 18, 19, 20, 21, 22, 23, 24, 25, 26, 27, 28, 29, 30, 31, 32, 33,\n",
       "       34, 35, 36, 37, 38, 39, 40, 41, 42, 43, 44, 45, 46, 47, 48], dtype=int64)"
      ]
     },
     "execution_count": 6,
     "metadata": {},
     "output_type": "execute_result"
    }
   ],
   "source": [
    "cat1_level_df.cat1_idx.unique()"
   ]
  },
  {
   "cell_type": "code",
   "execution_count": 7,
   "metadata": {},
   "outputs": [
    {
     "data": {
      "text/html": [
       "<div>\n",
       "<style>\n",
       "    .dataframe thead tr:only-child th {\n",
       "        text-align: right;\n",
       "    }\n",
       "\n",
       "    .dataframe thead th {\n",
       "        text-align: left;\n",
       "    }\n",
       "\n",
       "    .dataframe tbody tr th {\n",
       "        vertical-align: top;\n",
       "    }\n",
       "</style>\n",
       "<table border=\"1\" class=\"dataframe\">\n",
       "  <thead>\n",
       "    <tr style=\"text-align: right;\">\n",
       "      <th></th>\n",
       "      <th>category_id</th>\n",
       "      <th>category_level1</th>\n",
       "      <th>category_level2</th>\n",
       "      <th>category_level3</th>\n",
       "      <th>category_idx</th>\n",
       "      <th>cat1_idx</th>\n",
       "    </tr>\n",
       "  </thead>\n",
       "  <tbody>\n",
       "    <tr>\n",
       "      <th>0</th>\n",
       "      <td>1000021794</td>\n",
       "      <td>ABONNEMENT / SERVICES</td>\n",
       "      <td>CARTE PREPAYEE</td>\n",
       "      <td>CARTE PREPAYEE MULTIMEDIA</td>\n",
       "      <td>0</td>\n",
       "      <td>0</td>\n",
       "    </tr>\n",
       "    <tr>\n",
       "      <th>1</th>\n",
       "      <td>1000012764</td>\n",
       "      <td>AMENAGEMENT URBAIN - VOIRIE</td>\n",
       "      <td>AMENAGEMENT URBAIN</td>\n",
       "      <td>ABRI FUMEUR</td>\n",
       "      <td>1</td>\n",
       "      <td>1</td>\n",
       "    </tr>\n",
       "    <tr>\n",
       "      <th>2</th>\n",
       "      <td>1000012776</td>\n",
       "      <td>AMENAGEMENT URBAIN - VOIRIE</td>\n",
       "      <td>AMENAGEMENT URBAIN</td>\n",
       "      <td>ABRI VELO - ABRI MOTO</td>\n",
       "      <td>2</td>\n",
       "      <td>1</td>\n",
       "    </tr>\n",
       "    <tr>\n",
       "      <th>3</th>\n",
       "      <td>1000012768</td>\n",
       "      <td>AMENAGEMENT URBAIN - VOIRIE</td>\n",
       "      <td>AMENAGEMENT URBAIN</td>\n",
       "      <td>FONTAINE A EAU</td>\n",
       "      <td>3</td>\n",
       "      <td>1</td>\n",
       "    </tr>\n",
       "    <tr>\n",
       "      <th>4</th>\n",
       "      <td>1000012755</td>\n",
       "      <td>AMENAGEMENT URBAIN - VOIRIE</td>\n",
       "      <td>SIGNALETIQUE</td>\n",
       "      <td>PANNEAU D'INFORMATION EXTERIEUR</td>\n",
       "      <td>4</td>\n",
       "      <td>1</td>\n",
       "    </tr>\n",
       "  </tbody>\n",
       "</table>\n",
       "</div>"
      ],
      "text/plain": [
       "   category_id              category_level1     category_level2  \\\n",
       "0   1000021794        ABONNEMENT / SERVICES      CARTE PREPAYEE   \n",
       "1   1000012764  AMENAGEMENT URBAIN - VOIRIE  AMENAGEMENT URBAIN   \n",
       "2   1000012776  AMENAGEMENT URBAIN - VOIRIE  AMENAGEMENT URBAIN   \n",
       "3   1000012768  AMENAGEMENT URBAIN - VOIRIE  AMENAGEMENT URBAIN   \n",
       "4   1000012755  AMENAGEMENT URBAIN - VOIRIE        SIGNALETIQUE   \n",
       "\n",
       "                   category_level3  category_idx  cat1_idx  \n",
       "0        CARTE PREPAYEE MULTIMEDIA             0         0  \n",
       "1                      ABRI FUMEUR             1         1  \n",
       "2            ABRI VELO - ABRI MOTO             2         1  \n",
       "3                   FONTAINE A EAU             3         1  \n",
       "4  PANNEAU D'INFORMATION EXTERIEUR             4         1  "
      ]
     },
     "execution_count": 7,
     "metadata": {},
     "output_type": "execute_result"
    }
   ],
   "source": [
    "# Merge categories_df and cat1_levle_df into categories_df\n",
    "categories_df = pd.merge(categories_df, cat1_level_df, on=\"category_level1\", how=\"inner\")\n",
    "categories_df.head()"
   ]
  },
  {
   "cell_type": "code",
   "execution_count": 8,
   "metadata": {},
   "outputs": [
    {
     "data": {
      "text/plain": [
       "array([ 0,  1,  2,  3,  4,  5,  6,  7,  8,  9, 10, 11, 12, 13, 14, 15, 16,\n",
       "       17, 18, 19, 20, 21, 22, 23, 24, 25, 26, 27, 28, 29, 30, 31, 32, 33,\n",
       "       34, 35, 36, 37, 38, 39, 40, 41, 42, 43, 44, 45, 46, 47, 48], dtype=int64)"
      ]
     },
     "execution_count": 8,
     "metadata": {},
     "output_type": "execute_result"
    }
   ],
   "source": [
    "categories_df.cat1_idx.unique()"
   ]
  },
  {
   "cell_type": "code",
   "execution_count": 9,
   "metadata": {},
   "outputs": [
    {
     "data": {
      "text/html": [
       "<div>\n",
       "<style>\n",
       "    .dataframe thead tr:only-child th {\n",
       "        text-align: right;\n",
       "    }\n",
       "\n",
       "    .dataframe thead th {\n",
       "        text-align: left;\n",
       "    }\n",
       "\n",
       "    .dataframe tbody tr th {\n",
       "        vertical-align: top;\n",
       "    }\n",
       "</style>\n",
       "<table border=\"1\" class=\"dataframe\">\n",
       "  <thead>\n",
       "    <tr style=\"text-align: right;\">\n",
       "      <th></th>\n",
       "      <th>category_level2</th>\n",
       "      <th>cat2_idx</th>\n",
       "    </tr>\n",
       "  </thead>\n",
       "  <tbody>\n",
       "    <tr>\n",
       "      <th>0</th>\n",
       "      <td>CARTE PREPAYEE</td>\n",
       "      <td>0</td>\n",
       "    </tr>\n",
       "    <tr>\n",
       "      <th>1</th>\n",
       "      <td>AMENAGEMENT URBAIN</td>\n",
       "      <td>1</td>\n",
       "    </tr>\n",
       "    <tr>\n",
       "      <th>2</th>\n",
       "      <td>SIGNALETIQUE</td>\n",
       "      <td>2</td>\n",
       "    </tr>\n",
       "    <tr>\n",
       "      <th>3</th>\n",
       "      <td>SIGNALISATION ROUTIERE</td>\n",
       "      <td>3</td>\n",
       "    </tr>\n",
       "    <tr>\n",
       "      <th>4</th>\n",
       "      <td>VOIRIE</td>\n",
       "      <td>4</td>\n",
       "    </tr>\n",
       "  </tbody>\n",
       "</table>\n",
       "</div>"
      ],
      "text/plain": [
       "          category_level2  cat2_idx\n",
       "0          CARTE PREPAYEE         0\n",
       "1      AMENAGEMENT URBAIN         1\n",
       "2            SIGNALETIQUE         2\n",
       "3  SIGNALISATION ROUTIERE         3\n",
       "4                  VOIRIE         4"
      ]
     },
     "execution_count": 9,
     "metadata": {},
     "output_type": "execute_result"
    }
   ],
   "source": [
    "# Create a dataframe with category level2 idx\n",
    "cat2_level_df = pd.DataFrame(categories_df.category_level2.unique())\n",
    "cat2_level_df.rename(columns={0:\"category_level2\"}, inplace=True)\n",
    "cat2_level_df[\"cat2_idx\"] = pd.Series(range(len(cat2_level_df)), index = cat2_level_df.index)\n",
    "cat2_level_df.head()"
   ]
  },
  {
   "cell_type": "code",
   "execution_count": 10,
   "metadata": {},
   "outputs": [
    {
     "data": {
      "text/plain": [
       "array([  0,   1,   2,   3,   4,   5,   6,   7,   8,   9,  10,  11,  12,\n",
       "        13,  14,  15,  16,  17,  18,  19,  20,  21,  22,  23,  24,  25,\n",
       "        26,  27,  28,  29,  30,  31,  32,  33,  34,  35,  36,  37,  38,\n",
       "        39,  40,  41,  42,  43,  44,  45,  46,  47,  48,  49,  50,  51,\n",
       "        52,  53,  54,  55,  56,  57,  58,  59,  60,  61,  62,  63,  64,\n",
       "        65,  66,  67,  68,  69,  70,  71,  72,  73,  74,  75,  76,  77,\n",
       "        78,  79,  80,  81,  82,  83,  84,  85,  86,  87,  88,  89,  90,\n",
       "        91,  92,  93,  94,  95,  96,  97,  98,  99, 100, 101, 102, 103,\n",
       "       104, 105, 106, 107, 108, 109, 110, 111, 112, 113, 114, 115, 116,\n",
       "       117, 118, 119, 120, 121, 122, 123, 124, 125, 126, 127, 128, 129,\n",
       "       130, 131, 132, 133, 134, 135, 136, 137, 138, 139, 140, 141, 142,\n",
       "       143, 144, 145, 146, 147, 148, 149, 150, 151, 152, 153, 154, 155,\n",
       "       156, 157, 158, 159, 160, 161, 162, 163, 164, 165, 166, 167, 168,\n",
       "       169, 170, 171, 172, 173, 174, 175, 176, 177, 178, 179, 180, 181,\n",
       "       182, 183, 184, 185, 186, 187, 188, 189, 190, 191, 192, 193, 194,\n",
       "       195, 196, 197, 198, 199, 200, 201, 202, 203, 204, 205, 206, 207,\n",
       "       208, 209, 210, 211, 212, 213, 214, 215, 216, 217, 218, 219, 220,\n",
       "       221, 222, 223, 224, 225, 226, 227, 228, 229, 230, 231, 232, 233,\n",
       "       234, 235, 236, 237, 238, 239, 240, 241, 242, 243, 244, 245, 246,\n",
       "       247, 248, 249, 250, 251, 252, 253, 254, 255, 256, 257, 258, 259,\n",
       "       260, 261, 262, 263, 264, 265, 266, 267, 268, 269, 270, 271, 272,\n",
       "       273, 274, 275, 276, 277, 278, 279, 280, 281, 282, 283, 284, 285,\n",
       "       286, 287, 288, 289, 290, 291, 292, 293, 294, 295, 296, 297, 298,\n",
       "       299, 300, 301, 302, 303, 304, 305, 306, 307, 308, 309, 310, 311,\n",
       "       312, 313, 314, 315, 316, 317, 318, 319, 320, 321, 322, 323, 324,\n",
       "       325, 326, 327, 328, 329, 330, 331, 332, 333, 334, 335, 336, 337,\n",
       "       338, 339, 340, 341, 342, 343, 344, 345, 346, 347, 348, 349, 350,\n",
       "       351, 352, 353, 354, 355, 356, 357, 358, 359, 360, 361, 362, 363,\n",
       "       364, 365, 366, 367, 368, 369, 370, 371, 372, 373, 374, 375, 376,\n",
       "       377, 378, 379, 380, 381, 382, 383, 384, 385, 386, 387, 388, 389,\n",
       "       390, 391, 392, 393, 394, 395, 396, 397, 398, 399, 400, 401, 402,\n",
       "       403, 404, 405, 406, 407, 408, 409, 410, 411, 412, 413, 414, 415,\n",
       "       416, 417, 418, 419, 420, 421, 422, 423, 424, 425, 426, 427, 428,\n",
       "       429, 430, 431, 432, 433, 434, 435, 436, 437, 438, 439, 440, 441,\n",
       "       442, 443, 444, 445, 446, 447, 448, 449, 450, 451, 452, 453, 454,\n",
       "       455, 456, 457, 458, 459, 460, 461, 462, 463, 464, 465, 466, 467,\n",
       "       468, 469, 470, 471, 472, 473, 474, 475, 476, 477, 478, 479, 480,\n",
       "       481, 482], dtype=int64)"
      ]
     },
     "execution_count": 10,
     "metadata": {},
     "output_type": "execute_result"
    }
   ],
   "source": [
    "cat2_level_df.cat2_idx.unique()"
   ]
  },
  {
   "cell_type": "code",
   "execution_count": 11,
   "metadata": {},
   "outputs": [
    {
     "data": {
      "text/html": [
       "<div>\n",
       "<style>\n",
       "    .dataframe thead tr:only-child th {\n",
       "        text-align: right;\n",
       "    }\n",
       "\n",
       "    .dataframe thead th {\n",
       "        text-align: left;\n",
       "    }\n",
       "\n",
       "    .dataframe tbody tr th {\n",
       "        vertical-align: top;\n",
       "    }\n",
       "</style>\n",
       "<table border=\"1\" class=\"dataframe\">\n",
       "  <thead>\n",
       "    <tr style=\"text-align: right;\">\n",
       "      <th></th>\n",
       "      <th>category_id</th>\n",
       "      <th>category_level1</th>\n",
       "      <th>category_level2</th>\n",
       "      <th>category_level3</th>\n",
       "      <th>category_idx</th>\n",
       "      <th>cat1_idx</th>\n",
       "      <th>cat2_idx</th>\n",
       "    </tr>\n",
       "  </thead>\n",
       "  <tbody>\n",
       "    <tr>\n",
       "      <th>0</th>\n",
       "      <td>1000021794</td>\n",
       "      <td>ABONNEMENT / SERVICES</td>\n",
       "      <td>CARTE PREPAYEE</td>\n",
       "      <td>CARTE PREPAYEE MULTIMEDIA</td>\n",
       "      <td>0</td>\n",
       "      <td>0</td>\n",
       "      <td>0</td>\n",
       "    </tr>\n",
       "    <tr>\n",
       "      <th>1</th>\n",
       "      <td>1000012764</td>\n",
       "      <td>AMENAGEMENT URBAIN - VOIRIE</td>\n",
       "      <td>AMENAGEMENT URBAIN</td>\n",
       "      <td>ABRI FUMEUR</td>\n",
       "      <td>1</td>\n",
       "      <td>1</td>\n",
       "      <td>1</td>\n",
       "    </tr>\n",
       "    <tr>\n",
       "      <th>2</th>\n",
       "      <td>1000012776</td>\n",
       "      <td>AMENAGEMENT URBAIN - VOIRIE</td>\n",
       "      <td>AMENAGEMENT URBAIN</td>\n",
       "      <td>ABRI VELO - ABRI MOTO</td>\n",
       "      <td>2</td>\n",
       "      <td>1</td>\n",
       "      <td>1</td>\n",
       "    </tr>\n",
       "    <tr>\n",
       "      <th>3</th>\n",
       "      <td>1000012768</td>\n",
       "      <td>AMENAGEMENT URBAIN - VOIRIE</td>\n",
       "      <td>AMENAGEMENT URBAIN</td>\n",
       "      <td>FONTAINE A EAU</td>\n",
       "      <td>3</td>\n",
       "      <td>1</td>\n",
       "      <td>1</td>\n",
       "    </tr>\n",
       "    <tr>\n",
       "      <th>4</th>\n",
       "      <td>1000012755</td>\n",
       "      <td>AMENAGEMENT URBAIN - VOIRIE</td>\n",
       "      <td>SIGNALETIQUE</td>\n",
       "      <td>PANNEAU D'INFORMATION EXTERIEUR</td>\n",
       "      <td>4</td>\n",
       "      <td>1</td>\n",
       "      <td>2</td>\n",
       "    </tr>\n",
       "  </tbody>\n",
       "</table>\n",
       "</div>"
      ],
      "text/plain": [
       "   category_id              category_level1     category_level2  \\\n",
       "0   1000021794        ABONNEMENT / SERVICES      CARTE PREPAYEE   \n",
       "1   1000012764  AMENAGEMENT URBAIN - VOIRIE  AMENAGEMENT URBAIN   \n",
       "2   1000012776  AMENAGEMENT URBAIN - VOIRIE  AMENAGEMENT URBAIN   \n",
       "3   1000012768  AMENAGEMENT URBAIN - VOIRIE  AMENAGEMENT URBAIN   \n",
       "4   1000012755  AMENAGEMENT URBAIN - VOIRIE        SIGNALETIQUE   \n",
       "\n",
       "                   category_level3  category_idx  cat1_idx  cat2_idx  \n",
       "0        CARTE PREPAYEE MULTIMEDIA             0         0         0  \n",
       "1                      ABRI FUMEUR             1         1         1  \n",
       "2            ABRI VELO - ABRI MOTO             2         1         1  \n",
       "3                   FONTAINE A EAU             3         1         1  \n",
       "4  PANNEAU D'INFORMATION EXTERIEUR             4         1         2  "
      ]
     },
     "execution_count": 11,
     "metadata": {},
     "output_type": "execute_result"
    }
   ],
   "source": [
    "# Merge categories_df and cat2_level_df into categories_df\n",
    "categories_df = pd.merge(categories_df, cat2_level_df, on=\"category_level2\", how=\"inner\")\n",
    "categories_df.head()"
   ]
  },
  {
   "cell_type": "code",
   "execution_count": 12,
   "metadata": {},
   "outputs": [
    {
     "data": {
      "text/plain": [
       "array([ 0,  1,  2,  3,  4,  5,  6,  7,  8, 38,  9, 10, 11, 12, 13, 14, 15,\n",
       "       16, 17, 21, 18, 19, 20, 22, 23, 24, 25, 26, 27, 28, 29, 30, 31, 47,\n",
       "       32, 33, 34, 35, 36, 37, 39, 40, 41, 42, 43, 44, 45, 46, 48], dtype=int64)"
      ]
     },
     "execution_count": 12,
     "metadata": {},
     "output_type": "execute_result"
    }
   ],
   "source": [
    "categories_df.cat1_idx.unique()"
   ]
  },
  {
   "cell_type": "code",
   "execution_count": 13,
   "metadata": {},
   "outputs": [
    {
     "data": {
      "text/html": [
       "<div>\n",
       "<style>\n",
       "    .dataframe thead tr:only-child th {\n",
       "        text-align: right;\n",
       "    }\n",
       "\n",
       "    .dataframe thead th {\n",
       "        text-align: left;\n",
       "    }\n",
       "\n",
       "    .dataframe tbody tr th {\n",
       "        vertical-align: top;\n",
       "    }\n",
       "</style>\n",
       "<table border=\"1\" class=\"dataframe\">\n",
       "  <thead>\n",
       "    <tr style=\"text-align: right;\">\n",
       "      <th></th>\n",
       "      <th>category_level1</th>\n",
       "      <th>category_level2</th>\n",
       "      <th>category_level3</th>\n",
       "      <th>category_idx</th>\n",
       "      <th>cat1_idx</th>\n",
       "      <th>cat2_idx</th>\n",
       "    </tr>\n",
       "    <tr>\n",
       "      <th>category_id</th>\n",
       "      <th></th>\n",
       "      <th></th>\n",
       "      <th></th>\n",
       "      <th></th>\n",
       "      <th></th>\n",
       "      <th></th>\n",
       "    </tr>\n",
       "  </thead>\n",
       "  <tbody>\n",
       "    <tr>\n",
       "      <th>1000021794</th>\n",
       "      <td>ABONNEMENT / SERVICES</td>\n",
       "      <td>CARTE PREPAYEE</td>\n",
       "      <td>CARTE PREPAYEE MULTIMEDIA</td>\n",
       "      <td>0</td>\n",
       "      <td>0</td>\n",
       "      <td>0</td>\n",
       "    </tr>\n",
       "    <tr>\n",
       "      <th>1000012764</th>\n",
       "      <td>AMENAGEMENT URBAIN - VOIRIE</td>\n",
       "      <td>AMENAGEMENT URBAIN</td>\n",
       "      <td>ABRI FUMEUR</td>\n",
       "      <td>1</td>\n",
       "      <td>1</td>\n",
       "      <td>1</td>\n",
       "    </tr>\n",
       "    <tr>\n",
       "      <th>1000012776</th>\n",
       "      <td>AMENAGEMENT URBAIN - VOIRIE</td>\n",
       "      <td>AMENAGEMENT URBAIN</td>\n",
       "      <td>ABRI VELO - ABRI MOTO</td>\n",
       "      <td>2</td>\n",
       "      <td>1</td>\n",
       "      <td>1</td>\n",
       "    </tr>\n",
       "    <tr>\n",
       "      <th>1000012768</th>\n",
       "      <td>AMENAGEMENT URBAIN - VOIRIE</td>\n",
       "      <td>AMENAGEMENT URBAIN</td>\n",
       "      <td>FONTAINE A EAU</td>\n",
       "      <td>3</td>\n",
       "      <td>1</td>\n",
       "      <td>1</td>\n",
       "    </tr>\n",
       "    <tr>\n",
       "      <th>1000012755</th>\n",
       "      <td>AMENAGEMENT URBAIN - VOIRIE</td>\n",
       "      <td>SIGNALETIQUE</td>\n",
       "      <td>PANNEAU D'INFORMATION EXTERIEUR</td>\n",
       "      <td>4</td>\n",
       "      <td>1</td>\n",
       "      <td>2</td>\n",
       "    </tr>\n",
       "  </tbody>\n",
       "</table>\n",
       "</div>"
      ],
      "text/plain": [
       "                         category_level1     category_level2  \\\n",
       "category_id                                                    \n",
       "1000021794         ABONNEMENT / SERVICES      CARTE PREPAYEE   \n",
       "1000012764   AMENAGEMENT URBAIN - VOIRIE  AMENAGEMENT URBAIN   \n",
       "1000012776   AMENAGEMENT URBAIN - VOIRIE  AMENAGEMENT URBAIN   \n",
       "1000012768   AMENAGEMENT URBAIN - VOIRIE  AMENAGEMENT URBAIN   \n",
       "1000012755   AMENAGEMENT URBAIN - VOIRIE        SIGNALETIQUE   \n",
       "\n",
       "                             category_level3  category_idx  cat1_idx  cat2_idx  \n",
       "category_id                                                                     \n",
       "1000021794         CARTE PREPAYEE MULTIMEDIA             0         0         0  \n",
       "1000012764                       ABRI FUMEUR             1         1         1  \n",
       "1000012776             ABRI VELO - ABRI MOTO             2         1         1  \n",
       "1000012768                    FONTAINE A EAU             3         1         1  \n",
       "1000012755   PANNEAU D'INFORMATION EXTERIEUR             4         1         2  "
      ]
     },
     "execution_count": 13,
     "metadata": {},
     "output_type": "execute_result"
    }
   ],
   "source": [
    "categories_df = categories_df.set_index(\"category_id\")\n",
    "categories_df.head()"
   ]
  },
  {
   "cell_type": "code",
   "execution_count": 14,
   "metadata": {
    "collapsed": true
   },
   "outputs": [],
   "source": [
    "# Write dataframe to CSV file\n",
    "categories_df.to_csv(\"categories.csv\")"
   ]
  },
  {
   "cell_type": "markdown",
   "metadata": {
    "_cell_guid": "92491e45-56da-4d64-a887-6cf7a8c8cd30",
    "_uuid": "05ccbed26b3518d90ddcc9c26668f6008b89cb0f"
   },
   "source": [
    "Create dictionaries for quick lookup of `category_id` to `category_idx` mapping."
   ]
  },
  {
   "cell_type": "code",
   "execution_count": 15,
   "metadata": {
    "_cell_guid": "7aad702e-68b9-4c94-a6e7-910283629011",
    "_uuid": "1c40f20530ad22246d6941845c89b210b4a85368",
    "collapsed": true
   },
   "outputs": [],
   "source": [
    "def make_category_tables():\n",
    "    cat2idx = {}\n",
    "    idx2cat = {}\n",
    "    for ir in categories_df.itertuples():\n",
    "        category_id = ir[0]\n",
    "        #category_idx = ir[4] # Category level3\n",
    "        category_idx = ir[5] # Category level1\n",
    "        #category_idx = ir[6] # Category level2 \n",
    "        cat2idx[category_id] = category_idx\n",
    "        idx2cat[category_idx] = category_id\n",
    "    return cat2idx, idx2cat"
   ]
  },
  {
   "cell_type": "code",
   "execution_count": 16,
   "metadata": {
    "_cell_guid": "99c21338-72c9-406a-bc3a-ba33d7310086",
    "_uuid": "b68af0dda86d6c6af127a5bf634778fb63bda958",
    "collapsed": true
   },
   "outputs": [],
   "source": [
    "cat2idx, idx2cat = make_category_tables()"
   ]
  },
  {
   "cell_type": "code",
   "execution_count": 17,
   "metadata": {
    "_cell_guid": "530dac1b-2891-42ff-ab7f-ea1fe8ef01e6",
    "_uuid": "3fff32a945788e89e676c68fc20ff138ac72f754"
   },
   "outputs": [
    {
     "data": {
      "text/plain": [
       "(1, 1000020743)"
      ]
     },
     "execution_count": 17,
     "metadata": {},
     "output_type": "execute_result"
    }
   ],
   "source": [
    "# Test if it works:\n",
    "cat2idx[1000012755], idx2cat[4]"
   ]
  },
  {
   "cell_type": "code",
   "execution_count": 18,
   "metadata": {
    "collapsed": true
   },
   "outputs": [],
   "source": [
    "# Garbage collection\n",
    "# https://stackoverflow.com/questions/32247643/how-to-delete-multiple-pandas-python-dataframes-from-memory-to-save-ram\n",
    "list = [cat1_level_df, cat2_level_df]\n",
    "del cat1_level_df, cat2_level_df\n",
    "del list"
   ]
  },
  {
   "cell_type": "markdown",
   "metadata": {
    "_cell_guid": "d4518fba-7f26-45c1-ae3f-daf72ffbbee9",
    "_uuid": "51f82526d1ce6b7ab0b4d5b370f0f2f9601dbc66"
   },
   "source": [
    "## Read the BSON files\n",
    "\n",
    "We store the offsets and lengths of all items, allowing us random access to the items later.\n",
    "\n",
    "Inspired by code from: https://www.kaggle.com/vfdev5/random-item-access\n",
    "\n",
    "Note: this takes a few minutes to execute, but we only have to do it once (we'll save the table to a CSV file afterwards)."
   ]
  },
  {
   "cell_type": "code",
   "execution_count": 19,
   "metadata": {
    "_cell_guid": "2419b6a8-d141-4f5d-a868-778e0483fc40",
    "_uuid": "50f1fa1bc0a9c0597ce90d7c7daf2d0b7a788467",
    "collapsed": true
   },
   "outputs": [],
   "source": [
    "def read_bson(bson_path, num_records, with_categories):\n",
    "    rows = {}\n",
    "    with open(bson_path, \"rb\") as f, tqdm(total=num_records) as pbar:\n",
    "        offset = 0\n",
    "        while True:\n",
    "            item_length_bytes = f.read(4)\n",
    "            if len(item_length_bytes) == 0:\n",
    "                break\n",
    "\n",
    "            length = struct.unpack(\"<i\", item_length_bytes)[0]\n",
    "\n",
    "            f.seek(offset)\n",
    "            item_data = f.read(length)\n",
    "            assert len(item_data) == length\n",
    "\n",
    "            item = bson.BSON.decode(item_data)\n",
    "            product_id = item[\"_id\"]\n",
    "            num_imgs = len(item[\"imgs\"])\n",
    "\n",
    "            row = [num_imgs, offset, length]\n",
    "            if with_categories:\n",
    "                row += [item[\"category_id\"]]\n",
    "            rows[product_id] = row\n",
    "\n",
    "            offset += length\n",
    "            f.seek(offset)\n",
    "            pbar.update()\n",
    "\n",
    "    columns = [\"num_imgs\", \"offset\", \"length\"]\n",
    "    if with_categories:\n",
    "        columns += [\"category_id\"]\n",
    "\n",
    "    df = pd.DataFrame.from_dict(rows, orient=\"index\")\n",
    "    df.index.name = \"product_id\"\n",
    "    df.columns = columns\n",
    "    df.sort_index(inplace=True)\n",
    "    return df"
   ]
  },
  {
   "cell_type": "code",
   "execution_count": 20,
   "metadata": {
    "_cell_guid": "54c03644-11a0-425b-bf2e-b412f087a390",
    "_uuid": "3607b538f418145677d61bc80f6a0b6e97bd1c95"
   },
   "outputs": [
    {
     "name": "stderr",
     "output_type": "stream",
     "text": [
      "100%|█████████████████████████████| 7069896/7069896 [09:45<00:00, 12065.06it/s]\n"
     ]
    },
    {
     "name": "stdout",
     "output_type": "stream",
     "text": [
      "Wall time: 10min 4s\n"
     ]
    }
   ],
   "source": [
    "%time train_offsets_df = read_bson(train_bson_path, num_records=num_train_products, with_categories=True)"
   ]
  },
  {
   "cell_type": "code",
   "execution_count": 21,
   "metadata": {
    "_cell_guid": "4e6d4a2e-2014-4610-b624-0a5de1ae803e",
    "_uuid": "507ae4e5fceec73fdfb08494e0dcde86b0d62a29"
   },
   "outputs": [
    {
     "data": {
      "text/html": [
       "<div>\n",
       "<style>\n",
       "    .dataframe thead tr:only-child th {\n",
       "        text-align: right;\n",
       "    }\n",
       "\n",
       "    .dataframe thead th {\n",
       "        text-align: left;\n",
       "    }\n",
       "\n",
       "    .dataframe tbody tr th {\n",
       "        vertical-align: top;\n",
       "    }\n",
       "</style>\n",
       "<table border=\"1\" class=\"dataframe\">\n",
       "  <thead>\n",
       "    <tr style=\"text-align: right;\">\n",
       "      <th></th>\n",
       "      <th>num_imgs</th>\n",
       "      <th>offset</th>\n",
       "      <th>length</th>\n",
       "      <th>category_id</th>\n",
       "    </tr>\n",
       "    <tr>\n",
       "      <th>product_id</th>\n",
       "      <th></th>\n",
       "      <th></th>\n",
       "      <th></th>\n",
       "      <th></th>\n",
       "    </tr>\n",
       "  </thead>\n",
       "  <tbody>\n",
       "    <tr>\n",
       "      <th>0</th>\n",
       "      <td>1</td>\n",
       "      <td>0</td>\n",
       "      <td>6979</td>\n",
       "      <td>1000010653</td>\n",
       "    </tr>\n",
       "    <tr>\n",
       "      <th>1</th>\n",
       "      <td>1</td>\n",
       "      <td>6979</td>\n",
       "      <td>7318</td>\n",
       "      <td>1000010653</td>\n",
       "    </tr>\n",
       "    <tr>\n",
       "      <th>2</th>\n",
       "      <td>1</td>\n",
       "      <td>14297</td>\n",
       "      <td>5455</td>\n",
       "      <td>1000004079</td>\n",
       "    </tr>\n",
       "    <tr>\n",
       "      <th>3</th>\n",
       "      <td>1</td>\n",
       "      <td>19752</td>\n",
       "      <td>4580</td>\n",
       "      <td>1000004141</td>\n",
       "    </tr>\n",
       "    <tr>\n",
       "      <th>4</th>\n",
       "      <td>1</td>\n",
       "      <td>24332</td>\n",
       "      <td>6346</td>\n",
       "      <td>1000015539</td>\n",
       "    </tr>\n",
       "  </tbody>\n",
       "</table>\n",
       "</div>"
      ],
      "text/plain": [
       "            num_imgs  offset  length  category_id\n",
       "product_id                                       \n",
       "0                  1       0    6979   1000010653\n",
       "1                  1    6979    7318   1000010653\n",
       "2                  1   14297    5455   1000004079\n",
       "3                  1   19752    4580   1000004141\n",
       "4                  1   24332    6346   1000015539"
      ]
     },
     "execution_count": 21,
     "metadata": {},
     "output_type": "execute_result"
    }
   ],
   "source": [
    "train_offsets_df.head()"
   ]
  },
  {
   "cell_type": "code",
   "execution_count": 22,
   "metadata": {
    "_cell_guid": "8d24b1ed-8f75-4e29-a70d-627ae11deb45",
    "_uuid": "3e5daf1253397d05065568ad3ce69be73042cc59",
    "collapsed": true
   },
   "outputs": [],
   "source": [
    "train_offsets_df.to_csv(\"train_offsets.csv\")"
   ]
  },
  {
   "cell_type": "code",
   "execution_count": 24,
   "metadata": {
    "_cell_guid": "0c331f10-e2af-43ee-8bcd-1b4058430cbd",
    "_uuid": "254a22b36211385bc943f1c3d10914f75548b5e0"
   },
   "outputs": [
    {
     "data": {
      "text/plain": [
       "7069896"
      ]
     },
     "execution_count": 24,
     "metadata": {},
     "output_type": "execute_result"
    }
   ],
   "source": [
    "# How many products?\n",
    "len(train_offsets_df)"
   ]
  },
  {
   "cell_type": "code",
   "execution_count": 25,
   "metadata": {
    "_cell_guid": "c357322f-5026-4454-9c0f-a2d40b72c99a",
    "_uuid": "9aa11d00937321bcfe68f80be0cc17a2cab39e65"
   },
   "outputs": [
    {
     "data": {
      "text/plain": [
       "5270"
      ]
     },
     "execution_count": 25,
     "metadata": {},
     "output_type": "execute_result"
    }
   ],
   "source": [
    "# How many categories?\n",
    "len(train_offsets_df[\"category_id\"].unique())"
   ]
  },
  {
   "cell_type": "code",
   "execution_count": 26,
   "metadata": {
    "_cell_guid": "7eac8e95-7930-4e07-a869-5fcd0eb8e1a1",
    "_uuid": "f1ed766c559b2b7848e452b0b94421c3d4767c81"
   },
   "outputs": [
    {
     "data": {
      "text/plain": [
       "12371293"
      ]
     },
     "execution_count": 26,
     "metadata": {},
     "output_type": "execute_result"
    }
   ],
   "source": [
    "# How many images in total?\n",
    "train_offsets_df[\"num_imgs\"].sum()"
   ]
  },
  {
   "cell_type": "markdown",
   "metadata": {
    "_cell_guid": "663b73b1-4de8-4adc-98b8-475403bd752d",
    "_uuid": "39e87235e9b8416ccbf6ea0909be65cfe6d00b65"
   },
   "source": [
    "## Create a random train/validation split\n",
    "\n",
    "We split on products, not on individual images. Since some of the categories only have a few products, we do the split separately for each category.\n",
    "\n",
    "This creates two new tables, one for the training images and one for the validation images. There is a row for every single image, so if a product has more than one image it occurs more than once in the table."
   ]
  },
  {
   "cell_type": "code",
   "execution_count": 67,
   "metadata": {
    "_cell_guid": "24e8db94-3a2b-453d-a8ac-1de2460ed129",
    "_uuid": "4d702f77af77901c7ed547eebb1da9146afea667",
    "collapsed": true
   },
   "outputs": [],
   "source": [
    "def make_val_set(df, split_percentage=0.2, drop_percentage=0.):\n",
    "    # Find the product_ids for each category.\n",
    "    category_dict = defaultdict(list)\n",
    "    for ir in tqdm(df.itertuples()):\n",
    "        category_dict[ir[4]].append(ir[0])\n",
    "\n",
    "    train_list = []\n",
    "    val_list = []\n",
    "    with tqdm(total=len(df)) as pbar:\n",
    "        for category_id, product_ids in category_dict.items():\n",
    "            category_idx = cat2idx[category_id]\n",
    "\n",
    "            # Randomly remove products to make the dataset smaller.\n",
    "            keep_size = int(len(product_ids) * (1. - drop_percentage))\n",
    "            if keep_size < len(product_ids):\n",
    "                product_ids = np.random.choice(product_ids, keep_size, replace=False)\n",
    "\n",
    "            # Randomly choose the products that become part of the validation set.\n",
    "            val_size = int(len(product_ids) * split_percentage)\n",
    "            if val_size > 0:\n",
    "                val_ids = np.random.choice(product_ids, val_size, replace=False)\n",
    "            else:\n",
    "                val_ids = []\n",
    "\n",
    "            # Create a new row for each image.\n",
    "            for product_id in product_ids:\n",
    "                row = [product_id, category_idx, category_id]\n",
    "                for img_idx in range(df.loc[product_id, \"num_imgs\"]):\n",
    "                    if product_id in val_ids:\n",
    "                        val_list.append(row + [img_idx])\n",
    "                    else:\n",
    "                        train_list.append(row + [img_idx])\n",
    "                pbar.update()\n",
    "                \n",
    "    columns = [\"product_id\", \"category_idx\", \"category_id\", \"img_idx\"]\n",
    "    train_df = pd.DataFrame(train_list, columns=columns)\n",
    "    val_df = pd.DataFrame(val_list, columns=columns)   \n",
    "    return train_df, val_df"
   ]
  },
  {
   "cell_type": "markdown",
   "metadata": {
    "_cell_guid": "8df853cd-b2e5-4c05-8162-e332c5995bdc",
    "_uuid": "6e3c437a8169a31e9e4f4170f70d48668f8f0934"
   },
   "source": [
    "Create a 80/20 split. Also drop 90% of all products to make the dataset more manageable. (Note: if `drop_percentage` > 0, the progress bar doesn't go all the way.)"
   ]
  },
  {
   "cell_type": "code",
   "execution_count": 68,
   "metadata": {
    "_cell_guid": "a27d017f-8ac2-4480-8b48-7d092be8de82",
    "_uuid": "586a0ad09c6ce8af090277d0ac930ba53eb3a8d3"
   },
   "outputs": [
    {
     "name": "stderr",
     "output_type": "stream",
     "text": [
      "7069896it [00:24, 286271.53it/s]\n",
      "  5%|█▌                             | 351081/7069896 [00:44<14:16, 7846.71it/s]\n"
     ]
    }
   ],
   "source": [
    "train_images_df, val_images_df = make_val_set(train_offsets_df, split_percentage=0.2, \n",
    "                                              drop_percentage=0.95)"
   ]
  },
  {
   "cell_type": "code",
   "execution_count": 29,
   "metadata": {},
   "outputs": [
    {
     "data": {
      "text/html": [
       "<div>\n",
       "<style>\n",
       "    .dataframe thead tr:only-child th {\n",
       "        text-align: right;\n",
       "    }\n",
       "\n",
       "    .dataframe thead th {\n",
       "        text-align: left;\n",
       "    }\n",
       "\n",
       "    .dataframe tbody tr th {\n",
       "        vertical-align: top;\n",
       "    }\n",
       "</style>\n",
       "<table border=\"1\" class=\"dataframe\">\n",
       "  <thead>\n",
       "    <tr style=\"text-align: right;\">\n",
       "      <th></th>\n",
       "      <th>product_id</th>\n",
       "      <th>category_idx</th>\n",
       "      <th>category_id</th>\n",
       "      <th>img_idx</th>\n",
       "    </tr>\n",
       "  </thead>\n",
       "  <tbody>\n",
       "    <tr>\n",
       "      <th>0</th>\n",
       "      <td>23073092</td>\n",
       "      <td>45</td>\n",
       "      <td>1000010653</td>\n",
       "      <td>0</td>\n",
       "    </tr>\n",
       "    <tr>\n",
       "      <th>1</th>\n",
       "      <td>12122</td>\n",
       "      <td>45</td>\n",
       "      <td>1000010653</td>\n",
       "      <td>0</td>\n",
       "    </tr>\n",
       "    <tr>\n",
       "      <th>2</th>\n",
       "      <td>35789</td>\n",
       "      <td>45</td>\n",
       "      <td>1000010653</td>\n",
       "      <td>0</td>\n",
       "    </tr>\n",
       "    <tr>\n",
       "      <th>3</th>\n",
       "      <td>35789</td>\n",
       "      <td>45</td>\n",
       "      <td>1000010653</td>\n",
       "      <td>1</td>\n",
       "    </tr>\n",
       "    <tr>\n",
       "      <th>4</th>\n",
       "      <td>35789</td>\n",
       "      <td>45</td>\n",
       "      <td>1000010653</td>\n",
       "      <td>2</td>\n",
       "    </tr>\n",
       "  </tbody>\n",
       "</table>\n",
       "</div>"
      ],
      "text/plain": [
       "   product_id  category_idx  category_id  img_idx\n",
       "0    23073092            45   1000010653        0\n",
       "1       12122            45   1000010653        0\n",
       "2       35789            45   1000010653        0\n",
       "3       35789            45   1000010653        1\n",
       "4       35789            45   1000010653        2"
      ]
     },
     "execution_count": 29,
     "metadata": {},
     "output_type": "execute_result"
    }
   ],
   "source": [
    "train_images_df.head()"
   ]
  },
  {
   "cell_type": "code",
   "execution_count": 30,
   "metadata": {},
   "outputs": [
    {
     "data": {
      "text/plain": [
       "5270"
      ]
     },
     "execution_count": 30,
     "metadata": {},
     "output_type": "execute_result"
    }
   ],
   "source": [
    "len(train_images_df.category_id.unique())"
   ]
  },
  {
   "cell_type": "code",
   "execution_count": 31,
   "metadata": {
    "collapsed": true
   },
   "outputs": [],
   "source": [
    "categories_df['category_id'] = categories_df.index"
   ]
  },
  {
   "cell_type": "code",
   "execution_count": 32,
   "metadata": {},
   "outputs": [
    {
     "data": {
      "text/html": [
       "<div>\n",
       "<style>\n",
       "    .dataframe thead tr:only-child th {\n",
       "        text-align: right;\n",
       "    }\n",
       "\n",
       "    .dataframe thead th {\n",
       "        text-align: left;\n",
       "    }\n",
       "\n",
       "    .dataframe tbody tr th {\n",
       "        vertical-align: top;\n",
       "    }\n",
       "</style>\n",
       "<table border=\"1\" class=\"dataframe\">\n",
       "  <thead>\n",
       "    <tr style=\"text-align: right;\">\n",
       "      <th></th>\n",
       "      <th>category_level1</th>\n",
       "      <th>category_level2</th>\n",
       "      <th>category_level3</th>\n",
       "      <th>category_idx</th>\n",
       "      <th>cat1_idx</th>\n",
       "      <th>cat2_idx</th>\n",
       "      <th>category_id</th>\n",
       "    </tr>\n",
       "    <tr>\n",
       "      <th>category_id</th>\n",
       "      <th></th>\n",
       "      <th></th>\n",
       "      <th></th>\n",
       "      <th></th>\n",
       "      <th></th>\n",
       "      <th></th>\n",
       "      <th></th>\n",
       "    </tr>\n",
       "  </thead>\n",
       "  <tbody>\n",
       "    <tr>\n",
       "      <th>1000021794</th>\n",
       "      <td>ABONNEMENT / SERVICES</td>\n",
       "      <td>CARTE PREPAYEE</td>\n",
       "      <td>CARTE PREPAYEE MULTIMEDIA</td>\n",
       "      <td>0</td>\n",
       "      <td>0</td>\n",
       "      <td>0</td>\n",
       "      <td>1000021794</td>\n",
       "    </tr>\n",
       "    <tr>\n",
       "      <th>1000012764</th>\n",
       "      <td>AMENAGEMENT URBAIN - VOIRIE</td>\n",
       "      <td>AMENAGEMENT URBAIN</td>\n",
       "      <td>ABRI FUMEUR</td>\n",
       "      <td>1</td>\n",
       "      <td>1</td>\n",
       "      <td>1</td>\n",
       "      <td>1000012764</td>\n",
       "    </tr>\n",
       "    <tr>\n",
       "      <th>1000012776</th>\n",
       "      <td>AMENAGEMENT URBAIN - VOIRIE</td>\n",
       "      <td>AMENAGEMENT URBAIN</td>\n",
       "      <td>ABRI VELO - ABRI MOTO</td>\n",
       "      <td>2</td>\n",
       "      <td>1</td>\n",
       "      <td>1</td>\n",
       "      <td>1000012776</td>\n",
       "    </tr>\n",
       "    <tr>\n",
       "      <th>1000012768</th>\n",
       "      <td>AMENAGEMENT URBAIN - VOIRIE</td>\n",
       "      <td>AMENAGEMENT URBAIN</td>\n",
       "      <td>FONTAINE A EAU</td>\n",
       "      <td>3</td>\n",
       "      <td>1</td>\n",
       "      <td>1</td>\n",
       "      <td>1000012768</td>\n",
       "    </tr>\n",
       "    <tr>\n",
       "      <th>1000012755</th>\n",
       "      <td>AMENAGEMENT URBAIN - VOIRIE</td>\n",
       "      <td>SIGNALETIQUE</td>\n",
       "      <td>PANNEAU D'INFORMATION EXTERIEUR</td>\n",
       "      <td>4</td>\n",
       "      <td>1</td>\n",
       "      <td>2</td>\n",
       "      <td>1000012755</td>\n",
       "    </tr>\n",
       "  </tbody>\n",
       "</table>\n",
       "</div>"
      ],
      "text/plain": [
       "                         category_level1     category_level2  \\\n",
       "category_id                                                    \n",
       "1000021794         ABONNEMENT / SERVICES      CARTE PREPAYEE   \n",
       "1000012764   AMENAGEMENT URBAIN - VOIRIE  AMENAGEMENT URBAIN   \n",
       "1000012776   AMENAGEMENT URBAIN - VOIRIE  AMENAGEMENT URBAIN   \n",
       "1000012768   AMENAGEMENT URBAIN - VOIRIE  AMENAGEMENT URBAIN   \n",
       "1000012755   AMENAGEMENT URBAIN - VOIRIE        SIGNALETIQUE   \n",
       "\n",
       "                             category_level3  category_idx  cat1_idx  \\\n",
       "category_id                                                            \n",
       "1000021794         CARTE PREPAYEE MULTIMEDIA             0         0   \n",
       "1000012764                       ABRI FUMEUR             1         1   \n",
       "1000012776             ABRI VELO - ABRI MOTO             2         1   \n",
       "1000012768                    FONTAINE A EAU             3         1   \n",
       "1000012755   PANNEAU D'INFORMATION EXTERIEUR             4         1   \n",
       "\n",
       "             cat2_idx  category_id  \n",
       "category_id                         \n",
       "1000021794          0   1000021794  \n",
       "1000012764          1   1000012764  \n",
       "1000012776          1   1000012776  \n",
       "1000012768          1   1000012768  \n",
       "1000012755          2   1000012755  "
      ]
     },
     "execution_count": 32,
     "metadata": {},
     "output_type": "execute_result"
    }
   ],
   "source": [
    "categories_df.head()"
   ]
  },
  {
   "cell_type": "code",
   "execution_count": 33,
   "metadata": {},
   "outputs": [
    {
     "data": {
      "text/html": [
       "<div>\n",
       "<style>\n",
       "    .dataframe thead tr:only-child th {\n",
       "        text-align: right;\n",
       "    }\n",
       "\n",
       "    .dataframe thead th {\n",
       "        text-align: left;\n",
       "    }\n",
       "\n",
       "    .dataframe tbody tr th {\n",
       "        vertical-align: top;\n",
       "    }\n",
       "</style>\n",
       "<table border=\"1\" class=\"dataframe\">\n",
       "  <thead>\n",
       "    <tr style=\"text-align: right;\">\n",
       "      <th></th>\n",
       "      <th>product_id</th>\n",
       "      <th>category_idx_x</th>\n",
       "      <th>category_id</th>\n",
       "      <th>img_idx</th>\n",
       "      <th>category_level1</th>\n",
       "      <th>category_level2</th>\n",
       "      <th>category_level3</th>\n",
       "      <th>category_idx_y</th>\n",
       "      <th>cat1_idx</th>\n",
       "      <th>cat2_idx</th>\n",
       "    </tr>\n",
       "  </thead>\n",
       "  <tbody>\n",
       "    <tr>\n",
       "      <th>0</th>\n",
       "      <td>23073092</td>\n",
       "      <td>45</td>\n",
       "      <td>1000010653</td>\n",
       "      <td>0</td>\n",
       "      <td>TELEPHONIE - GPS</td>\n",
       "      <td>ACCESSOIRE TELEPHONE</td>\n",
       "      <td>COQUE TELEPHONE - BUMPER TELEPHONE</td>\n",
       "      <td>5055</td>\n",
       "      <td>45</td>\n",
       "      <td>455</td>\n",
       "    </tr>\n",
       "    <tr>\n",
       "      <th>1</th>\n",
       "      <td>12122</td>\n",
       "      <td>45</td>\n",
       "      <td>1000010653</td>\n",
       "      <td>0</td>\n",
       "      <td>TELEPHONIE - GPS</td>\n",
       "      <td>ACCESSOIRE TELEPHONE</td>\n",
       "      <td>COQUE TELEPHONE - BUMPER TELEPHONE</td>\n",
       "      <td>5055</td>\n",
       "      <td>45</td>\n",
       "      <td>455</td>\n",
       "    </tr>\n",
       "    <tr>\n",
       "      <th>2</th>\n",
       "      <td>35789</td>\n",
       "      <td>45</td>\n",
       "      <td>1000010653</td>\n",
       "      <td>0</td>\n",
       "      <td>TELEPHONIE - GPS</td>\n",
       "      <td>ACCESSOIRE TELEPHONE</td>\n",
       "      <td>COQUE TELEPHONE - BUMPER TELEPHONE</td>\n",
       "      <td>5055</td>\n",
       "      <td>45</td>\n",
       "      <td>455</td>\n",
       "    </tr>\n",
       "    <tr>\n",
       "      <th>3</th>\n",
       "      <td>35789</td>\n",
       "      <td>45</td>\n",
       "      <td>1000010653</td>\n",
       "      <td>1</td>\n",
       "      <td>TELEPHONIE - GPS</td>\n",
       "      <td>ACCESSOIRE TELEPHONE</td>\n",
       "      <td>COQUE TELEPHONE - BUMPER TELEPHONE</td>\n",
       "      <td>5055</td>\n",
       "      <td>45</td>\n",
       "      <td>455</td>\n",
       "    </tr>\n",
       "    <tr>\n",
       "      <th>4</th>\n",
       "      <td>35789</td>\n",
       "      <td>45</td>\n",
       "      <td>1000010653</td>\n",
       "      <td>2</td>\n",
       "      <td>TELEPHONIE - GPS</td>\n",
       "      <td>ACCESSOIRE TELEPHONE</td>\n",
       "      <td>COQUE TELEPHONE - BUMPER TELEPHONE</td>\n",
       "      <td>5055</td>\n",
       "      <td>45</td>\n",
       "      <td>455</td>\n",
       "    </tr>\n",
       "  </tbody>\n",
       "</table>\n",
       "</div>"
      ],
      "text/plain": [
       "   product_id  category_idx_x  category_id  img_idx   category_level1  \\\n",
       "0    23073092              45   1000010653        0  TELEPHONIE - GPS   \n",
       "1       12122              45   1000010653        0  TELEPHONIE - GPS   \n",
       "2       35789              45   1000010653        0  TELEPHONIE - GPS   \n",
       "3       35789              45   1000010653        1  TELEPHONIE - GPS   \n",
       "4       35789              45   1000010653        2  TELEPHONIE - GPS   \n",
       "\n",
       "        category_level2                     category_level3  category_idx_y  \\\n",
       "0  ACCESSOIRE TELEPHONE  COQUE TELEPHONE - BUMPER TELEPHONE            5055   \n",
       "1  ACCESSOIRE TELEPHONE  COQUE TELEPHONE - BUMPER TELEPHONE            5055   \n",
       "2  ACCESSOIRE TELEPHONE  COQUE TELEPHONE - BUMPER TELEPHONE            5055   \n",
       "3  ACCESSOIRE TELEPHONE  COQUE TELEPHONE - BUMPER TELEPHONE            5055   \n",
       "4  ACCESSOIRE TELEPHONE  COQUE TELEPHONE - BUMPER TELEPHONE            5055   \n",
       "\n",
       "   cat1_idx  cat2_idx  \n",
       "0        45       455  \n",
       "1        45       455  \n",
       "2        45       455  \n",
       "3        45       455  \n",
       "4        45       455  "
      ]
     },
     "execution_count": 33,
     "metadata": {},
     "output_type": "execute_result"
    }
   ],
   "source": [
    "train_images_df = pd.merge(train_images_df, categories_df, on ='category_id', how='inner')\n",
    "train_images_df.head()"
   ]
  },
  {
   "cell_type": "code",
   "execution_count": 34,
   "metadata": {},
   "outputs": [
    {
     "data": {
      "text/html": [
       "<div>\n",
       "<style>\n",
       "    .dataframe thead tr:only-child th {\n",
       "        text-align: right;\n",
       "    }\n",
       "\n",
       "    .dataframe thead th {\n",
       "        text-align: left;\n",
       "    }\n",
       "\n",
       "    .dataframe tbody tr th {\n",
       "        vertical-align: top;\n",
       "    }\n",
       "</style>\n",
       "<table border=\"1\" class=\"dataframe\">\n",
       "  <thead>\n",
       "    <tr style=\"text-align: right;\">\n",
       "      <th></th>\n",
       "      <th>product_id</th>\n",
       "      <th>category_idx_x</th>\n",
       "      <th>category_id</th>\n",
       "      <th>img_idx</th>\n",
       "      <th>category_level1</th>\n",
       "      <th>category_level2</th>\n",
       "      <th>category_level3</th>\n",
       "      <th>category_idx_y</th>\n",
       "      <th>cat1_idx</th>\n",
       "      <th>cat2_idx</th>\n",
       "    </tr>\n",
       "  </thead>\n",
       "  <tbody>\n",
       "    <tr>\n",
       "      <th>0</th>\n",
       "      <td>7054049</td>\n",
       "      <td>45</td>\n",
       "      <td>1000010653</td>\n",
       "      <td>0</td>\n",
       "      <td>TELEPHONIE - GPS</td>\n",
       "      <td>ACCESSOIRE TELEPHONE</td>\n",
       "      <td>COQUE TELEPHONE - BUMPER TELEPHONE</td>\n",
       "      <td>5055</td>\n",
       "      <td>45</td>\n",
       "      <td>455</td>\n",
       "    </tr>\n",
       "    <tr>\n",
       "      <th>1</th>\n",
       "      <td>8087964</td>\n",
       "      <td>45</td>\n",
       "      <td>1000010653</td>\n",
       "      <td>0</td>\n",
       "      <td>TELEPHONIE - GPS</td>\n",
       "      <td>ACCESSOIRE TELEPHONE</td>\n",
       "      <td>COQUE TELEPHONE - BUMPER TELEPHONE</td>\n",
       "      <td>5055</td>\n",
       "      <td>45</td>\n",
       "      <td>455</td>\n",
       "    </tr>\n",
       "    <tr>\n",
       "      <th>2</th>\n",
       "      <td>7121074</td>\n",
       "      <td>45</td>\n",
       "      <td>1000010653</td>\n",
       "      <td>0</td>\n",
       "      <td>TELEPHONIE - GPS</td>\n",
       "      <td>ACCESSOIRE TELEPHONE</td>\n",
       "      <td>COQUE TELEPHONE - BUMPER TELEPHONE</td>\n",
       "      <td>5055</td>\n",
       "      <td>45</td>\n",
       "      <td>455</td>\n",
       "    </tr>\n",
       "    <tr>\n",
       "      <th>3</th>\n",
       "      <td>23140133</td>\n",
       "      <td>45</td>\n",
       "      <td>1000010653</td>\n",
       "      <td>0</td>\n",
       "      <td>TELEPHONIE - GPS</td>\n",
       "      <td>ACCESSOIRE TELEPHONE</td>\n",
       "      <td>COQUE TELEPHONE - BUMPER TELEPHONE</td>\n",
       "      <td>5055</td>\n",
       "      <td>45</td>\n",
       "      <td>455</td>\n",
       "    </tr>\n",
       "    <tr>\n",
       "      <th>4</th>\n",
       "      <td>9497901</td>\n",
       "      <td>45</td>\n",
       "      <td>1000010653</td>\n",
       "      <td>0</td>\n",
       "      <td>TELEPHONIE - GPS</td>\n",
       "      <td>ACCESSOIRE TELEPHONE</td>\n",
       "      <td>COQUE TELEPHONE - BUMPER TELEPHONE</td>\n",
       "      <td>5055</td>\n",
       "      <td>45</td>\n",
       "      <td>455</td>\n",
       "    </tr>\n",
       "  </tbody>\n",
       "</table>\n",
       "</div>"
      ],
      "text/plain": [
       "   product_id  category_idx_x  category_id  img_idx   category_level1  \\\n",
       "0     7054049              45   1000010653        0  TELEPHONIE - GPS   \n",
       "1     8087964              45   1000010653        0  TELEPHONIE - GPS   \n",
       "2     7121074              45   1000010653        0  TELEPHONIE - GPS   \n",
       "3    23140133              45   1000010653        0  TELEPHONIE - GPS   \n",
       "4     9497901              45   1000010653        0  TELEPHONIE - GPS   \n",
       "\n",
       "        category_level2                     category_level3  category_idx_y  \\\n",
       "0  ACCESSOIRE TELEPHONE  COQUE TELEPHONE - BUMPER TELEPHONE            5055   \n",
       "1  ACCESSOIRE TELEPHONE  COQUE TELEPHONE - BUMPER TELEPHONE            5055   \n",
       "2  ACCESSOIRE TELEPHONE  COQUE TELEPHONE - BUMPER TELEPHONE            5055   \n",
       "3  ACCESSOIRE TELEPHONE  COQUE TELEPHONE - BUMPER TELEPHONE            5055   \n",
       "4  ACCESSOIRE TELEPHONE  COQUE TELEPHONE - BUMPER TELEPHONE            5055   \n",
       "\n",
       "   cat1_idx  cat2_idx  \n",
       "0        45       455  \n",
       "1        45       455  \n",
       "2        45       455  \n",
       "3        45       455  \n",
       "4        45       455  "
      ]
     },
     "execution_count": 34,
     "metadata": {},
     "output_type": "execute_result"
    }
   ],
   "source": [
    "val_images_df = pd.merge(val_images_df, categories_df, on='category_id', how='inner')\n",
    "val_images_df.head()"
   ]
  },
  {
   "cell_type": "code",
   "execution_count": 35,
   "metadata": {},
   "outputs": [
    {
     "data": {
      "text/plain": [
       "array([45, 22, 10,  6, 35, 47, 27, 14,  5,  7, 29, 17, 37, 43, 30,  9, 11,\n",
       "       25, 24, 36, 21, 32,  4, 46, 44, 41,  8, 34,  2, 16, 28, 23, 42, 31,\n",
       "       13, 26, 48, 33, 15, 19, 38, 18,  1, 12, 20, 39,  3,  0, 40], dtype=int64)"
      ]
     },
     "execution_count": 35,
     "metadata": {},
     "output_type": "execute_result"
    }
   ],
   "source": [
    "train_images_df.cat1_idx.unique()"
   ]
  },
  {
   "cell_type": "code",
   "execution_count": 36,
   "metadata": {},
   "outputs": [
    {
     "data": {
      "text/plain": [
       "(1979978, 489930)"
      ]
     },
     "execution_count": 36,
     "metadata": {},
     "output_type": "execute_result"
    }
   ],
   "source": [
    "#train_new['product_id'].count\n",
    "len(train_images_df),len(val_images_df)"
   ]
  },
  {
   "cell_type": "code",
   "execution_count": 37,
   "metadata": {},
   "outputs": [
    {
     "data": {
      "text/plain": [
       "TELEPHONIE - GPS                              196514\n",
       "AUTO - MOTO                                   191050\n",
       "INFORMATIQUE                                  180089\n",
       "DECO - LINGE - LUMINAIRE                      178131\n",
       "LIBRAIRIE                                     138139\n",
       "BIJOUX -  LUNETTES - MONTRES                  109947\n",
       "BRICOLAGE - OUTILLAGE - QUINCAILLERIE          99292\n",
       "JEUX - JOUETS                                  88038\n",
       "BAGAGERIE                                      69808\n",
       "SPORT                                          69562\n",
       "ELECTROMENAGER                                 60393\n",
       "HYGIENE - BEAUTE - PARFUM                      60250\n",
       "MUSIQUE                                        59725\n",
       "CHAUSSURES - ACCESSOIRES                       59186\n",
       "MEUBLE                                         50712\n",
       "TV - VIDEO - SON                               48769\n",
       "ART DE LA TABLE - ARTICLES CULINAIRES          46039\n",
       "PHOTO - OPTIQUE                                43613\n",
       "JARDIN - PISCINE                               30779\n",
       "LOISIRS CREATIFS - BEAUX ARTS - PAPETERIE      26985\n",
       "PUERICULTURE                                   20848\n",
       "ANIMALERIE                                     20348\n",
       "LITERIE                                        15476\n",
       "JEUX VIDEO                                     14902\n",
       "DVD - BLU-RAY                                  13924\n",
       "ARTICLES POUR FUMEUR                           10510\n",
       "MATERIEL MEDICAL                                9381\n",
       "TATOUAGE - PIERCING                             8609\n",
       "INSTRUMENTS DE MUSIQUE                          6372\n",
       "PARAPHARMACIE                                   6274\n",
       "DROGUERIE                                       6246\n",
       "EPICERIE                                        6095\n",
       "MERCERIE                                        5887\n",
       "ELECTRONIQUE                                    5383\n",
       "SONO - DJ                                       5277\n",
       "VIN - ALCOOL - LIQUIDES                         3682\n",
       "TENUE PROFESSIONNELLE                           3622\n",
       "MATERIEL DE BUREAU                              2760\n",
       "BATEAU MOTEUR - VOILIER                         2643\n",
       "CONDITIONNEMENT                                 1563\n",
       "POINT DE VENTE - COMMERCE - ADMINISTRATION      1470\n",
       "MANUTENTION                                      835\n",
       "AMENAGEMENT URBAIN - VOIRIE                      458\n",
       "COFFRET CADEAU BOX                               313\n",
       "FUNERAIRE                                         34\n",
       "PRODUITS FRAIS                                    25\n",
       "PRODUITS SURGELES                                  8\n",
       "ABONNEMENT / SERVICES                              7\n",
       "APICULTURE                                         5\n",
       "Name: category_level1, dtype: int64"
      ]
     },
     "execution_count": 37,
     "metadata": {},
     "output_type": "execute_result"
    }
   ],
   "source": [
    "train_images_df['category_level1'].value_counts()"
   ]
  },
  {
   "cell_type": "code",
   "execution_count": 38,
   "metadata": {},
   "outputs": [
    {
     "data": {
      "text/plain": [
       "TELEPHONIE - GPS                              49155\n",
       "AUTO - MOTO                                   47441\n",
       "INFORMATIQUE                                  44863\n",
       "DECO - LINGE - LUMINAIRE                      44348\n",
       "LIBRAIRIE                                     34323\n",
       "BIJOUX -  LUNETTES - MONTRES                  27695\n",
       "BRICOLAGE - OUTILLAGE - QUINCAILLERIE         24349\n",
       "JEUX - JOUETS                                 21737\n",
       "BAGAGERIE                                     17380\n",
       "SPORT                                         16601\n",
       "MUSIQUE                                       14916\n",
       "HYGIENE - BEAUTE - PARFUM                     14910\n",
       "ELECTROMENAGER                                14808\n",
       "CHAUSSURES - ACCESSOIRES                      14706\n",
       "MEUBLE                                        12481\n",
       "TV - VIDEO - SON                              12189\n",
       "ART DE LA TABLE - ARTICLES CULINAIRES         11280\n",
       "PHOTO - OPTIQUE                               10901\n",
       "JARDIN - PISCINE                               7509\n",
       "LOISIRS CREATIFS - BEAUX ARTS - PAPETERIE      6534\n",
       "PUERICULTURE                                   5064\n",
       "ANIMALERIE                                     4959\n",
       "LITERIE                                        3803\n",
       "JEUX VIDEO                                     3652\n",
       "DVD - BLU-RAY                                  3479\n",
       "ARTICLES POUR FUMEUR                           2572\n",
       "MATERIEL MEDICAL                               2200\n",
       "TATOUAGE - PIERCING                            2141\n",
       "INSTRUMENTS DE MUSIQUE                         1516\n",
       "DROGUERIE                                      1505\n",
       "PARAPHARMACIE                                  1492\n",
       "EPICERIE                                       1433\n",
       "MERCERIE                                       1399\n",
       "SONO - DJ                                      1280\n",
       "ELECTRONIQUE                                   1236\n",
       "VIN - ALCOOL - LIQUIDES                         919\n",
       "TENUE PROFESSIONNELLE                           852\n",
       "MATERIEL DE BUREAU                              652\n",
       "BATEAU MOTEUR - VOILIER                         585\n",
       "CONDITIONNEMENT                                 355\n",
       "POINT DE VENTE - COMMERCE - ADMINISTRATION      336\n",
       "MANUTENTION                                     183\n",
       "AMENAGEMENT URBAIN - VOIRIE                     107\n",
       "COFFRET CADEAU BOX                               74\n",
       "FUNERAIRE                                         7\n",
       "PRODUITS FRAIS                                    3\n",
       "Name: category_level1, dtype: int64"
      ]
     },
     "execution_count": 38,
     "metadata": {},
     "output_type": "execute_result"
    }
   ],
   "source": [
    "val_images_df['category_level1'].value_counts()"
   ]
  },
  {
   "cell_type": "code",
   "execution_count": 39,
   "metadata": {
    "collapsed": true
   },
   "outputs": [],
   "source": [
    "# len(train_category1[\"category_idx\"].unique()), len(val_images_df[\"category_idx\"].unique())"
   ]
  },
  {
   "cell_type": "markdown",
   "metadata": {
    "_cell_guid": "59abf374-4259-4e2b-8bcb-f75947f9d4dc",
    "_uuid": "8090c3dfdf328ea0e9f89b2280126a5a58840c09"
   },
   "source": [
    "Quickly verify that the split really is approximately 80-20:"
   ]
  },
  {
   "cell_type": "code",
   "execution_count": 40,
   "metadata": {
    "collapsed": true
   },
   "outputs": [],
   "source": [
    "# cat_idx = 5196\n",
    "# num_train = np.sum(train_category1['category_idx'] == cat_idx)\n",
    "# num_val = np.sum(val_category1['category_idx'] == cat_idx)\n",
    "# num_val/num_train"
   ]
  },
  {
   "cell_type": "markdown",
   "metadata": {
    "_cell_guid": "624c622f-059a-4ce0-b68e-f373dba30b03",
    "_uuid": "1bb825a934deaa8a287a0243927193377e6fa433"
   },
   "source": [
    "Close enough. ;-) Remember that we split on products but not all products have the same number of images, which is where the slightly discrepancy comes from. (Also, there tend to be fewer validation images if `drop_percentage` > 0.)"
   ]
  },
  {
   "cell_type": "markdown",
   "metadata": {
    "_cell_guid": "f84f672e-c16d-47a7-9d1c-84f9a0fb3e22",
    "_uuid": "9450109fb5c910c9e7634855b7445fc4260097a7"
   },
   "source": [
    "Save the lookup tables as CSV so that we don't need to repeat the above procedure again."
   ]
  },
  {
   "cell_type": "code",
   "execution_count": 41,
   "metadata": {
    "_cell_guid": "c880c70f-dd98-4d61-b65f-f230abffdefd",
    "_uuid": "747743164ea6dae14a5de4eb624465cb806089ab",
    "collapsed": true
   },
   "outputs": [],
   "source": [
    "#train_images_df.to_csv(\"train_images.csv\")\n",
    "#val_images_df.to_csv(\"val_images.csv\")"
   ]
  },
  {
   "cell_type": "code",
   "execution_count": null,
   "metadata": {
    "collapsed": true
   },
   "outputs": [],
   "source": [
    "train_images_df.to_csv(\"train_category_level1.csv\")\n",
    "val_images_df.to_csv(\"val_category_level1.csv\")\n",
    "#train_category2.to_csv(\"train_category2.csv\")\n",
    "#val_category2.to_csv(\"val_category2.csv\")"
   ]
  },
  {
   "cell_type": "markdown",
   "metadata": {
    "_cell_guid": "4212f62a-86c3-4a13-8882-b4c90f64dac5",
    "_uuid": "8a4bd65c90576d611340e36bce5f49896d942ed1"
   },
   "source": [
    "# Part 2: The generator"
   ]
  },
  {
   "cell_type": "markdown",
   "metadata": {
    "_cell_guid": "1da50467-d11d-417e-9367-bd8574dfe61a",
    "_uuid": "55331a57195739250c5b530160cf32a57b9a2464"
   },
   "source": [
    "First load the lookup tables from the CSV files (you don't need to do this if you just did all the steps from part 1)."
   ]
  },
  {
   "cell_type": "code",
   "execution_count": 42,
   "metadata": {
    "collapsed": true
   },
   "outputs": [],
   "source": [
    "def make_category_tables():\n",
    "    cat2idx = {}\n",
    "    idx2cat = {}\n",
    "    for ir in categories_df.itertuples():\n",
    "        category_id = ir[0]\n",
    "        #category_idx = ir[4] # Category level3\n",
    "        category_idx = ir[5] # Category level1\n",
    "        #category_idx = ir[6] # Category level2 \n",
    "        cat2idx[category_id] = category_idx\n",
    "        idx2cat[category_idx] = category_id\n",
    "    return cat2idx, idx2cat"
   ]
  },
  {
   "cell_type": "code",
   "execution_count": 43,
   "metadata": {
    "_cell_guid": "19c24f98-551d-4b95-b8f7-8497ab09eb56",
    "_uuid": "0c0dadb16f6b094748e967e9c682bb18b3b5c336",
    "collapsed": true
   },
   "outputs": [],
   "source": [
    "# categories_df = pd.read_csv(\"categories.csv\", index_col=0)\n",
    "cat2idx, idx2cat = make_category_tables()\n",
    "\n",
    "# train_offsets_df = pd.read_csv(\"train_offsets.csv\", index_col=0)\n",
    "#train_images_df = pd.read_csv(\"train_images.csv\", index_col=0)\n",
    "# train_images_df = pd.read_csv(\"train_category_level1.csv\", index_col=0)\n",
    "#val_images_df = pd.read_csv(\"val_images.csv\", index_col=0)\n",
    "# val_images_df = pd.read_csv(\"val_category_level1.csv\", index_col=0)"
   ]
  },
  {
   "cell_type": "code",
   "execution_count": 44,
   "metadata": {},
   "outputs": [
    {
     "data": {
      "text/html": [
       "<div>\n",
       "<style>\n",
       "    .dataframe thead tr:only-child th {\n",
       "        text-align: right;\n",
       "    }\n",
       "\n",
       "    .dataframe thead th {\n",
       "        text-align: left;\n",
       "    }\n",
       "\n",
       "    .dataframe tbody tr th {\n",
       "        vertical-align: top;\n",
       "    }\n",
       "</style>\n",
       "<table border=\"1\" class=\"dataframe\">\n",
       "  <thead>\n",
       "    <tr style=\"text-align: right;\">\n",
       "      <th></th>\n",
       "      <th>num_imgs</th>\n",
       "      <th>offset</th>\n",
       "      <th>length</th>\n",
       "      <th>category_id</th>\n",
       "    </tr>\n",
       "    <tr>\n",
       "      <th>product_id</th>\n",
       "      <th></th>\n",
       "      <th></th>\n",
       "      <th></th>\n",
       "      <th></th>\n",
       "    </tr>\n",
       "  </thead>\n",
       "  <tbody>\n",
       "    <tr>\n",
       "      <th>0</th>\n",
       "      <td>1</td>\n",
       "      <td>0</td>\n",
       "      <td>6979</td>\n",
       "      <td>1000010653</td>\n",
       "    </tr>\n",
       "    <tr>\n",
       "      <th>1</th>\n",
       "      <td>1</td>\n",
       "      <td>6979</td>\n",
       "      <td>7318</td>\n",
       "      <td>1000010653</td>\n",
       "    </tr>\n",
       "    <tr>\n",
       "      <th>2</th>\n",
       "      <td>1</td>\n",
       "      <td>14297</td>\n",
       "      <td>5455</td>\n",
       "      <td>1000004079</td>\n",
       "    </tr>\n",
       "    <tr>\n",
       "      <th>3</th>\n",
       "      <td>1</td>\n",
       "      <td>19752</td>\n",
       "      <td>4580</td>\n",
       "      <td>1000004141</td>\n",
       "    </tr>\n",
       "    <tr>\n",
       "      <th>4</th>\n",
       "      <td>1</td>\n",
       "      <td>24332</td>\n",
       "      <td>6346</td>\n",
       "      <td>1000015539</td>\n",
       "    </tr>\n",
       "  </tbody>\n",
       "</table>\n",
       "</div>"
      ],
      "text/plain": [
       "            num_imgs  offset  length  category_id\n",
       "product_id                                       \n",
       "0                  1       0    6979   1000010653\n",
       "1                  1    6979    7318   1000010653\n",
       "2                  1   14297    5455   1000004079\n",
       "3                  1   19752    4580   1000004141\n",
       "4                  1   24332    6346   1000015539"
      ]
     },
     "execution_count": 44,
     "metadata": {},
     "output_type": "execute_result"
    }
   ],
   "source": [
    "train_offsets_df.head()"
   ]
  },
  {
   "cell_type": "code",
   "execution_count": 45,
   "metadata": {},
   "outputs": [
    {
     "data": {
      "text/html": [
       "<div>\n",
       "<style>\n",
       "    .dataframe thead tr:only-child th {\n",
       "        text-align: right;\n",
       "    }\n",
       "\n",
       "    .dataframe thead th {\n",
       "        text-align: left;\n",
       "    }\n",
       "\n",
       "    .dataframe tbody tr th {\n",
       "        vertical-align: top;\n",
       "    }\n",
       "</style>\n",
       "<table border=\"1\" class=\"dataframe\">\n",
       "  <thead>\n",
       "    <tr style=\"text-align: right;\">\n",
       "      <th></th>\n",
       "      <th>product_id</th>\n",
       "      <th>category_idx_x</th>\n",
       "      <th>category_id</th>\n",
       "      <th>img_idx</th>\n",
       "      <th>category_level1</th>\n",
       "      <th>category_level2</th>\n",
       "      <th>category_level3</th>\n",
       "      <th>category_idx_y</th>\n",
       "      <th>cat1_idx</th>\n",
       "      <th>cat2_idx</th>\n",
       "    </tr>\n",
       "  </thead>\n",
       "  <tbody>\n",
       "    <tr>\n",
       "      <th>0</th>\n",
       "      <td>7054049</td>\n",
       "      <td>45</td>\n",
       "      <td>1000010653</td>\n",
       "      <td>0</td>\n",
       "      <td>TELEPHONIE - GPS</td>\n",
       "      <td>ACCESSOIRE TELEPHONE</td>\n",
       "      <td>COQUE TELEPHONE - BUMPER TELEPHONE</td>\n",
       "      <td>5055</td>\n",
       "      <td>45</td>\n",
       "      <td>455</td>\n",
       "    </tr>\n",
       "    <tr>\n",
       "      <th>1</th>\n",
       "      <td>8087964</td>\n",
       "      <td>45</td>\n",
       "      <td>1000010653</td>\n",
       "      <td>0</td>\n",
       "      <td>TELEPHONIE - GPS</td>\n",
       "      <td>ACCESSOIRE TELEPHONE</td>\n",
       "      <td>COQUE TELEPHONE - BUMPER TELEPHONE</td>\n",
       "      <td>5055</td>\n",
       "      <td>45</td>\n",
       "      <td>455</td>\n",
       "    </tr>\n",
       "    <tr>\n",
       "      <th>2</th>\n",
       "      <td>7121074</td>\n",
       "      <td>45</td>\n",
       "      <td>1000010653</td>\n",
       "      <td>0</td>\n",
       "      <td>TELEPHONIE - GPS</td>\n",
       "      <td>ACCESSOIRE TELEPHONE</td>\n",
       "      <td>COQUE TELEPHONE - BUMPER TELEPHONE</td>\n",
       "      <td>5055</td>\n",
       "      <td>45</td>\n",
       "      <td>455</td>\n",
       "    </tr>\n",
       "    <tr>\n",
       "      <th>3</th>\n",
       "      <td>23140133</td>\n",
       "      <td>45</td>\n",
       "      <td>1000010653</td>\n",
       "      <td>0</td>\n",
       "      <td>TELEPHONIE - GPS</td>\n",
       "      <td>ACCESSOIRE TELEPHONE</td>\n",
       "      <td>COQUE TELEPHONE - BUMPER TELEPHONE</td>\n",
       "      <td>5055</td>\n",
       "      <td>45</td>\n",
       "      <td>455</td>\n",
       "    </tr>\n",
       "    <tr>\n",
       "      <th>4</th>\n",
       "      <td>9497901</td>\n",
       "      <td>45</td>\n",
       "      <td>1000010653</td>\n",
       "      <td>0</td>\n",
       "      <td>TELEPHONIE - GPS</td>\n",
       "      <td>ACCESSOIRE TELEPHONE</td>\n",
       "      <td>COQUE TELEPHONE - BUMPER TELEPHONE</td>\n",
       "      <td>5055</td>\n",
       "      <td>45</td>\n",
       "      <td>455</td>\n",
       "    </tr>\n",
       "  </tbody>\n",
       "</table>\n",
       "</div>"
      ],
      "text/plain": [
       "   product_id  category_idx_x  category_id  img_idx   category_level1  \\\n",
       "0     7054049              45   1000010653        0  TELEPHONIE - GPS   \n",
       "1     8087964              45   1000010653        0  TELEPHONIE - GPS   \n",
       "2     7121074              45   1000010653        0  TELEPHONIE - GPS   \n",
       "3    23140133              45   1000010653        0  TELEPHONIE - GPS   \n",
       "4     9497901              45   1000010653        0  TELEPHONIE - GPS   \n",
       "\n",
       "        category_level2                     category_level3  category_idx_y  \\\n",
       "0  ACCESSOIRE TELEPHONE  COQUE TELEPHONE - BUMPER TELEPHONE            5055   \n",
       "1  ACCESSOIRE TELEPHONE  COQUE TELEPHONE - BUMPER TELEPHONE            5055   \n",
       "2  ACCESSOIRE TELEPHONE  COQUE TELEPHONE - BUMPER TELEPHONE            5055   \n",
       "3  ACCESSOIRE TELEPHONE  COQUE TELEPHONE - BUMPER TELEPHONE            5055   \n",
       "4  ACCESSOIRE TELEPHONE  COQUE TELEPHONE - BUMPER TELEPHONE            5055   \n",
       "\n",
       "   cat1_idx  cat2_idx  \n",
       "0        45       455  \n",
       "1        45       455  \n",
       "2        45       455  \n",
       "3        45       455  \n",
       "4        45       455  "
      ]
     },
     "execution_count": 45,
     "metadata": {},
     "output_type": "execute_result"
    }
   ],
   "source": [
    "val_images_df.head()"
   ]
  },
  {
   "cell_type": "code",
   "execution_count": 46,
   "metadata": {},
   "outputs": [
    {
     "data": {
      "text/plain": [
       "1979978"
      ]
     },
     "execution_count": 46,
     "metadata": {},
     "output_type": "execute_result"
    }
   ],
   "source": [
    "len(train_images_df)"
   ]
  },
  {
   "cell_type": "code",
   "execution_count": 47,
   "metadata": {},
   "outputs": [
    {
     "data": {
      "text/plain": [
       "45    196514\n",
       "6     191050\n",
       "22    180089\n",
       "14    178131\n",
       "27    138139\n",
       "9     109947\n",
       "10     99292\n",
       "25     88038\n",
       "7      69808\n",
       "43     69562\n",
       "17     60393\n",
       "21     60250\n",
       "35     59725\n",
       "11     59186\n",
       "34     50712\n",
       "47     48769\n",
       "4      46039\n",
       "37     43613\n",
       "24     30779\n",
       "29     26985\n",
       "41     20848\n",
       "2      20348\n",
       "28     15476\n",
       "26     14902\n",
       "16     13924\n",
       "5      10510\n",
       "32      9381\n",
       "44      8609\n",
       "23      6372\n",
       "36      6274\n",
       "15      6246\n",
       "19      6095\n",
       "33      5887\n",
       "18      5383\n",
       "42      5277\n",
       "48      3682\n",
       "46      3622\n",
       "31      2760\n",
       "8       2643\n",
       "13      1563\n",
       "38      1470\n",
       "30       835\n",
       "1        458\n",
       "12       313\n",
       "20        34\n",
       "39        25\n",
       "40         8\n",
       "0          7\n",
       "3          5\n",
       "Name: cat1_idx, dtype: int64"
      ]
     },
     "execution_count": 47,
     "metadata": {},
     "output_type": "execute_result"
    }
   ],
   "source": [
    "train_images_df['cat1_idx'].value_counts()"
   ]
  },
  {
   "cell_type": "markdown",
   "metadata": {
    "_cell_guid": "17cb7bb4-4941-4d0d-8fa5-2dd60b7014ce",
    "_uuid": "edbb272356d65e3ec9b540bd4597464ae4afa3c5"
   },
   "source": [
    "The Keras generator is implemented by the `BSONIterator` class. It creates batches of images (and their one-hot encoded labels) directly from the BSON file. It can be used with multiple workers.\n",
    "\n",
    "**Note:** For fastest results, put the train.bson and test.bson files on a fast drive (SSD).\n",
    "\n",
    "See also the code in: https://github.com/fchollet/keras/blob/master/keras/preprocessing/image.py"
   ]
  },
  {
   "cell_type": "code",
   "execution_count": 48,
   "metadata": {
    "_cell_guid": "78d8b565-336e-4836-b613-768bb6581499",
    "_uuid": "c43d82c645b098b2dd8fc0962bd392bdfc43057d",
    "collapsed": true
   },
   "outputs": [],
   "source": [
    "from keras.preprocessing.image import Iterator\n",
    "from keras.preprocessing.image import ImageDataGenerator\n",
    "from keras import backend as K\n",
    "\n",
    "class BSONIterator(Iterator):\n",
    "    def __init__(self, bson_file, images_df, offsets_df, num_class,\n",
    "                 image_data_generator, lock, target_size=(180, 180), \n",
    "                 with_labels=True, batch_size=32, shuffle=False, seed=None):\n",
    "\n",
    "        self.file = bson_file\n",
    "        self.images_df = images_df\n",
    "        self.offsets_df = offsets_df\n",
    "        self.with_labels = with_labels\n",
    "        self.samples = len(images_df)\n",
    "        self.num_class = num_class\n",
    "        self.image_data_generator = image_data_generator\n",
    "        self.target_size = tuple(target_size)\n",
    "        self.image_shape = self.target_size + (3,)\n",
    "\n",
    "        print(\"Found %d images belonging to %d classes.\" % (self.samples, self.num_class))\n",
    "\n",
    "        super(BSONIterator, self).__init__(self.samples, batch_size, shuffle, seed)\n",
    "        self.lock = lock\n",
    "\n",
    "    def _get_batches_of_transformed_samples(self, index_array):\n",
    "        batch_x = np.zeros((len(index_array),) + self.image_shape, dtype=K.floatx())\n",
    "        if self.with_labels:\n",
    "            batch_y = np.zeros((len(batch_x), self.num_class), dtype=K.floatx())\n",
    "\n",
    "        for i, j in enumerate(index_array):\n",
    "            # Protect file and dataframe access with a lock.\n",
    "            with self.lock:\n",
    "                image_row = self.images_df.iloc[j]\n",
    "                product_id = image_row[\"product_id\"]\n",
    "                offset_row = self.offsets_df.loc[product_id]\n",
    "\n",
    "                # Read this product's data from the BSON file.\n",
    "                self.file.seek(offset_row[\"offset\"])\n",
    "                item_data = self.file.read(offset_row[\"length\"])\n",
    "\n",
    "            # Grab the image from the product.\n",
    "            item = bson.BSON.decode(item_data)\n",
    "            img_idx = image_row[\"img_idx\"]\n",
    "            bson_img = item[\"imgs\"][img_idx][\"picture\"]\n",
    "\n",
    "            # Load the image.\n",
    "            img = load_img(io.BytesIO(bson_img), target_size=self.target_size)\n",
    "\n",
    "            # Preprocess the image.\n",
    "            x = img_to_array(img)\n",
    "            x = self.image_data_generator.random_transform(x)\n",
    "            x = self.image_data_generator.standardize(x)\n",
    "\n",
    "            # Add the image and the label to the batch (one-hot encoded).\n",
    "            batch_x[i] = x\n",
    "            if self.with_labels:\n",
    "                #batch_y[i, image_row[\"category_idx\"]] = 1\n",
    "                batch_y[i, image_row[\"cat1_idx\"]] = 1\n",
    "\n",
    "        if self.with_labels:\n",
    "            return batch_x, batch_y\n",
    "        else:\n",
    "            return batch_x\n",
    "\n",
    "    def next(self):\n",
    "        with self.lock:\n",
    "            index_array = next(self.index_generator)\n",
    "#         return self._get_batches_of_transformed_samples(index_array)\n",
    "        return self._get_batches_of_transformed_samples(index_array[0])\n",
    "    "
   ]
  },
  {
   "cell_type": "code",
   "execution_count": 49,
   "metadata": {
    "_cell_guid": "86525843-13cc-413e-b372-085e4864a45a",
    "_uuid": "a1de21a39914a95128adb7675b5fa17a5284f338",
    "collapsed": true
   },
   "outputs": [],
   "source": [
    "train_bson_file = open(train_bson_path, \"rb\")"
   ]
  },
  {
   "cell_type": "markdown",
   "metadata": {
    "_cell_guid": "0c1f8649-6383-4ccf-9b72-0a33d4011019",
    "_uuid": "65d447e854e1bc67a3046d8318240f1b71814d4b"
   },
   "source": [
    "Because the training and validation generators read from the same BSON file, they need to use the same lock to protect it."
   ]
  },
  {
   "cell_type": "code",
   "execution_count": 52,
   "metadata": {
    "_cell_guid": "13fc319e-fc07-4ba8-a293-807f0a588cae",
    "_uuid": "4b3c7259068815be68ae576136ad67b0c7bc89a6",
    "collapsed": true
   },
   "outputs": [],
   "source": [
    "import threading\n",
    "lock = threading.Lock()"
   ]
  },
  {
   "cell_type": "code",
   "execution_count": 50,
   "metadata": {},
   "outputs": [
    {
     "data": {
      "text/plain": [
       "49"
      ]
     },
     "execution_count": 50,
     "metadata": {},
     "output_type": "execute_result"
    }
   ],
   "source": [
    "len(train_images_df['cat1_idx'].unique())"
   ]
  },
  {
   "cell_type": "markdown",
   "metadata": {
    "_cell_guid": "2742b451-159b-4353-a7eb-96885fdf8919",
    "_uuid": "a4a76294778c99600228091e797507026d8ba4c3"
   },
   "source": [
    "Create a generator for training and a generator for validation."
   ]
  },
  {
   "cell_type": "code",
   "execution_count": 53,
   "metadata": {
    "_cell_guid": "d9381773-ad58-4656-b225-306e68a603f7",
    "_uuid": "ffc317a85c6849dca92c8e5322eecff66269cca4"
   },
   "outputs": [
    {
     "name": "stdout",
     "output_type": "stream",
     "text": [
      "Found 1979978 images belonging to 5270 classes.\n",
      "Found 489930 images belonging to 5270 classes.\n"
     ]
    }
   ],
   "source": [
    "num_classes = 5270\n",
    "#num_classes = len(train_images_df['category_idx'].unique())\n",
    "num_train_images = len(train_images_df)\n",
    "num_val_images = len(val_images_df)\n",
    "batch_size = 400\n",
    "\n",
    "# Tip: use ImageDataGenerator for data augmentation and preprocessing.\n",
    "train_datagen = ImageDataGenerator()\n",
    "train_gen = BSONIterator(train_bson_file, train_images_df, train_offsets_df, \n",
    "                         num_classes, train_datagen, lock,\n",
    "                         batch_size=batch_size, shuffle=True)\n",
    "\n",
    "val_datagen = ImageDataGenerator()\n",
    "val_gen = BSONIterator(train_bson_file, val_images_df, train_offsets_df,\n",
    "                       num_classes, val_datagen, lock,\n",
    "                       batch_size=batch_size, shuffle=True)"
   ]
  },
  {
   "cell_type": "markdown",
   "metadata": {
    "_cell_guid": "5c5871a3-6d4a-4260-b8d4-462454ad8983",
    "_uuid": "c3cb7cadf70e26f22f9cd35f8f375b4e9483325a"
   },
   "source": [
    "How fast is the generator? Create a single batch:"
   ]
  },
  {
   "cell_type": "code",
   "execution_count": 54,
   "metadata": {
    "_cell_guid": "1b3227e9-902a-41ff-a16a-460c3eb5c7e3",
    "_uuid": "e5092cb6348a56b0f67d5a0b08115125eab2774a"
   },
   "outputs": [
    {
     "name": "stdout",
     "output_type": "stream",
     "text": [
      "Wall time: 3.54 s\n"
     ]
    }
   ],
   "source": [
    "next(train_gen)  # warm-up\n",
    "\n",
    "%time bx, by = next(train_gen)"
   ]
  },
  {
   "cell_type": "markdown",
   "metadata": {
    "_cell_guid": "b393341b-1ab5-4f1f-9cfc-06cd2537d993",
    "_uuid": "98f84fd5e6a320f891b9ac21b345e2a590d37c82"
   },
   "source": [
    "Does it really output images and one-hot encoded class labels? Note that the images are pre-processed (and augmented) and therefore may look weird."
   ]
  },
  {
   "cell_type": "code",
   "execution_count": 55,
   "metadata": {
    "_cell_guid": "f2c3d3d3-f030-4b7c-b1d5-bf918d17f32f",
    "_uuid": "4dbc717fd62d116085f7b17092fb0f785e38b03e"
   },
   "outputs": [
    {
     "data": {
      "text/plain": [
       "<matplotlib.image.AxesImage at 0x3dccbcf8>"
      ]
     },
     "execution_count": 55,
     "metadata": {},
     "output_type": "execute_result"
    },
    {
     "data": {
      "image/png": "[encoded data removed]",
      "text/plain": [
       "<matplotlib.figure.Figure at 0x1c3eb320>"
      ]
     },
     "metadata": {},
     "output_type": "display_data"
    }
   ],
   "source": [
    "plt.imshow(bx[-1].astype(np.uint8))"
   ]
  },
  {
   "cell_type": "code",
   "execution_count": 56,
   "metadata": {
    "_cell_guid": "9bafa70a-6f48-4c08-a291-213e276c96e4",
    "_uuid": "a1567274363fc542693d44e68385c77414c5528a"
   },
   "outputs": [
    {
     "data": {
      "text/plain": [
       "category_level1                          MUSIQUE\n",
       "category_level2                           VINYLE\n",
       "category_level3    VINYLE VARIETE INTERNATIONALE\n",
       "category_idx                                3977\n",
       "cat1_idx                                      35\n",
       "cat2_idx                                     350\n",
       "category_id                           1000018340\n",
       "Name: 1000018340, dtype: object"
      ]
     },
     "execution_count": 56,
     "metadata": {},
     "output_type": "execute_result"
    }
   ],
   "source": [
    "cat_idx = np.argmax(by[-1])\n",
    "cat_id = idx2cat[cat_idx]\n",
    "categories_df.loc[cat_id]"
   ]
  },
  {
   "cell_type": "code",
   "execution_count": 57,
   "metadata": {
    "_cell_guid": "52a5f50b-c334-47b7-9696-04930acacc70",
    "_uuid": "dc592b117db8c985f51e5846510775f68f9e597f"
   },
   "outputs": [
    {
     "name": "stdout",
     "output_type": "stream",
     "text": [
      "Wall time: 3.91 s\n"
     ]
    }
   ],
   "source": [
    "%time bx, by = next(val_gen)"
   ]
  },
  {
   "cell_type": "code",
   "execution_count": 58,
   "metadata": {
    "_cell_guid": "010217b8-7ebb-4396-bbdc-bf5d41913bbf",
    "_uuid": "a5d562f80ab3d820d1585888f775250b95dc9a59"
   },
   "outputs": [
    {
     "data": {
      "text/plain": [
       "<matplotlib.image.AxesImage at 0x46b73a20>"
      ]
     },
     "execution_count": 58,
     "metadata": {},
     "output_type": "execute_result"
    },
    {
     "data": {
      "image/png": "[encoded data removed]",
      "text/plain": [
       "<matplotlib.figure.Figure at 0x3ee23208>"
      ]
     },
     "metadata": {},
     "output_type": "display_data"
    }
   ],
   "source": [
    "plt.imshow(bx[-1].astype(np.uint8))"
   ]
  },
  {
   "cell_type": "code",
   "execution_count": 59,
   "metadata": {
    "_cell_guid": "95881156-e36f-4209-ba52-ba871dd267e1",
    "_uuid": "4be78cd87a23367b4ed07007ca15b5fda6c5b877"
   },
   "outputs": [
    {
     "data": {
      "text/plain": [
       "category_level1                    TELEPHONIE - GPS\n",
       "category_level2                     TELEPHONIE FIXE\n",
       "category_level3    TELEPHONE FIXE - PACK TELEPHONES\n",
       "category_idx                                   5108\n",
       "cat1_idx                                         45\n",
       "cat2_idx                                        460\n",
       "category_id                              1000010619\n",
       "Name: 1000010619, dtype: object"
      ]
     },
     "execution_count": 59,
     "metadata": {},
     "output_type": "execute_result"
    }
   ],
   "source": [
    "cat_idx = np.argmax(by[-1])\n",
    "cat_id = idx2cat[cat_idx]\n",
    "categories_df.loc[cat_id]"
   ]
  },
  {
   "cell_type": "markdown",
   "metadata": {
    "_cell_guid": "2250dba6-6ab0-4417-854e-6a3eb924fc33",
    "_uuid": "3daa4847924e17f4bab9a58470460667dc517075"
   },
   "source": [
    "# Part 3: Training\n",
    "\n",
    "Create a very simple Keras model and train it, to test that the generators work."
   ]
  },
  {
   "cell_type": "code",
   "execution_count": 60,
   "metadata": {
    "_cell_guid": "eaa3b3ba-7502-445f-91da-26d29af2bee8",
    "_uuid": "126271374bf7cfcf0871b8b78441e1f1dfa05cbb"
   },
   "outputs": [
    {
     "name": "stdout",
     "output_type": "stream",
     "text": [
      "_________________________________________________________________\n",
      "Layer (type)                 Output Shape              Param #   \n",
      "=================================================================\n",
      "conv2d_1 (Conv2D)            (None, 180, 180, 32)      896       \n",
      "_________________________________________________________________\n",
      "max_pooling2d_1 (MaxPooling2 (None, 90, 90, 32)        0         \n",
      "_________________________________________________________________\n",
      "conv2d_2 (Conv2D)            (None, 90, 90, 64)        18496     \n",
      "_________________________________________________________________\n",
      "max_pooling2d_2 (MaxPooling2 (None, 45, 45, 64)        0         \n",
      "_________________________________________________________________\n",
      "conv2d_3 (Conv2D)            (None, 45, 45, 128)       73856     \n",
      "_________________________________________________________________\n",
      "max_pooling2d_3 (MaxPooling2 (None, 22, 22, 128)       0         \n",
      "_________________________________________________________________\n",
      "global_average_pooling2d_1 ( (None, 128)               0         \n",
      "_________________________________________________________________\n",
      "dense_1 (Dense)              (None, 5270)              679830    \n",
      "=================================================================\n",
      "Total params: 773,078\n",
      "Trainable params: 773,078\n",
      "Non-trainable params: 0\n",
      "_________________________________________________________________\n"
     ]
    }
   ],
   "source": [
    "#from keras.models import Sequential\n",
    "#from keras.layers import Dropout, Flatten, Dense\n",
    "#from keras.layers.convolutional import Conv2D\n",
    "#from keras.layers.pooling import MaxPooling2D, GlobalAveragePooling2D\n",
    "\n",
    "#model = Sequential()\n",
    "#model.add(Conv2D(32, 3, padding=\"same\", activation=\"relu\", input_shape=(180, 180, 3)))\n",
    "#model.add(MaxPooling2D())\n",
    "#model.add(Conv2D(64, 3, padding=\"same\", activation=\"relu\"))\n",
    "#model.add(MaxPooling2D())\n",
    "#model.add(Conv2D(128, 3, padding=\"same\", activation=\"relu\"))\n",
    "#model.add(MaxPooling2D())\n",
    "#model.add(GlobalAveragePooling2D())\n",
    "#model.add(Dense(num_classes, activation=\"softmax\"))\n",
    "\n",
    "#model.compile(optimizer=\"adam\",\n",
    "#              loss=\"categorical_crossentropy\",\n",
    "#              metrics=[\"accuracy\"])\n",
    "\n",
    "#model.summary()"
   ]
  },
  {
   "cell_type": "code",
   "execution_count": 65,
   "metadata": {},
   "outputs": [
    {
     "name": "stdout",
     "output_type": "stream",
     "text": [
      "____________________________________________________________________________________________________\n",
      "Layer (type)                     Output Shape          Param #     Connected to                     \n",
      "====================================================================================================\n",
      "input_4 (InputLayer)             (None, None, None, 3) 0                                            \n",
      "____________________________________________________________________________________________________\n",
      "conv2d_271 (Conv2D)              (None, None, None, 32 864         input_4[0][0]                    \n",
      "____________________________________________________________________________________________________\n",
      "batch_normalization_267 (BatchNo (None, None, None, 32 96          conv2d_271[0][0]                 \n",
      "____________________________________________________________________________________________________\n",
      "activation_267 (Activation)      (None, None, None, 32 0           batch_normalization_267[0][0]    \n",
      "____________________________________________________________________________________________________\n",
      "conv2d_272 (Conv2D)              (None, None, None, 32 9216        activation_267[0][0]             \n",
      "____________________________________________________________________________________________________\n",
      "batch_normalization_268 (BatchNo (None, None, None, 32 96          conv2d_272[0][0]                 \n",
      "____________________________________________________________________________________________________\n",
      "activation_268 (Activation)      (None, None, None, 32 0           batch_normalization_268[0][0]    \n",
      "____________________________________________________________________________________________________\n",
      "conv2d_273 (Conv2D)              (None, None, None, 64 18432       activation_268[0][0]             \n",
      "____________________________________________________________________________________________________\n",
      "batch_normalization_269 (BatchNo (None, None, None, 64 192         conv2d_273[0][0]                 \n",
      "____________________________________________________________________________________________________\n",
      "activation_269 (Activation)      (None, None, None, 64 0           batch_normalization_269[0][0]    \n",
      "____________________________________________________________________________________________________\n",
      "max_pooling2d_16 (MaxPooling2D)  (None, None, None, 64 0           activation_269[0][0]             \n",
      "____________________________________________________________________________________________________\n",
      "conv2d_274 (Conv2D)              (None, None, None, 80 5120        max_pooling2d_16[0][0]           \n",
      "____________________________________________________________________________________________________\n",
      "batch_normalization_270 (BatchNo (None, None, None, 80 240         conv2d_274[0][0]                 \n",
      "____________________________________________________________________________________________________\n",
      "activation_270 (Activation)      (None, None, None, 80 0           batch_normalization_270[0][0]    \n",
      "____________________________________________________________________________________________________\n",
      "conv2d_275 (Conv2D)              (None, None, None, 19 138240      activation_270[0][0]             \n",
      "____________________________________________________________________________________________________\n",
      "batch_normalization_271 (BatchNo (None, None, None, 19 576         conv2d_275[0][0]                 \n",
      "____________________________________________________________________________________________________\n",
      "activation_271 (Activation)      (None, None, None, 19 0           batch_normalization_271[0][0]    \n",
      "____________________________________________________________________________________________________\n",
      "max_pooling2d_17 (MaxPooling2D)  (None, None, None, 19 0           activation_271[0][0]             \n",
      "____________________________________________________________________________________________________\n",
      "conv2d_279 (Conv2D)              (None, None, None, 64 12288       max_pooling2d_17[0][0]           \n",
      "____________________________________________________________________________________________________\n",
      "batch_normalization_275 (BatchNo (None, None, None, 64 192         conv2d_279[0][0]                 \n",
      "____________________________________________________________________________________________________\n",
      "activation_275 (Activation)      (None, None, None, 64 0           batch_normalization_275[0][0]    \n",
      "____________________________________________________________________________________________________\n",
      "conv2d_277 (Conv2D)              (None, None, None, 48 9216        max_pooling2d_17[0][0]           \n",
      "____________________________________________________________________________________________________\n",
      "conv2d_280 (Conv2D)              (None, None, None, 96 55296       activation_275[0][0]             \n",
      "____________________________________________________________________________________________________\n",
      "batch_normalization_273 (BatchNo (None, None, None, 48 144         conv2d_277[0][0]                 \n",
      "____________________________________________________________________________________________________\n",
      "batch_normalization_276 (BatchNo (None, None, None, 96 288         conv2d_280[0][0]                 \n",
      "____________________________________________________________________________________________________\n",
      "activation_273 (Activation)      (None, None, None, 48 0           batch_normalization_273[0][0]    \n",
      "____________________________________________________________________________________________________\n",
      "activation_276 (Activation)      (None, None, None, 96 0           batch_normalization_276[0][0]    \n",
      "____________________________________________________________________________________________________\n",
      "average_pooling2d_26 (AveragePoo (None, None, None, 19 0           max_pooling2d_17[0][0]           \n",
      "____________________________________________________________________________________________________\n",
      "conv2d_276 (Conv2D)              (None, None, None, 64 12288       max_pooling2d_17[0][0]           \n",
      "____________________________________________________________________________________________________\n",
      "conv2d_278 (Conv2D)              (None, None, None, 64 76800       activation_273[0][0]             \n",
      "____________________________________________________________________________________________________\n",
      "conv2d_281 (Conv2D)              (None, None, None, 96 82944       activation_276[0][0]             \n",
      "____________________________________________________________________________________________________\n",
      "conv2d_282 (Conv2D)              (None, None, None, 32 6144        average_pooling2d_26[0][0]       \n",
      "____________________________________________________________________________________________________\n",
      "batch_normalization_272 (BatchNo (None, None, None, 64 192         conv2d_276[0][0]                 \n",
      "____________________________________________________________________________________________________\n",
      "batch_normalization_274 (BatchNo (None, None, None, 64 192         conv2d_278[0][0]                 \n",
      "____________________________________________________________________________________________________\n",
      "batch_normalization_277 (BatchNo (None, None, None, 96 288         conv2d_281[0][0]                 \n",
      "____________________________________________________________________________________________________\n",
      "batch_normalization_278 (BatchNo (None, None, None, 32 96          conv2d_282[0][0]                 \n",
      "____________________________________________________________________________________________________\n",
      "activation_272 (Activation)      (None, None, None, 64 0           batch_normalization_272[0][0]    \n",
      "____________________________________________________________________________________________________\n",
      "activation_274 (Activation)      (None, None, None, 64 0           batch_normalization_274[0][0]    \n",
      "____________________________________________________________________________________________________\n",
      "activation_277 (Activation)      (None, None, None, 96 0           batch_normalization_277[0][0]    \n",
      "____________________________________________________________________________________________________\n",
      "activation_278 (Activation)      (None, None, None, 32 0           batch_normalization_278[0][0]    \n",
      "____________________________________________________________________________________________________\n",
      "mixed0 (Concatenate)             (None, None, None, 25 0           activation_272[0][0]             \n",
      "                                                                   activation_274[0][0]             \n",
      "                                                                   activation_277[0][0]             \n",
      "                                                                   activation_278[0][0]             \n",
      "____________________________________________________________________________________________________\n",
      "conv2d_286 (Conv2D)              (None, None, None, 64 16384       mixed0[0][0]                     \n",
      "____________________________________________________________________________________________________\n",
      "batch_normalization_282 (BatchNo (None, None, None, 64 192         conv2d_286[0][0]                 \n",
      "____________________________________________________________________________________________________\n",
      "activation_282 (Activation)      (None, None, None, 64 0           batch_normalization_282[0][0]    \n",
      "____________________________________________________________________________________________________\n",
      "conv2d_284 (Conv2D)              (None, None, None, 48 12288       mixed0[0][0]                     \n",
      "____________________________________________________________________________________________________\n",
      "conv2d_287 (Conv2D)              (None, None, None, 96 55296       activation_282[0][0]             \n",
      "____________________________________________________________________________________________________\n",
      "batch_normalization_280 (BatchNo (None, None, None, 48 144         conv2d_284[0][0]                 \n",
      "____________________________________________________________________________________________________\n",
      "batch_normalization_283 (BatchNo (None, None, None, 96 288         conv2d_287[0][0]                 \n",
      "____________________________________________________________________________________________________\n",
      "activation_280 (Activation)      (None, None, None, 48 0           batch_normalization_280[0][0]    \n",
      "____________________________________________________________________________________________________\n",
      "activation_283 (Activation)      (None, None, None, 96 0           batch_normalization_283[0][0]    \n",
      "____________________________________________________________________________________________________\n",
      "average_pooling2d_27 (AveragePoo (None, None, None, 25 0           mixed0[0][0]                     \n",
      "____________________________________________________________________________________________________\n",
      "conv2d_283 (Conv2D)              (None, None, None, 64 16384       mixed0[0][0]                     \n",
      "____________________________________________________________________________________________________\n",
      "conv2d_285 (Conv2D)              (None, None, None, 64 76800       activation_280[0][0]             \n",
      "____________________________________________________________________________________________________\n",
      "conv2d_288 (Conv2D)              (None, None, None, 96 82944       activation_283[0][0]             \n",
      "____________________________________________________________________________________________________\n",
      "conv2d_289 (Conv2D)              (None, None, None, 64 16384       average_pooling2d_27[0][0]       \n",
      "____________________________________________________________________________________________________\n",
      "batch_normalization_279 (BatchNo (None, None, None, 64 192         conv2d_283[0][0]                 \n",
      "____________________________________________________________________________________________________\n",
      "batch_normalization_281 (BatchNo (None, None, None, 64 192         conv2d_285[0][0]                 \n",
      "____________________________________________________________________________________________________\n",
      "batch_normalization_284 (BatchNo (None, None, None, 96 288         conv2d_288[0][0]                 \n",
      "____________________________________________________________________________________________________\n",
      "batch_normalization_285 (BatchNo (None, None, None, 64 192         conv2d_289[0][0]                 \n",
      "____________________________________________________________________________________________________\n",
      "activation_279 (Activation)      (None, None, None, 64 0           batch_normalization_279[0][0]    \n",
      "____________________________________________________________________________________________________\n",
      "activation_281 (Activation)      (None, None, None, 64 0           batch_normalization_281[0][0]    \n",
      "____________________________________________________________________________________________________\n",
      "activation_284 (Activation)      (None, None, None, 96 0           batch_normalization_284[0][0]    \n",
      "____________________________________________________________________________________________________\n",
      "activation_285 (Activation)      (None, None, None, 64 0           batch_normalization_285[0][0]    \n",
      "____________________________________________________________________________________________________\n",
      "mixed1 (Concatenate)             (None, None, None, 28 0           activation_279[0][0]             \n",
      "                                                                   activation_281[0][0]             \n",
      "                                                                   activation_284[0][0]             \n",
      "                                                                   activation_285[0][0]             \n",
      "____________________________________________________________________________________________________\n",
      "conv2d_293 (Conv2D)              (None, None, None, 64 18432       mixed1[0][0]                     \n",
      "____________________________________________________________________________________________________\n",
      "batch_normalization_289 (BatchNo (None, None, None, 64 192         conv2d_293[0][0]                 \n",
      "____________________________________________________________________________________________________\n",
      "activation_289 (Activation)      (None, None, None, 64 0           batch_normalization_289[0][0]    \n",
      "____________________________________________________________________________________________________\n",
      "conv2d_291 (Conv2D)              (None, None, None, 48 13824       mixed1[0][0]                     \n",
      "____________________________________________________________________________________________________\n",
      "conv2d_294 (Conv2D)              (None, None, None, 96 55296       activation_289[0][0]             \n",
      "____________________________________________________________________________________________________\n",
      "batch_normalization_287 (BatchNo (None, None, None, 48 144         conv2d_291[0][0]                 \n",
      "____________________________________________________________________________________________________\n",
      "batch_normalization_290 (BatchNo (None, None, None, 96 288         conv2d_294[0][0]                 \n",
      "____________________________________________________________________________________________________\n",
      "activation_287 (Activation)      (None, None, None, 48 0           batch_normalization_287[0][0]    \n",
      "____________________________________________________________________________________________________\n",
      "activation_290 (Activation)      (None, None, None, 96 0           batch_normalization_290[0][0]    \n",
      "____________________________________________________________________________________________________\n",
      "average_pooling2d_28 (AveragePoo (None, None, None, 28 0           mixed1[0][0]                     \n",
      "____________________________________________________________________________________________________\n",
      "conv2d_290 (Conv2D)              (None, None, None, 64 18432       mixed1[0][0]                     \n",
      "____________________________________________________________________________________________________\n",
      "conv2d_292 (Conv2D)              (None, None, None, 64 76800       activation_287[0][0]             \n",
      "____________________________________________________________________________________________________\n",
      "conv2d_295 (Conv2D)              (None, None, None, 96 82944       activation_290[0][0]             \n"
     ]
    },
    {
     "name": "stdout",
     "output_type": "stream",
     "text": [
      "____________________________________________________________________________________________________\n",
      "conv2d_296 (Conv2D)              (None, None, None, 64 18432       average_pooling2d_28[0][0]       \n",
      "____________________________________________________________________________________________________\n",
      "batch_normalization_286 (BatchNo (None, None, None, 64 192         conv2d_290[0][0]                 \n",
      "____________________________________________________________________________________________________\n",
      "batch_normalization_288 (BatchNo (None, None, None, 64 192         conv2d_292[0][0]                 \n",
      "____________________________________________________________________________________________________\n",
      "batch_normalization_291 (BatchNo (None, None, None, 96 288         conv2d_295[0][0]                 \n",
      "____________________________________________________________________________________________________\n",
      "batch_normalization_292 (BatchNo (None, None, None, 64 192         conv2d_296[0][0]                 \n",
      "____________________________________________________________________________________________________\n",
      "activation_286 (Activation)      (None, None, None, 64 0           batch_normalization_286[0][0]    \n",
      "____________________________________________________________________________________________________\n",
      "activation_288 (Activation)      (None, None, None, 64 0           batch_normalization_288[0][0]    \n",
      "____________________________________________________________________________________________________\n",
      "activation_291 (Activation)      (None, None, None, 96 0           batch_normalization_291[0][0]    \n",
      "____________________________________________________________________________________________________\n",
      "activation_292 (Activation)      (None, None, None, 64 0           batch_normalization_292[0][0]    \n",
      "____________________________________________________________________________________________________\n",
      "mixed2 (Concatenate)             (None, None, None, 28 0           activation_286[0][0]             \n",
      "                                                                   activation_288[0][0]             \n",
      "                                                                   activation_291[0][0]             \n",
      "                                                                   activation_292[0][0]             \n",
      "____________________________________________________________________________________________________\n",
      "conv2d_298 (Conv2D)              (None, None, None, 64 18432       mixed2[0][0]                     \n",
      "____________________________________________________________________________________________________\n",
      "batch_normalization_294 (BatchNo (None, None, None, 64 192         conv2d_298[0][0]                 \n",
      "____________________________________________________________________________________________________\n",
      "activation_294 (Activation)      (None, None, None, 64 0           batch_normalization_294[0][0]    \n",
      "____________________________________________________________________________________________________\n",
      "conv2d_299 (Conv2D)              (None, None, None, 96 55296       activation_294[0][0]             \n",
      "____________________________________________________________________________________________________\n",
      "batch_normalization_295 (BatchNo (None, None, None, 96 288         conv2d_299[0][0]                 \n",
      "____________________________________________________________________________________________________\n",
      "activation_295 (Activation)      (None, None, None, 96 0           batch_normalization_295[0][0]    \n",
      "____________________________________________________________________________________________________\n",
      "conv2d_297 (Conv2D)              (None, None, None, 38 995328      mixed2[0][0]                     \n",
      "____________________________________________________________________________________________________\n",
      "conv2d_300 (Conv2D)              (None, None, None, 96 82944       activation_295[0][0]             \n",
      "____________________________________________________________________________________________________\n",
      "batch_normalization_293 (BatchNo (None, None, None, 38 1152        conv2d_297[0][0]                 \n",
      "____________________________________________________________________________________________________\n",
      "batch_normalization_296 (BatchNo (None, None, None, 96 288         conv2d_300[0][0]                 \n",
      "____________________________________________________________________________________________________\n",
      "activation_293 (Activation)      (None, None, None, 38 0           batch_normalization_293[0][0]    \n",
      "____________________________________________________________________________________________________\n",
      "activation_296 (Activation)      (None, None, None, 96 0           batch_normalization_296[0][0]    \n",
      "____________________________________________________________________________________________________\n",
      "max_pooling2d_18 (MaxPooling2D)  (None, None, None, 28 0           mixed2[0][0]                     \n",
      "____________________________________________________________________________________________________\n",
      "mixed3 (Concatenate)             (None, None, None, 76 0           activation_293[0][0]             \n",
      "                                                                   activation_296[0][0]             \n",
      "                                                                   max_pooling2d_18[0][0]           \n",
      "____________________________________________________________________________________________________\n",
      "conv2d_305 (Conv2D)              (None, None, None, 12 98304       mixed3[0][0]                     \n",
      "____________________________________________________________________________________________________\n",
      "batch_normalization_301 (BatchNo (None, None, None, 12 384         conv2d_305[0][0]                 \n",
      "____________________________________________________________________________________________________\n",
      "activation_301 (Activation)      (None, None, None, 12 0           batch_normalization_301[0][0]    \n",
      "____________________________________________________________________________________________________\n",
      "conv2d_306 (Conv2D)              (None, None, None, 12 114688      activation_301[0][0]             \n",
      "____________________________________________________________________________________________________\n",
      "batch_normalization_302 (BatchNo (None, None, None, 12 384         conv2d_306[0][0]                 \n",
      "____________________________________________________________________________________________________\n",
      "activation_302 (Activation)      (None, None, None, 12 0           batch_normalization_302[0][0]    \n",
      "____________________________________________________________________________________________________\n",
      "conv2d_302 (Conv2D)              (None, None, None, 12 98304       mixed3[0][0]                     \n",
      "____________________________________________________________________________________________________\n",
      "conv2d_307 (Conv2D)              (None, None, None, 12 114688      activation_302[0][0]             \n",
      "____________________________________________________________________________________________________\n",
      "batch_normalization_298 (BatchNo (None, None, None, 12 384         conv2d_302[0][0]                 \n",
      "____________________________________________________________________________________________________\n",
      "batch_normalization_303 (BatchNo (None, None, None, 12 384         conv2d_307[0][0]                 \n",
      "____________________________________________________________________________________________________\n",
      "activation_298 (Activation)      (None, None, None, 12 0           batch_normalization_298[0][0]    \n",
      "____________________________________________________________________________________________________\n",
      "activation_303 (Activation)      (None, None, None, 12 0           batch_normalization_303[0][0]    \n",
      "____________________________________________________________________________________________________\n",
      "conv2d_303 (Conv2D)              (None, None, None, 12 114688      activation_298[0][0]             \n",
      "____________________________________________________________________________________________________\n",
      "conv2d_308 (Conv2D)              (None, None, None, 12 114688      activation_303[0][0]             \n",
      "____________________________________________________________________________________________________\n",
      "batch_normalization_299 (BatchNo (None, None, None, 12 384         conv2d_303[0][0]                 \n",
      "____________________________________________________________________________________________________\n",
      "batch_normalization_304 (BatchNo (None, None, None, 12 384         conv2d_308[0][0]                 \n",
      "____________________________________________________________________________________________________\n",
      "activation_299 (Activation)      (None, None, None, 12 0           batch_normalization_299[0][0]    \n",
      "____________________________________________________________________________________________________\n",
      "activation_304 (Activation)      (None, None, None, 12 0           batch_normalization_304[0][0]    \n",
      "____________________________________________________________________________________________________\n",
      "average_pooling2d_29 (AveragePoo (None, None, None, 76 0           mixed3[0][0]                     \n",
      "____________________________________________________________________________________________________\n",
      "conv2d_301 (Conv2D)              (None, None, None, 19 147456      mixed3[0][0]                     \n",
      "____________________________________________________________________________________________________\n",
      "conv2d_304 (Conv2D)              (None, None, None, 19 172032      activation_299[0][0]             \n",
      "____________________________________________________________________________________________________\n",
      "conv2d_309 (Conv2D)              (None, None, None, 19 172032      activation_304[0][0]             \n",
      "____________________________________________________________________________________________________\n",
      "conv2d_310 (Conv2D)              (None, None, None, 19 147456      average_pooling2d_29[0][0]       \n",
      "____________________________________________________________________________________________________\n",
      "batch_normalization_297 (BatchNo (None, None, None, 19 576         conv2d_301[0][0]                 \n",
      "____________________________________________________________________________________________________\n",
      "batch_normalization_300 (BatchNo (None, None, None, 19 576         conv2d_304[0][0]                 \n",
      "____________________________________________________________________________________________________\n",
      "batch_normalization_305 (BatchNo (None, None, None, 19 576         conv2d_309[0][0]                 \n",
      "____________________________________________________________________________________________________\n",
      "batch_normalization_306 (BatchNo (None, None, None, 19 576         conv2d_310[0][0]                 \n",
      "____________________________________________________________________________________________________\n",
      "activation_297 (Activation)      (None, None, None, 19 0           batch_normalization_297[0][0]    \n",
      "____________________________________________________________________________________________________\n",
      "activation_300 (Activation)      (None, None, None, 19 0           batch_normalization_300[0][0]    \n",
      "____________________________________________________________________________________________________\n",
      "activation_305 (Activation)      (None, None, None, 19 0           batch_normalization_305[0][0]    \n",
      "____________________________________________________________________________________________________\n",
      "activation_306 (Activation)      (None, None, None, 19 0           batch_normalization_306[0][0]    \n",
      "____________________________________________________________________________________________________\n",
      "mixed4 (Concatenate)             (None, None, None, 76 0           activation_297[0][0]             \n",
      "                                                                   activation_300[0][0]             \n",
      "                                                                   activation_305[0][0]             \n",
      "                                                                   activation_306[0][0]             \n",
      "____________________________________________________________________________________________________\n",
      "conv2d_315 (Conv2D)              (None, None, None, 16 122880      mixed4[0][0]                     \n",
      "____________________________________________________________________________________________________\n",
      "batch_normalization_311 (BatchNo (None, None, None, 16 480         conv2d_315[0][0]                 \n",
      "____________________________________________________________________________________________________\n",
      "activation_311 (Activation)      (None, None, None, 16 0           batch_normalization_311[0][0]    \n",
      "____________________________________________________________________________________________________\n",
      "conv2d_316 (Conv2D)              (None, None, None, 16 179200      activation_311[0][0]             \n",
      "____________________________________________________________________________________________________\n",
      "batch_normalization_312 (BatchNo (None, None, None, 16 480         conv2d_316[0][0]                 \n",
      "____________________________________________________________________________________________________\n",
      "activation_312 (Activation)      (None, None, None, 16 0           batch_normalization_312[0][0]    \n",
      "____________________________________________________________________________________________________\n",
      "conv2d_312 (Conv2D)              (None, None, None, 16 122880      mixed4[0][0]                     \n",
      "____________________________________________________________________________________________________\n",
      "conv2d_317 (Conv2D)              (None, None, None, 16 179200      activation_312[0][0]             \n",
      "____________________________________________________________________________________________________\n",
      "batch_normalization_308 (BatchNo (None, None, None, 16 480         conv2d_312[0][0]                 \n",
      "____________________________________________________________________________________________________\n",
      "batch_normalization_313 (BatchNo (None, None, None, 16 480         conv2d_317[0][0]                 \n",
      "____________________________________________________________________________________________________\n",
      "activation_308 (Activation)      (None, None, None, 16 0           batch_normalization_308[0][0]    \n",
      "____________________________________________________________________________________________________\n",
      "activation_313 (Activation)      (None, None, None, 16 0           batch_normalization_313[0][0]    \n",
      "____________________________________________________________________________________________________\n",
      "conv2d_313 (Conv2D)              (None, None, None, 16 179200      activation_308[0][0]             \n",
      "____________________________________________________________________________________________________\n",
      "conv2d_318 (Conv2D)              (None, None, None, 16 179200      activation_313[0][0]             \n",
      "____________________________________________________________________________________________________\n",
      "batch_normalization_309 (BatchNo (None, None, None, 16 480         conv2d_313[0][0]                 \n",
      "____________________________________________________________________________________________________\n",
      "batch_normalization_314 (BatchNo (None, None, None, 16 480         conv2d_318[0][0]                 \n",
      "____________________________________________________________________________________________________\n",
      "activation_309 (Activation)      (None, None, None, 16 0           batch_normalization_309[0][0]    \n",
      "____________________________________________________________________________________________________\n",
      "activation_314 (Activation)      (None, None, None, 16 0           batch_normalization_314[0][0]    \n",
      "____________________________________________________________________________________________________\n",
      "average_pooling2d_30 (AveragePoo (None, None, None, 76 0           mixed4[0][0]                     \n",
      "____________________________________________________________________________________________________\n",
      "conv2d_311 (Conv2D)              (None, None, None, 19 147456      mixed4[0][0]                     \n",
      "____________________________________________________________________________________________________\n",
      "conv2d_314 (Conv2D)              (None, None, None, 19 215040      activation_309[0][0]             \n"
     ]
    },
    {
     "name": "stdout",
     "output_type": "stream",
     "text": [
      "____________________________________________________________________________________________________\n",
      "conv2d_319 (Conv2D)              (None, None, None, 19 215040      activation_314[0][0]             \n",
      "____________________________________________________________________________________________________\n",
      "conv2d_320 (Conv2D)              (None, None, None, 19 147456      average_pooling2d_30[0][0]       \n",
      "____________________________________________________________________________________________________\n",
      "batch_normalization_307 (BatchNo (None, None, None, 19 576         conv2d_311[0][0]                 \n",
      "____________________________________________________________________________________________________\n",
      "batch_normalization_310 (BatchNo (None, None, None, 19 576         conv2d_314[0][0]                 \n",
      "____________________________________________________________________________________________________\n",
      "batch_normalization_315 (BatchNo (None, None, None, 19 576         conv2d_319[0][0]                 \n",
      "____________________________________________________________________________________________________\n",
      "batch_normalization_316 (BatchNo (None, None, None, 19 576         conv2d_320[0][0]                 \n",
      "____________________________________________________________________________________________________\n",
      "activation_307 (Activation)      (None, None, None, 19 0           batch_normalization_307[0][0]    \n",
      "____________________________________________________________________________________________________\n",
      "activation_310 (Activation)      (None, None, None, 19 0           batch_normalization_310[0][0]    \n",
      "____________________________________________________________________________________________________\n",
      "activation_315 (Activation)      (None, None, None, 19 0           batch_normalization_315[0][0]    \n",
      "____________________________________________________________________________________________________\n",
      "activation_316 (Activation)      (None, None, None, 19 0           batch_normalization_316[0][0]    \n",
      "____________________________________________________________________________________________________\n",
      "mixed5 (Concatenate)             (None, None, None, 76 0           activation_307[0][0]             \n",
      "                                                                   activation_310[0][0]             \n",
      "                                                                   activation_315[0][0]             \n",
      "                                                                   activation_316[0][0]             \n",
      "____________________________________________________________________________________________________\n",
      "conv2d_325 (Conv2D)              (None, None, None, 16 122880      mixed5[0][0]                     \n",
      "____________________________________________________________________________________________________\n",
      "batch_normalization_321 (BatchNo (None, None, None, 16 480         conv2d_325[0][0]                 \n",
      "____________________________________________________________________________________________________\n",
      "activation_321 (Activation)      (None, None, None, 16 0           batch_normalization_321[0][0]    \n",
      "____________________________________________________________________________________________________\n",
      "conv2d_326 (Conv2D)              (None, None, None, 16 179200      activation_321[0][0]             \n",
      "____________________________________________________________________________________________________\n",
      "batch_normalization_322 (BatchNo (None, None, None, 16 480         conv2d_326[0][0]                 \n",
      "____________________________________________________________________________________________________\n",
      "activation_322 (Activation)      (None, None, None, 16 0           batch_normalization_322[0][0]    \n",
      "____________________________________________________________________________________________________\n",
      "conv2d_322 (Conv2D)              (None, None, None, 16 122880      mixed5[0][0]                     \n",
      "____________________________________________________________________________________________________\n",
      "conv2d_327 (Conv2D)              (None, None, None, 16 179200      activation_322[0][0]             \n",
      "____________________________________________________________________________________________________\n",
      "batch_normalization_318 (BatchNo (None, None, None, 16 480         conv2d_322[0][0]                 \n",
      "____________________________________________________________________________________________________\n",
      "batch_normalization_323 (BatchNo (None, None, None, 16 480         conv2d_327[0][0]                 \n",
      "____________________________________________________________________________________________________\n",
      "activation_318 (Activation)      (None, None, None, 16 0           batch_normalization_318[0][0]    \n",
      "____________________________________________________________________________________________________\n",
      "activation_323 (Activation)      (None, None, None, 16 0           batch_normalization_323[0][0]    \n",
      "____________________________________________________________________________________________________\n",
      "conv2d_323 (Conv2D)              (None, None, None, 16 179200      activation_318[0][0]             \n",
      "____________________________________________________________________________________________________\n",
      "conv2d_328 (Conv2D)              (None, None, None, 16 179200      activation_323[0][0]             \n",
      "____________________________________________________________________________________________________\n",
      "batch_normalization_319 (BatchNo (None, None, None, 16 480         conv2d_323[0][0]                 \n",
      "____________________________________________________________________________________________________\n",
      "batch_normalization_324 (BatchNo (None, None, None, 16 480         conv2d_328[0][0]                 \n",
      "____________________________________________________________________________________________________\n",
      "activation_319 (Activation)      (None, None, None, 16 0           batch_normalization_319[0][0]    \n",
      "____________________________________________________________________________________________________\n",
      "activation_324 (Activation)      (None, None, None, 16 0           batch_normalization_324[0][0]    \n",
      "____________________________________________________________________________________________________\n",
      "average_pooling2d_31 (AveragePoo (None, None, None, 76 0           mixed5[0][0]                     \n",
      "____________________________________________________________________________________________________\n",
      "conv2d_321 (Conv2D)              (None, None, None, 19 147456      mixed5[0][0]                     \n",
      "____________________________________________________________________________________________________\n",
      "conv2d_324 (Conv2D)              (None, None, None, 19 215040      activation_319[0][0]             \n",
      "____________________________________________________________________________________________________\n",
      "conv2d_329 (Conv2D)              (None, None, None, 19 215040      activation_324[0][0]             \n",
      "____________________________________________________________________________________________________\n",
      "conv2d_330 (Conv2D)              (None, None, None, 19 147456      average_pooling2d_31[0][0]       \n",
      "____________________________________________________________________________________________________\n",
      "batch_normalization_317 (BatchNo (None, None, None, 19 576         conv2d_321[0][0]                 \n",
      "____________________________________________________________________________________________________\n",
      "batch_normalization_320 (BatchNo (None, None, None, 19 576         conv2d_324[0][0]                 \n",
      "____________________________________________________________________________________________________\n",
      "batch_normalization_325 (BatchNo (None, None, None, 19 576         conv2d_329[0][0]                 \n",
      "____________________________________________________________________________________________________\n",
      "batch_normalization_326 (BatchNo (None, None, None, 19 576         conv2d_330[0][0]                 \n",
      "____________________________________________________________________________________________________\n",
      "activation_317 (Activation)      (None, None, None, 19 0           batch_normalization_317[0][0]    \n",
      "____________________________________________________________________________________________________\n",
      "activation_320 (Activation)      (None, None, None, 19 0           batch_normalization_320[0][0]    \n",
      "____________________________________________________________________________________________________\n",
      "activation_325 (Activation)      (None, None, None, 19 0           batch_normalization_325[0][0]    \n",
      "____________________________________________________________________________________________________\n",
      "activation_326 (Activation)      (None, None, None, 19 0           batch_normalization_326[0][0]    \n",
      "____________________________________________________________________________________________________\n",
      "mixed6 (Concatenate)             (None, None, None, 76 0           activation_317[0][0]             \n",
      "                                                                   activation_320[0][0]             \n",
      "                                                                   activation_325[0][0]             \n",
      "                                                                   activation_326[0][0]             \n",
      "____________________________________________________________________________________________________\n",
      "conv2d_335 (Conv2D)              (None, None, None, 19 147456      mixed6[0][0]                     \n",
      "____________________________________________________________________________________________________\n",
      "batch_normalization_331 (BatchNo (None, None, None, 19 576         conv2d_335[0][0]                 \n",
      "____________________________________________________________________________________________________\n",
      "activation_331 (Activation)      (None, None, None, 19 0           batch_normalization_331[0][0]    \n",
      "____________________________________________________________________________________________________\n",
      "conv2d_336 (Conv2D)              (None, None, None, 19 258048      activation_331[0][0]             \n",
      "____________________________________________________________________________________________________\n",
      "batch_normalization_332 (BatchNo (None, None, None, 19 576         conv2d_336[0][0]                 \n",
      "____________________________________________________________________________________________________\n",
      "activation_332 (Activation)      (None, None, None, 19 0           batch_normalization_332[0][0]    \n",
      "____________________________________________________________________________________________________\n",
      "conv2d_332 (Conv2D)              (None, None, None, 19 147456      mixed6[0][0]                     \n",
      "____________________________________________________________________________________________________\n",
      "conv2d_337 (Conv2D)              (None, None, None, 19 258048      activation_332[0][0]             \n",
      "____________________________________________________________________________________________________\n",
      "batch_normalization_328 (BatchNo (None, None, None, 19 576         conv2d_332[0][0]                 \n",
      "____________________________________________________________________________________________________\n",
      "batch_normalization_333 (BatchNo (None, None, None, 19 576         conv2d_337[0][0]                 \n",
      "____________________________________________________________________________________________________\n",
      "activation_328 (Activation)      (None, None, None, 19 0           batch_normalization_328[0][0]    \n",
      "____________________________________________________________________________________________________\n",
      "activation_333 (Activation)      (None, None, None, 19 0           batch_normalization_333[0][0]    \n",
      "____________________________________________________________________________________________________\n",
      "conv2d_333 (Conv2D)              (None, None, None, 19 258048      activation_328[0][0]             \n",
      "____________________________________________________________________________________________________\n",
      "conv2d_338 (Conv2D)              (None, None, None, 19 258048      activation_333[0][0]             \n",
      "____________________________________________________________________________________________________\n",
      "batch_normalization_329 (BatchNo (None, None, None, 19 576         conv2d_333[0][0]                 \n",
      "____________________________________________________________________________________________________\n",
      "batch_normalization_334 (BatchNo (None, None, None, 19 576         conv2d_338[0][0]                 \n",
      "____________________________________________________________________________________________________\n",
      "activation_329 (Activation)      (None, None, None, 19 0           batch_normalization_329[0][0]    \n",
      "____________________________________________________________________________________________________\n",
      "activation_334 (Activation)      (None, None, None, 19 0           batch_normalization_334[0][0]    \n",
      "____________________________________________________________________________________________________\n",
      "average_pooling2d_32 (AveragePoo (None, None, None, 76 0           mixed6[0][0]                     \n",
      "____________________________________________________________________________________________________\n",
      "conv2d_331 (Conv2D)              (None, None, None, 19 147456      mixed6[0][0]                     \n",
      "____________________________________________________________________________________________________\n",
      "conv2d_334 (Conv2D)              (None, None, None, 19 258048      activation_329[0][0]             \n",
      "____________________________________________________________________________________________________\n",
      "conv2d_339 (Conv2D)              (None, None, None, 19 258048      activation_334[0][0]             \n",
      "____________________________________________________________________________________________________\n",
      "conv2d_340 (Conv2D)              (None, None, None, 19 147456      average_pooling2d_32[0][0]       \n",
      "____________________________________________________________________________________________________\n",
      "batch_normalization_327 (BatchNo (None, None, None, 19 576         conv2d_331[0][0]                 \n",
      "____________________________________________________________________________________________________\n",
      "batch_normalization_330 (BatchNo (None, None, None, 19 576         conv2d_334[0][0]                 \n",
      "____________________________________________________________________________________________________\n",
      "batch_normalization_335 (BatchNo (None, None, None, 19 576         conv2d_339[0][0]                 \n",
      "____________________________________________________________________________________________________\n",
      "batch_normalization_336 (BatchNo (None, None, None, 19 576         conv2d_340[0][0]                 \n",
      "____________________________________________________________________________________________________\n",
      "activation_327 (Activation)      (None, None, None, 19 0           batch_normalization_327[0][0]    \n",
      "____________________________________________________________________________________________________\n",
      "activation_330 (Activation)      (None, None, None, 19 0           batch_normalization_330[0][0]    \n",
      "____________________________________________________________________________________________________\n",
      "activation_335 (Activation)      (None, None, None, 19 0           batch_normalization_335[0][0]    \n",
      "____________________________________________________________________________________________________\n",
      "activation_336 (Activation)      (None, None, None, 19 0           batch_normalization_336[0][0]    \n",
      "____________________________________________________________________________________________________\n",
      "mixed7 (Concatenate)             (None, None, None, 76 0           activation_327[0][0]             \n",
      "                                                                   activation_330[0][0]             \n",
      "                                                                   activation_335[0][0]             \n",
      "                                                                   activation_336[0][0]             \n",
      "____________________________________________________________________________________________________\n",
      "conv2d_343 (Conv2D)              (None, None, None, 19 147456      mixed7[0][0]                     \n",
      "____________________________________________________________________________________________________\n"
     ]
    },
    {
     "name": "stdout",
     "output_type": "stream",
     "text": [
      "batch_normalization_339 (BatchNo (None, None, None, 19 576         conv2d_343[0][0]                 \n",
      "____________________________________________________________________________________________________\n",
      "activation_339 (Activation)      (None, None, None, 19 0           batch_normalization_339[0][0]    \n",
      "____________________________________________________________________________________________________\n",
      "conv2d_344 (Conv2D)              (None, None, None, 19 258048      activation_339[0][0]             \n",
      "____________________________________________________________________________________________________\n",
      "batch_normalization_340 (BatchNo (None, None, None, 19 576         conv2d_344[0][0]                 \n",
      "____________________________________________________________________________________________________\n",
      "activation_340 (Activation)      (None, None, None, 19 0           batch_normalization_340[0][0]    \n",
      "____________________________________________________________________________________________________\n",
      "conv2d_341 (Conv2D)              (None, None, None, 19 147456      mixed7[0][0]                     \n",
      "____________________________________________________________________________________________________\n",
      "conv2d_345 (Conv2D)              (None, None, None, 19 258048      activation_340[0][0]             \n",
      "____________________________________________________________________________________________________\n",
      "batch_normalization_337 (BatchNo (None, None, None, 19 576         conv2d_341[0][0]                 \n",
      "____________________________________________________________________________________________________\n",
      "batch_normalization_341 (BatchNo (None, None, None, 19 576         conv2d_345[0][0]                 \n",
      "____________________________________________________________________________________________________\n",
      "activation_337 (Activation)      (None, None, None, 19 0           batch_normalization_337[0][0]    \n",
      "____________________________________________________________________________________________________\n",
      "activation_341 (Activation)      (None, None, None, 19 0           batch_normalization_341[0][0]    \n",
      "____________________________________________________________________________________________________\n",
      "conv2d_342 (Conv2D)              (None, None, None, 32 552960      activation_337[0][0]             \n",
      "____________________________________________________________________________________________________\n",
      "conv2d_346 (Conv2D)              (None, None, None, 19 331776      activation_341[0][0]             \n",
      "____________________________________________________________________________________________________\n",
      "batch_normalization_338 (BatchNo (None, None, None, 32 960         conv2d_342[0][0]                 \n",
      "____________________________________________________________________________________________________\n",
      "batch_normalization_342 (BatchNo (None, None, None, 19 576         conv2d_346[0][0]                 \n",
      "____________________________________________________________________________________________________\n",
      "activation_338 (Activation)      (None, None, None, 32 0           batch_normalization_338[0][0]    \n",
      "____________________________________________________________________________________________________\n",
      "activation_342 (Activation)      (None, None, None, 19 0           batch_normalization_342[0][0]    \n",
      "____________________________________________________________________________________________________\n",
      "max_pooling2d_19 (MaxPooling2D)  (None, None, None, 76 0           mixed7[0][0]                     \n",
      "____________________________________________________________________________________________________\n",
      "mixed8 (Concatenate)             (None, None, None, 12 0           activation_338[0][0]             \n",
      "                                                                   activation_342[0][0]             \n",
      "                                                                   max_pooling2d_19[0][0]           \n",
      "____________________________________________________________________________________________________\n",
      "conv2d_351 (Conv2D)              (None, None, None, 44 573440      mixed8[0][0]                     \n",
      "____________________________________________________________________________________________________\n",
      "batch_normalization_347 (BatchNo (None, None, None, 44 1344        conv2d_351[0][0]                 \n",
      "____________________________________________________________________________________________________\n",
      "activation_347 (Activation)      (None, None, None, 44 0           batch_normalization_347[0][0]    \n",
      "____________________________________________________________________________________________________\n",
      "conv2d_348 (Conv2D)              (None, None, None, 38 491520      mixed8[0][0]                     \n",
      "____________________________________________________________________________________________________\n",
      "conv2d_352 (Conv2D)              (None, None, None, 38 1548288     activation_347[0][0]             \n",
      "____________________________________________________________________________________________________\n",
      "batch_normalization_344 (BatchNo (None, None, None, 38 1152        conv2d_348[0][0]                 \n",
      "____________________________________________________________________________________________________\n",
      "batch_normalization_348 (BatchNo (None, None, None, 38 1152        conv2d_352[0][0]                 \n",
      "____________________________________________________________________________________________________\n",
      "activation_344 (Activation)      (None, None, None, 38 0           batch_normalization_344[0][0]    \n",
      "____________________________________________________________________________________________________\n",
      "activation_348 (Activation)      (None, None, None, 38 0           batch_normalization_348[0][0]    \n",
      "____________________________________________________________________________________________________\n",
      "conv2d_349 (Conv2D)              (None, None, None, 38 442368      activation_344[0][0]             \n",
      "____________________________________________________________________________________________________\n",
      "conv2d_350 (Conv2D)              (None, None, None, 38 442368      activation_344[0][0]             \n",
      "____________________________________________________________________________________________________\n",
      "conv2d_353 (Conv2D)              (None, None, None, 38 442368      activation_348[0][0]             \n",
      "____________________________________________________________________________________________________\n",
      "conv2d_354 (Conv2D)              (None, None, None, 38 442368      activation_348[0][0]             \n",
      "____________________________________________________________________________________________________\n",
      "average_pooling2d_33 (AveragePoo (None, None, None, 12 0           mixed8[0][0]                     \n",
      "____________________________________________________________________________________________________\n",
      "conv2d_347 (Conv2D)              (None, None, None, 32 409600      mixed8[0][0]                     \n",
      "____________________________________________________________________________________________________\n",
      "batch_normalization_345 (BatchNo (None, None, None, 38 1152        conv2d_349[0][0]                 \n",
      "____________________________________________________________________________________________________\n",
      "batch_normalization_346 (BatchNo (None, None, None, 38 1152        conv2d_350[0][0]                 \n",
      "____________________________________________________________________________________________________\n",
      "batch_normalization_349 (BatchNo (None, None, None, 38 1152        conv2d_353[0][0]                 \n",
      "____________________________________________________________________________________________________\n",
      "batch_normalization_350 (BatchNo (None, None, None, 38 1152        conv2d_354[0][0]                 \n",
      "____________________________________________________________________________________________________\n",
      "conv2d_355 (Conv2D)              (None, None, None, 19 245760      average_pooling2d_33[0][0]       \n",
      "____________________________________________________________________________________________________\n",
      "batch_normalization_343 (BatchNo (None, None, None, 32 960         conv2d_347[0][0]                 \n",
      "____________________________________________________________________________________________________\n",
      "activation_345 (Activation)      (None, None, None, 38 0           batch_normalization_345[0][0]    \n",
      "____________________________________________________________________________________________________\n",
      "activation_346 (Activation)      (None, None, None, 38 0           batch_normalization_346[0][0]    \n",
      "____________________________________________________________________________________________________\n",
      "activation_349 (Activation)      (None, None, None, 38 0           batch_normalization_349[0][0]    \n",
      "____________________________________________________________________________________________________\n",
      "activation_350 (Activation)      (None, None, None, 38 0           batch_normalization_350[0][0]    \n",
      "____________________________________________________________________________________________________\n",
      "batch_normalization_351 (BatchNo (None, None, None, 19 576         conv2d_355[0][0]                 \n",
      "____________________________________________________________________________________________________\n",
      "activation_343 (Activation)      (None, None, None, 32 0           batch_normalization_343[0][0]    \n",
      "____________________________________________________________________________________________________\n",
      "mixed9_0 (Concatenate)           (None, None, None, 76 0           activation_345[0][0]             \n",
      "                                                                   activation_346[0][0]             \n",
      "____________________________________________________________________________________________________\n",
      "concatenate_5 (Concatenate)      (None, None, None, 76 0           activation_349[0][0]             \n",
      "                                                                   activation_350[0][0]             \n",
      "____________________________________________________________________________________________________\n",
      "activation_351 (Activation)      (None, None, None, 19 0           batch_normalization_351[0][0]    \n",
      "____________________________________________________________________________________________________\n",
      "mixed9 (Concatenate)             (None, None, None, 20 0           activation_343[0][0]             \n",
      "                                                                   mixed9_0[0][0]                   \n",
      "                                                                   concatenate_5[0][0]              \n",
      "                                                                   activation_351[0][0]             \n",
      "____________________________________________________________________________________________________\n",
      "conv2d_360 (Conv2D)              (None, None, None, 44 917504      mixed9[0][0]                     \n",
      "____________________________________________________________________________________________________\n",
      "batch_normalization_356 (BatchNo (None, None, None, 44 1344        conv2d_360[0][0]                 \n",
      "____________________________________________________________________________________________________\n",
      "activation_356 (Activation)      (None, None, None, 44 0           batch_normalization_356[0][0]    \n",
      "____________________________________________________________________________________________________\n",
      "conv2d_357 (Conv2D)              (None, None, None, 38 786432      mixed9[0][0]                     \n",
      "____________________________________________________________________________________________________\n",
      "conv2d_361 (Conv2D)              (None, None, None, 38 1548288     activation_356[0][0]             \n",
      "____________________________________________________________________________________________________\n",
      "batch_normalization_353 (BatchNo (None, None, None, 38 1152        conv2d_357[0][0]                 \n",
      "____________________________________________________________________________________________________\n",
      "batch_normalization_357 (BatchNo (None, None, None, 38 1152        conv2d_361[0][0]                 \n",
      "____________________________________________________________________________________________________\n",
      "activation_353 (Activation)      (None, None, None, 38 0           batch_normalization_353[0][0]    \n",
      "____________________________________________________________________________________________________\n",
      "activation_357 (Activation)      (None, None, None, 38 0           batch_normalization_357[0][0]    \n",
      "____________________________________________________________________________________________________\n",
      "conv2d_358 (Conv2D)              (None, None, None, 38 442368      activation_353[0][0]             \n",
      "____________________________________________________________________________________________________\n",
      "conv2d_359 (Conv2D)              (None, None, None, 38 442368      activation_353[0][0]             \n",
      "____________________________________________________________________________________________________\n",
      "conv2d_362 (Conv2D)              (None, None, None, 38 442368      activation_357[0][0]             \n",
      "____________________________________________________________________________________________________\n",
      "conv2d_363 (Conv2D)              (None, None, None, 38 442368      activation_357[0][0]             \n",
      "____________________________________________________________________________________________________\n",
      "average_pooling2d_34 (AveragePoo (None, None, None, 20 0           mixed9[0][0]                     \n",
      "____________________________________________________________________________________________________\n",
      "conv2d_356 (Conv2D)              (None, None, None, 32 655360      mixed9[0][0]                     \n",
      "____________________________________________________________________________________________________\n",
      "batch_normalization_354 (BatchNo (None, None, None, 38 1152        conv2d_358[0][0]                 \n",
      "____________________________________________________________________________________________________\n",
      "batch_normalization_355 (BatchNo (None, None, None, 38 1152        conv2d_359[0][0]                 \n",
      "____________________________________________________________________________________________________\n",
      "batch_normalization_358 (BatchNo (None, None, None, 38 1152        conv2d_362[0][0]                 \n",
      "____________________________________________________________________________________________________\n",
      "batch_normalization_359 (BatchNo (None, None, None, 38 1152        conv2d_363[0][0]                 \n",
      "____________________________________________________________________________________________________\n",
      "conv2d_364 (Conv2D)              (None, None, None, 19 393216      average_pooling2d_34[0][0]       \n",
      "____________________________________________________________________________________________________\n",
      "batch_normalization_352 (BatchNo (None, None, None, 32 960         conv2d_356[0][0]                 \n",
      "____________________________________________________________________________________________________\n",
      "activation_354 (Activation)      (None, None, None, 38 0           batch_normalization_354[0][0]    \n",
      "____________________________________________________________________________________________________\n",
      "activation_355 (Activation)      (None, None, None, 38 0           batch_normalization_355[0][0]    \n",
      "____________________________________________________________________________________________________\n",
      "activation_358 (Activation)      (None, None, None, 38 0           batch_normalization_358[0][0]    \n",
      "____________________________________________________________________________________________________\n",
      "activation_359 (Activation)      (None, None, None, 38 0           batch_normalization_359[0][0]    \n",
      "____________________________________________________________________________________________________\n",
      "batch_normalization_360 (BatchNo (None, None, None, 19 576         conv2d_364[0][0]                 \n",
      "____________________________________________________________________________________________________\n",
      "activation_352 (Activation)      (None, None, None, 32 0           batch_normalization_352[0][0]    \n",
      "____________________________________________________________________________________________________\n",
      "mixed9_1 (Concatenate)           (None, None, None, 76 0           activation_354[0][0]             \n"
     ]
    },
    {
     "name": "stdout",
     "output_type": "stream",
     "text": [
      "                                                                   activation_355[0][0]             \n",
      "____________________________________________________________________________________________________\n",
      "concatenate_6 (Concatenate)      (None, None, None, 76 0           activation_358[0][0]             \n",
      "                                                                   activation_359[0][0]             \n",
      "____________________________________________________________________________________________________\n",
      "activation_360 (Activation)      (None, None, None, 19 0           batch_normalization_360[0][0]    \n",
      "____________________________________________________________________________________________________\n",
      "mixed10 (Concatenate)            (None, None, None, 20 0           activation_352[0][0]             \n",
      "                                                                   mixed9_1[0][0]                   \n",
      "                                                                   concatenate_6[0][0]              \n",
      "                                                                   activation_360[0][0]             \n",
      "____________________________________________________________________________________________________\n",
      "global_average_pooling2d_4 (Glob (None, 2048)          0           mixed10[0][0]                    \n",
      "____________________________________________________________________________________________________\n",
      "dense_6 (Dense)                  (None, 5270)          10798230    global_average_pooling2d_4[0][0] \n",
      "====================================================================================================\n",
      "Total params: 32,601,014\n",
      "Trainable params: 10,798,230\n",
      "Non-trainable params: 21,802,784\n",
      "____________________________________________________________________________________________________\n"
     ]
    }
   ],
   "source": [
    "from keras.applications.inception_v3 import InceptionV3\n",
    "from keras.preprocessing import image\n",
    "from keras.models import Model\n",
    "from keras.layers import Dense, GlobalAveragePooling2D\n",
    "from keras import backend as K\n",
    "\n",
    "# create the base pre-trained model\n",
    "base_model = InceptionV3(weights='imagenet', include_top=False)\n",
    "\n",
    "# add a global spatial average pooling layer\n",
    "x = base_model.output\n",
    "x = GlobalAveragePooling2D()(x)\n",
    "# let's add a fully-connected layer\n",
    "#x = Dense(1024, activation='relu')(x)\n",
    "# and a logistic layer -- let's say we have 5270 classes\n",
    "predictions = Dense(5270, activation='softmax')(x)\n",
    "\n",
    "# this is the model we will train\n",
    "model = Model(inputs=base_model.input, outputs=predictions)\n",
    "\n",
    "# first: train only the top layers (which were randomly initialized)\n",
    "# i.e. freeze all convolutional InceptionV3 layers\n",
    "for layer in base_model.layers:\n",
    "    layer.trainable = False\n",
    "\n",
    "# compile the model (should be done *after* setting layers to non-trainable)\n",
    "model.compile(optimizer='rmsprop', loss='categorical_crossentropy', metrics=['accuracy', 'top_k_categorical_accuracy'])\n",
    "model.summary()"
   ]
  },
  {
   "cell_type": "code",
   "execution_count": 66,
   "metadata": {
    "_cell_guid": "0b8d0061-a07c-4a78-b53c-6ca1a2cf9799",
    "_kg_hide-output": false,
    "_uuid": "ce48a33358e9824f2c19e2c69878be9762915b1c"
   },
   "outputs": [
    {
     "name": "stdout",
     "output_type": "stream",
     "text": [
      "Epoch 1/1\n",
      "  11/4949 [..............................] - ETA: 35940s - loss: 8.6206 - acc: 0.0000e+00 - top_k_categorical_accuracy: 0.0000e+ - ETA: 22854s - loss: 6.9399 - acc: 0.0287 - top_k_categorical_accuracy: 0.0937       - ETA: 22607s - loss: 6.0227 - acc: 0.0375 - top_k_categorical_accuracy: 0.15 - ETA: 21861s - loss: 5.4705 - acc: 0.0581 - top_k_categorical_accuracy: 0.21 - ETA: 21478s - loss: 5.1459 - acc: 0.0620 - top_k_categorical_accuracy: 0.25 - ETA: 21048s - loss: 4.8970 - acc: 0.0729 - top_k_categorical_accuracy: 0.28 - ETA: 20919s - loss: 4.7009 - acc: 0.0843 - top_k_categorical_accuracy: 0.31 - ETA: 20984s - loss: 4.5496 - acc: 0.0928 - top_k_categorical_accuracy: 0.33 - ETA: 20993s - loss: 4.4241 - acc: 0.0953 - top_k_categorical_accuracy: 0.35 - ETA: 20927s - loss: 4.3166 - acc: 0.1032 - top_k_categorical_accuracy: 0.36 - ETA: 20910s - loss: 4.2257 - acc: 0.1159 - top_k_categorical_accuracy: 0.3775"
     ]
    },
    {
     "ename": "KeyboardInterrupt",
     "evalue": "",
     "output_type": "error",
     "traceback": [
      "\u001b[1;31m---------------------------------------------------------------------------\u001b[0m",
      "\u001b[1;31mKeyboardInterrupt\u001b[0m                         Traceback (most recent call last)",
      "\u001b[1;32m<ipython-input-66-177a7f93e881>\u001b[0m in \u001b[0;36m<module>\u001b[1;34m()\u001b[0m\n\u001b[0;32m      8\u001b[0m                     \u001b[0mvalidation_steps\u001b[0m \u001b[1;33m=\u001b[0m \u001b[0mnum_val_images\u001b[0m \u001b[1;33m//\u001b[0m \u001b[0mbatch_size\u001b[0m\u001b[1;33m,\u001b[0m\u001b[1;33m\u001b[0m\u001b[0m\n\u001b[0;32m      9\u001b[0m \u001b[1;31m#                     workers = 8,\u001b[0m\u001b[1;33m\u001b[0m\u001b[1;33m\u001b[0m\u001b[0m\n\u001b[1;32m---> 10\u001b[1;33m                    verbose =1)\n\u001b[0m",
      "\u001b[1;32m~\\AppData\\Local\\conda\\conda\\envs\\tensorflow-gpu\\lib\\site-packages\\keras\\legacy\\interfaces.py\u001b[0m in \u001b[0;36mwrapper\u001b[1;34m(*args, **kwargs)\u001b[0m\n\u001b[0;32m     85\u001b[0m                 warnings.warn('Update your `' + object_name +\n\u001b[0;32m     86\u001b[0m                               '` call to the Keras 2 API: ' + signature, stacklevel=2)\n\u001b[1;32m---> 87\u001b[1;33m             \u001b[1;32mreturn\u001b[0m \u001b[0mfunc\u001b[0m\u001b[1;33m(\u001b[0m\u001b[1;33m*\u001b[0m\u001b[0margs\u001b[0m\u001b[1;33m,\u001b[0m \u001b[1;33m**\u001b[0m\u001b[0mkwargs\u001b[0m\u001b[1;33m)\u001b[0m\u001b[1;33m\u001b[0m\u001b[0m\n\u001b[0m\u001b[0;32m     88\u001b[0m         \u001b[0mwrapper\u001b[0m\u001b[1;33m.\u001b[0m\u001b[0m_original_function\u001b[0m \u001b[1;33m=\u001b[0m \u001b[0mfunc\u001b[0m\u001b[1;33m\u001b[0m\u001b[0m\n\u001b[0;32m     89\u001b[0m         \u001b[1;32mreturn\u001b[0m \u001b[0mwrapper\u001b[0m\u001b[1;33m\u001b[0m\u001b[0m\n",
      "\u001b[1;32m~\\AppData\\Local\\conda\\conda\\envs\\tensorflow-gpu\\lib\\site-packages\\keras\\engine\\training.py\u001b[0m in \u001b[0;36mfit_generator\u001b[1;34m(self, generator, steps_per_epoch, epochs, verbose, callbacks, validation_data, validation_steps, class_weight, max_queue_size, workers, use_multiprocessing, shuffle, initial_epoch)\u001b[0m\n\u001b[0;32m   2009\u001b[0m                 \u001b[0mbatch_index\u001b[0m \u001b[1;33m=\u001b[0m \u001b[1;36m0\u001b[0m\u001b[1;33m\u001b[0m\u001b[0m\n\u001b[0;32m   2010\u001b[0m                 \u001b[1;32mwhile\u001b[0m \u001b[0msteps_done\u001b[0m \u001b[1;33m<\u001b[0m \u001b[0msteps_per_epoch\u001b[0m\u001b[1;33m:\u001b[0m\u001b[1;33m\u001b[0m\u001b[0m\n\u001b[1;32m-> 2011\u001b[1;33m                     \u001b[0mgenerator_output\u001b[0m \u001b[1;33m=\u001b[0m \u001b[0mnext\u001b[0m\u001b[1;33m(\u001b[0m\u001b[0moutput_generator\u001b[0m\u001b[1;33m)\u001b[0m\u001b[1;33m\u001b[0m\u001b[0m\n\u001b[0m\u001b[0;32m   2012\u001b[0m \u001b[1;33m\u001b[0m\u001b[0m\n\u001b[0;32m   2013\u001b[0m                     \u001b[1;32mif\u001b[0m \u001b[1;32mnot\u001b[0m \u001b[0mhasattr\u001b[0m\u001b[1;33m(\u001b[0m\u001b[0mgenerator_output\u001b[0m\u001b[1;33m,\u001b[0m \u001b[1;34m'__len__'\u001b[0m\u001b[1;33m)\u001b[0m\u001b[1;33m:\u001b[0m\u001b[1;33m\u001b[0m\u001b[0m\n",
      "\u001b[1;32m~\\AppData\\Local\\conda\\conda\\envs\\tensorflow-gpu\\lib\\site-packages\\keras\\utils\\data_utils.py\u001b[0m in \u001b[0;36mget\u001b[1;34m(self)\u001b[0m\n\u001b[0;32m    642\u001b[0m                     \u001b[1;32myield\u001b[0m \u001b[0minputs\u001b[0m\u001b[1;33m\u001b[0m\u001b[0m\n\u001b[0;32m    643\u001b[0m             \u001b[1;32melse\u001b[0m\u001b[1;33m:\u001b[0m\u001b[1;33m\u001b[0m\u001b[0m\n\u001b[1;32m--> 644\u001b[1;33m                 \u001b[0mtime\u001b[0m\u001b[1;33m.\u001b[0m\u001b[0msleep\u001b[0m\u001b[1;33m(\u001b[0m\u001b[0mself\u001b[0m\u001b[1;33m.\u001b[0m\u001b[0mwait_time\u001b[0m\u001b[1;33m)\u001b[0m\u001b[1;33m\u001b[0m\u001b[0m\n\u001b[0m",
      "\u001b[1;31mKeyboardInterrupt\u001b[0m: "
     ]
    }
   ],
   "source": [
    "batch_size = 400\n",
    "# To train the model:\n",
    "model.fit_generator(train_gen,\n",
    "                    steps_per_epoch = num_train_images // batch_size,\n",
    "                    epochs = 1,\n",
    "                    class_weight = 'auto',\n",
    "                    validation_data = val_gen,\n",
    "                    validation_steps = num_val_images // batch_size,\n",
    "#                     workers = 8,\n",
    "                   verbose =1)"
   ]
  },
  {
   "cell_type": "code",
   "execution_count": null,
   "metadata": {},
   "outputs": [],
   "source": [
    "model.save('model_inception_0.2.h5')"
   ]
  },
  {
   "cell_type": "code",
   "execution_count": null,
   "metadata": {
    "_cell_guid": "d2822e2c-6b4e-4b8b-b346-86e4b5feeb42",
    "_uuid": "3303ec963fa2aeef322fd9d864b296ba1bbb04b1",
    "collapsed": true
   },
   "outputs": [],
   "source": [
    "# To evaluate on the validation set:\n",
    "y = model.evaluate_generator(val_gen, steps=num_val_images // batch_size, workers=8)"
   ]
  },
  {
   "cell_type": "code",
   "execution_count": null,
   "metadata": {
    "collapsed": true
   },
   "outputs": [],
   "source": [
    "y"
   ]
  },
  {
   "cell_type": "code",
   "execution_count": null,
   "metadata": {
    "collapsed": true
   },
   "outputs": [],
   "source": [
    "num_val_images, batch_size"
   ]
  },
  {
   "cell_type": "code",
   "execution_count": null,
   "metadata": {
    "collapsed": true
   },
   "outputs": [],
   "source": [
    "y_pred = model.predict_generator(val_gen, steps=num_val_images//batch_size)"
   ]
  },
  {
   "cell_type": "code",
   "execution_count": null,
   "metadata": {
    "collapsed": true
   },
   "outputs": [],
   "source": [
    "np.set_printoptions(threshold=np.nan)"
   ]
  },
  {
   "cell_type": "code",
   "execution_count": null,
   "metadata": {
    "collapsed": true
   },
   "outputs": [],
   "source": [
    "np.max(y_pred, axis=1)"
   ]
  },
  {
   "cell_type": "code",
   "execution_count": null,
   "metadata": {
    "collapsed": true
   },
   "outputs": [],
   "source": [
    "np.max(y_pred)"
   ]
  },
  {
   "cell_type": "code",
   "execution_count": null,
   "metadata": {
    "collapsed": true
   },
   "outputs": [],
   "source": [
    "y_pred[300][5236], np.argmax(y_pred[300])"
   ]
  },
  {
   "cell_type": "code",
   "execution_count": null,
   "metadata": {
    "collapsed": true
   },
   "outputs": [],
   "source": [
    "np.argmax(y_pred, axis=1)"
   ]
  },
  {
   "cell_type": "code",
   "execution_count": null,
   "metadata": {
    "collapsed": true
   },
   "outputs": [],
   "source": [
    "len(y_pred), len(val_images_df), len(y)"
   ]
  },
  {
   "cell_type": "code",
   "execution_count": null,
   "metadata": {
    "collapsed": true
   },
   "outputs": [],
   "source": [
    "y_pred.shape, val_images_df.shape"
   ]
  },
  {
   "cell_type": "code",
   "execution_count": null,
   "metadata": {
    "collapsed": true
   },
   "outputs": [],
   "source": [
    "val_temp2 = val_images_df[0:len(y_pred)]\n",
    "len(val_temp2)"
   ]
  },
  {
   "cell_type": "code",
   "execution_count": null,
   "metadata": {
    "collapsed": true
   },
   "outputs": [],
   "source": [
    "y_pred = model.predict_generator(val_gen, workers=8)"
   ]
  },
  {
   "cell_type": "code",
   "execution_count": null,
   "metadata": {
    "collapsed": true
   },
   "outputs": [],
   "source": [
    "y_pred1 = model.predict(val_images_df)"
   ]
  },
  {
   "cell_type": "markdown",
   "metadata": {
    "_cell_guid": "2116a8c3-ec60-4878-93af-94c185c08cb3",
    "_uuid": "ee05e14fd2e9354008f23941f97ee3ff7ff73aaf"
   },
   "source": [
    "# Part 4: Test set predictions\n",
    "\n",
    "Note: The previous version of this kernel used `BSONIterator` to load the test set images in batches. However, storing the prediction results takes up a huge amount of memory. \n",
    "\n",
    "I suggest using a different kind of generator instead, something like the following:\n",
    "\n",
    "```\n",
    "from keras import backend as K\n",
    "from keras.preprocessing.image import ImageDataGenerator\n",
    "\n",
    "submission_df = pd.read_csv(data_dir + \"sample_submission.csv\")\n",
    "submission_df.head()\n",
    "\n",
    "test_datagen = ImageDataGenerator(preprocessing_function=preprocess_input)\n",
    "data = bson.decode_file_iter(open(test_bson_path, \"rb\"))\n",
    "\n",
    "with tqdm(total=num_test_products) as pbar:\n",
    "    for c, d in enumerate(data):\n",
    "        product_id = d[\"_id\"]\n",
    "        num_imgs = len(d[\"imgs\"])\n",
    "\n",
    "        batch_x = np.zeros((num_imgs, 180, 180, 3), dtype=K.floatx())\n",
    "\n",
    "        for i in range(num_imgs):\n",
    "            bson_img = d[\"imgs\"][i][\"picture\"]\n",
    "\n",
    "            # Load and preprocess the image.\n",
    "            img = load_img(io.BytesIO(bson_img), target_size=(180, 180))\n",
    "            x = img_to_array(img)\n",
    "            x = test_datagen.random_transform(x)\n",
    "            x = test_datagen.standardize(x)\n",
    "\n",
    "            # Add the image to the batch.\n",
    "            batch_x[i] = x\n",
    "\n",
    "        prediction = model.predict(batch_x, batch_size=num_imgs)\n",
    "        avg_pred = prediction.mean(axis=0)\n",
    "        cat_idx = np.argmax(avg_pred)\n",
    "        \n",
    "        submission_df.iloc[c][\"category_id\"] = idx2cat[cat_idx]        \n",
    "        pbar.update()\n",
    "        \n",
    "submission_df.to_csv(\"my_submission.csv.gz\", compression=\"gzip\", index=False)        \n",
    "```"
   ]
  },
  {
   "cell_type": "code",
   "execution_count": null,
   "metadata": {
    "collapsed": true
   },
   "outputs": [],
   "source": [
    "num_classes = 5270\n",
    "#num_classes = len(train_images_df['category_idx'].unique())\n",
    "num_test_images = len(test_images_df)\n",
    "batch_size = 1000\n",
    "\n",
    "# Tip: use ImageDataGenerator for data augmentation and preprocessing.\n",
    "test_datagen = ImageDataGenerator()\n",
    "test_gen = BSONIterator(test_bson_file, test_images_df, train_offsets_df, \n",
    "                         num_classes, train_datagen, lock,\n",
    "                         batch_size=batch_size, shuffle=True)"
   ]
  }
 ],
 "metadata": {
  "kernelspec": {
   "display_name": "Python 3",
   "language": "python",
   "name": "python3"
  },
  "language_info": {
   "codemirror_mode": {
    "name": "ipython",
    "version": 3
   },
   "file_extension": ".py",
   "mimetype": "text/x-python",
   "name": "python",
   "nbconvert_exporter": "python",
   "pygments_lexer": "ipython3",
   "version": "3.5.4"
  }
 },
 "nbformat": 4,
 "nbformat_minor": 1
}
