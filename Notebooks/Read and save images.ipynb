{
 "cells": [
  {
   "cell_type": "code",
   "execution_count": 4,
   "metadata": {},
   "outputs": [],
   "source": [
    "import io\n",
    "import os\n",
    "import bson\n",
    "from tqdm import tqdm\n",
    "import matplotlib.pyplot as plt\n",
    "%matplotlib inline\n",
    "# import matplotlib.image as mpimage\n",
    "from skimage.data import imread\n",
    "# from cv2 import imread\n",
    "import multiprocessing as mp\n",
    "from glob import iglob"
   ]
  },
  {
   "cell_type": "code",
   "execution_count": 5,
   "metadata": {},
   "outputs": [],
   "source": [
    "bson_file = 'train.bson'\n",
    "NCORE = 8\n",
    "max_images = 7069896"
   ]
  },
  {
   "cell_type": "code",
   "execution_count": 6,
   "metadata": {},
   "outputs": [],
   "source": [
    "input_dir = os.path.join(os.getcwd(), 'input')\n",
    "base_dir = os.path.join(os.getcwd())\n",
    "images_dir = os.path.join(base_dir, 'images')\n",
    "bson_file = os.path.join(input_dir, bson_file)"
   ]
  },
  {
   "cell_type": "code",
   "execution_count": 7,
   "metadata": {},
   "outputs": [],
   "source": [
    "product_count = 0\n",
    "category_count = 0\n",
    "picture_count = 0"
   ]
  },
  {
   "cell_type": "code",
   "execution_count": 8,
   "metadata": {},
   "outputs": [],
   "source": [
    "def process(q, iolock):\n",
    "    global product_count\n",
    "    global category_count\n",
    "    global picture_count\n",
    "    while True:\n",
    "        d = q.get()\n",
    "        if d is None:\n",
    "            break\n",
    "\n",
    "        product_count += 1\n",
    "        product_id = str(d['_id'])\n",
    "        category_id = str(d['category_id'])\n",
    "\n",
    "        category_dir = os.path.join(images_dir, category_id)\n",
    "        if not os.path.exists(category_dir):\n",
    "            category_count += 1\n",
    "            try:\n",
    "                os.makedirs(category_dir)\n",
    "            except:\n",
    "                pass\n",
    "\n",
    "        for e, pic in enumerate(d['imgs']):\n",
    "            picture_count += 1\n",
    "            picture = imread(io.BytesIO(pic['picture']))\n",
    "            picture_file = os.path.join(category_dir, product_id + '_' + str(e) + '.jpg')\n",
    "            if not os.path.isfile(picture_file):\n",
    "                plt.imsave(picture_file, picture)\n"
   ]
  },
  {
   "cell_type": "code",
   "execution_count": 9,
   "metadata": {},
   "outputs": [
    {
     "name": "stderr",
     "output_type": "stream",
     "text": [
      "Process ForkPoolWorker-1:\n",
      "Process ForkPoolWorker-5:\n",
      "Process ForkPoolWorker-3:\n",
      "Traceback (most recent call last):\n",
      "Process ForkPoolWorker-6:\n",
      "Traceback (most recent call last):\n",
      "Traceback (most recent call last):\n",
      "Process ForkPoolWorker-7:\n",
      "Process ForkPoolWorker-8:\n",
      "  File \"/usr/lib/python3.5/multiprocessing/process.py\", line 249, in _bootstrap\n",
      "    self.run()\n",
      "  File \"/usr/lib/python3.5/multiprocessing/process.py\", line 249, in _bootstrap\n",
      "    self.run()\n",
      "Traceback (most recent call last):\n",
      "Traceback (most recent call last):\n",
      "  File \"/usr/lib/python3.5/multiprocessing/process.py\", line 249, in _bootstrap\n",
      "    self.run()\n",
      "  File \"/usr/lib/python3.5/multiprocessing/process.py\", line 249, in _bootstrap\n",
      "    self.run()\n",
      "Traceback (most recent call last):\n",
      "  File \"/usr/lib/python3.5/multiprocessing/process.py\", line 93, in run\n",
      "    self._target(*self._args, **self._kwargs)\n",
      "  File \"/usr/lib/python3.5/multiprocessing/process.py\", line 249, in _bootstrap\n",
      "    self.run()\n",
      "  File \"/usr/lib/python3.5/multiprocessing/process.py\", line 93, in run\n",
      "    self._target(*self._args, **self._kwargs)\n",
      "Traceback (most recent call last):\n",
      "Process ForkPoolWorker-2:\n",
      "  File \"/usr/lib/python3.5/multiprocessing/pool.py\", line 103, in worker\n",
      "    initializer(*initargs)\n",
      "  File \"/usr/lib/python3.5/multiprocessing/process.py\", line 93, in run\n",
      "    self._target(*self._args, **self._kwargs)\n",
      "  File \"/usr/lib/python3.5/multiprocessing/process.py\", line 93, in run\n",
      "    self._target(*self._args, **self._kwargs)\n",
      "  File \"/usr/lib/python3.5/multiprocessing/process.py\", line 249, in _bootstrap\n",
      "    self.run()\n",
      "  File \"/usr/lib/python3.5/multiprocessing/pool.py\", line 103, in worker\n",
      "    initializer(*initargs)\n",
      "  File \"/usr/lib/python3.5/multiprocessing/process.py\", line 93, in run\n",
      "    self._target(*self._args, **self._kwargs)\n",
      "Process ForkPoolWorker-4:\n",
      "  File \"/usr/lib/python3.5/multiprocessing/pool.py\", line 103, in worker\n",
      "    initializer(*initargs)\n",
      "  File \"/usr/lib/python3.5/multiprocessing/pool.py\", line 103, in worker\n",
      "    initializer(*initargs)\n",
      "  File \"/usr/lib/python3.5/multiprocessing/process.py\", line 249, in _bootstrap\n",
      "    self.run()\n",
      "  File \"<ipython-input-8-8cfb6e11feb6>\", line 24, in process\n",
      "    picture = imread(io.BytesIO(pic['picture']))\n",
      "  File \"/usr/lib/python3.5/multiprocessing/pool.py\", line 103, in worker\n",
      "    initializer(*initargs)\n",
      "  File \"<ipython-input-8-8cfb6e11feb6>\", line 6, in process\n",
      "    d = q.get()\n",
      "  File \"/usr/lib/python3.5/multiprocessing/process.py\", line 93, in run\n",
      "    self._target(*self._args, **self._kwargs)\n",
      "  File \"<ipython-input-8-8cfb6e11feb6>\", line 27, in process\n",
      "    plt.imsave(picture_file, picture)\n",
      "KeyboardInterrupt\n",
      "  File \"<ipython-input-8-8cfb6e11feb6>\", line 27, in process\n",
      "    plt.imsave(picture_file, picture)\n",
      "Traceback (most recent call last):\n",
      "  File \"/usr/lib/python3.5/multiprocessing/pool.py\", line 103, in worker\n",
      "    initializer(*initargs)\n",
      "  File \"/usr/local/lib/python3.5/dist-packages/matplotlib/pyplot.py\", line 2238, in imsave\n",
      "    return _imsave(*args, **kwargs)\n",
      "  File \"<ipython-input-8-8cfb6e11feb6>\", line 27, in process\n",
      "    plt.imsave(picture_file, picture)\n",
      "  File \"<ipython-input-8-8cfb6e11feb6>\", line 27, in process\n",
      "    plt.imsave(picture_file, picture)\n",
      "  File \"/usr/lib/python3.5/multiprocessing/process.py\", line 93, in run\n",
      "    self._target(*self._args, **self._kwargs)\n",
      "  File \"/usr/lib/python3.5/multiprocessing/queues.py\", line 95, in get\n",
      "    self._sem.release()\n",
      "  File \"/usr/local/lib/python3.5/dist-packages/matplotlib/pyplot.py\", line 2238, in imsave\n",
      "    return _imsave(*args, **kwargs)\n",
      "  File \"/usr/local/lib/python3.5/dist-packages/matplotlib/pyplot.py\", line 2238, in imsave\n",
      "    return _imsave(*args, **kwargs)\n",
      "  File \"/usr/lib/python3.5/multiprocessing/process.py\", line 249, in _bootstrap\n",
      "    self.run()\n",
      "  File \"/usr/lib/python3.5/multiprocessing/pool.py\", line 103, in worker\n",
      "    initializer(*initargs)\n",
      "  File \"/usr/local/lib/python3.5/dist-packages/matplotlib/image.py\", line 1349, in imsave\n",
      "    image.write_png(fname)\n",
      "  File \"/usr/local/lib/python3.5/dist-packages/matplotlib/pyplot.py\", line 2238, in imsave\n",
      "    return _imsave(*args, **kwargs)\n",
      "KeyboardInterrupt\n",
      "  File \"/usr/local/lib/python3.5/dist-packages/matplotlib/image.py\", line 1349, in imsave\n",
      "    image.write_png(fname)\n",
      "  File \"/usr/local/lib/python3.5/dist-packages/matplotlib/image.py\", line 1347, in imsave\n",
      "    image.set_data(arr)\n",
      "  File \"<ipython-input-8-8cfb6e11feb6>\", line 27, in process\n",
      "    plt.imsave(picture_file, picture)\n",
      "  File \"/usr/local/lib/python3.5/dist-packages/matplotlib/image.py\", line 582, in write_png\n",
      "    _png.write_png(im, fname)\n",
      "  File \"/usr/local/lib/python3.5/dist-packages/matplotlib/image.py\", line 582, in write_png\n",
      "    _png.write_png(im, fname)\n",
      "  File \"/usr/local/lib/python3.5/dist-packages/matplotlib/image.py\", line 600, in set_data\n",
      "    raise TypeError(\"Image data cannot be converted to float\")\n",
      "  File \"/usr/local/lib/python3.5/dist-packages/matplotlib/pyplot.py\", line 2238, in imsave\n",
      "    return _imsave(*args, **kwargs)\n",
      "  File \"/usr/lib/python3.5/multiprocessing/process.py\", line 93, in run\n",
      "    self._target(*self._args, **self._kwargs)\n",
      "KeyboardInterrupt\n",
      "  File \"/usr/local/lib/python3.5/dist-packages/matplotlib/image.py\", line 1349, in imsave\n",
      "    image.write_png(fname)\n",
      "  File \"/usr/lib/python3.5/multiprocessing/pool.py\", line 103, in worker\n",
      "    initializer(*initargs)\n",
      "TypeError: Image data cannot be converted to float\n",
      "  File \"/usr/local/lib/python3.5/dist-packages/matplotlib/image.py\", line 1349, in imsave\n",
      "    image.write_png(fname)\n",
      "  File \"<ipython-input-8-8cfb6e11feb6>\", line 27, in process\n",
      "    plt.imsave(picture_file, picture)\n",
      "  File \"/usr/local/lib/python3.5/dist-packages/matplotlib/image.py\", line 582, in write_png\n",
      "    _png.write_png(im, fname)\n",
      "  File \"/usr/local/lib/python3.5/dist-packages/matplotlib/image.py\", line 582, in write_png\n",
      "    _png.write_png(im, fname)\n",
      "  File \"/usr/local/lib/python3.5/dist-packages/matplotlib/pyplot.py\", line 2238, in imsave\n",
      "    return _imsave(*args, **kwargs)\n",
      "KeyboardInterrupt\n",
      "KeyboardInterrupt\n",
      "  File \"/usr/local/lib/python3.5/dist-packages/matplotlib/image.py\", line 1349, in imsave\n",
      "    image.write_png(fname)\n",
      "KeyboardInterrupt\n",
      "  File \"/usr/local/lib/python3.5/dist-packages/matplotlib/image.py\", line 582, in write_png\n",
      "    _png.write_png(im, fname)\n",
      "KeyboardInterrupt\n"
     ]
    }
   ],
   "source": [
    "q = mp.Queue(maxsize=NCORE)\n",
    "iolock = mp.Lock()\n",
    "pool = mp.Pool(NCORE, initializer=process, initargs=(q, iolock))"
   ]
  },
  {
   "cell_type": "code",
   "execution_count": 10,
   "metadata": {},
   "outputs": [],
   "source": [
    "data = bson.decode_file_iter(open(bson_file, 'rb'))"
   ]
  },
  {
   "cell_type": "code",
   "execution_count": 11,
   "metadata": {},
   "outputs": [
    {
     "ename": "KeyboardInterrupt",
     "evalue": "",
     "output_type": "error",
     "traceback": [
      "\u001b[0;31m---------------------------------------------------------------------------\u001b[0m",
      "\u001b[0;31mKeyboardInterrupt\u001b[0m                         Traceback (most recent call last)",
      "\u001b[0;32m<ipython-input-11-a4634b4501e6>\u001b[0m in \u001b[0;36m<module>\u001b[0;34m()\u001b[0m\n\u001b[1;32m      2\u001b[0m     \u001b[0;32mif\u001b[0m \u001b[0;34m(\u001b[0m\u001b[0mc\u001b[0m \u001b[0;34m+\u001b[0m \u001b[0;36m1\u001b[0m\u001b[0;34m)\u001b[0m \u001b[0;34m>\u001b[0m \u001b[0mmax_images\u001b[0m\u001b[0;34m:\u001b[0m\u001b[0;34m\u001b[0m\u001b[0m\n\u001b[1;32m      3\u001b[0m         \u001b[0;32mbreak\u001b[0m\u001b[0;34m\u001b[0m\u001b[0m\n\u001b[0;32m----> 4\u001b[0;31m     \u001b[0mq\u001b[0m\u001b[0;34m.\u001b[0m\u001b[0mput\u001b[0m\u001b[0;34m(\u001b[0m\u001b[0md\u001b[0m\u001b[0;34m)\u001b[0m  \u001b[0;31m# blocks until q below its max size\u001b[0m\u001b[0;34m\u001b[0m\u001b[0m\n\u001b[0m\u001b[1;32m      5\u001b[0m \u001b[0;34m\u001b[0m\u001b[0m\n\u001b[1;32m      6\u001b[0m \u001b[0;31m# tell workers we're done\u001b[0m\u001b[0;34m\u001b[0m\u001b[0;34m\u001b[0m\u001b[0m\n",
      "\u001b[0;32m/usr/lib/python3.5/multiprocessing/queues.py\u001b[0m in \u001b[0;36mput\u001b[0;34m(self, obj, block, timeout)\u001b[0m\n\u001b[1;32m     80\u001b[0m     \u001b[0;32mdef\u001b[0m \u001b[0mput\u001b[0m\u001b[0;34m(\u001b[0m\u001b[0mself\u001b[0m\u001b[0;34m,\u001b[0m \u001b[0mobj\u001b[0m\u001b[0;34m,\u001b[0m \u001b[0mblock\u001b[0m\u001b[0;34m=\u001b[0m\u001b[0;32mTrue\u001b[0m\u001b[0;34m,\u001b[0m \u001b[0mtimeout\u001b[0m\u001b[0;34m=\u001b[0m\u001b[0;32mNone\u001b[0m\u001b[0;34m)\u001b[0m\u001b[0;34m:\u001b[0m\u001b[0;34m\u001b[0m\u001b[0m\n\u001b[1;32m     81\u001b[0m         \u001b[0;32massert\u001b[0m \u001b[0;32mnot\u001b[0m \u001b[0mself\u001b[0m\u001b[0;34m.\u001b[0m\u001b[0m_closed\u001b[0m\u001b[0;34m\u001b[0m\u001b[0m\n\u001b[0;32m---> 82\u001b[0;31m         \u001b[0;32mif\u001b[0m \u001b[0;32mnot\u001b[0m \u001b[0mself\u001b[0m\u001b[0;34m.\u001b[0m\u001b[0m_sem\u001b[0m\u001b[0;34m.\u001b[0m\u001b[0macquire\u001b[0m\u001b[0;34m(\u001b[0m\u001b[0mblock\u001b[0m\u001b[0;34m,\u001b[0m \u001b[0mtimeout\u001b[0m\u001b[0;34m)\u001b[0m\u001b[0;34m:\u001b[0m\u001b[0;34m\u001b[0m\u001b[0m\n\u001b[0m\u001b[1;32m     83\u001b[0m             \u001b[0;32mraise\u001b[0m \u001b[0mFull\u001b[0m\u001b[0;34m\u001b[0m\u001b[0m\n\u001b[1;32m     84\u001b[0m \u001b[0;34m\u001b[0m\u001b[0m\n",
      "\u001b[0;31mKeyboardInterrupt\u001b[0m: "
     ]
    }
   ],
   "source": [
    "for c, d in enumerate(data):\n",
    "    if (c + 1) > max_images:\n",
    "        break\n",
    "    q.put(d)  # blocks until q below its max size\n",
    "\n",
    "# tell workers we're done\n",
    "for _ in range(NCORE):\n",
    "    q.put(None)\n",
    "pool.close()\n",
    "pool.join()"
   ]
  },
  {
   "cell_type": "code",
   "execution_count": 89,
   "metadata": {},
   "outputs": [
    {
     "name": "stdout",
     "output_type": "stream",
     "text": [
      "Images saved at /home/ubuntu/storage/images\n",
      "Products: \t0\n",
      "Categories: \t0\n",
      "Pictures: \t0\n",
      "\"retrained_labels.txt\" saved at /home/ubuntu/storage\n"
     ]
    }
   ],
   "source": [
    "print('Images saved at %s' % images_dir)\n",
    "print('Products: \\t%d\\nCategories: \\t%d\\nPictures: \\t%d' % (product_count, category_count, picture_count))\n",
    "\n",
    "file = open(os.path.join(base_dir, 'retrained_labels.txt'), 'w')\n",
    "\n",
    "rootdir_glob = images_dir + '/**/*'\n",
    "folder_list = [f for f in iglob(rootdir_glob) if os.path.isdir(f)]\n",
    "for folder in folder_list:\n",
    "    category = folder.split('/')[-1]\n",
    "    file.write(category + '\\n')\n",
    "\n",
    "file.close()\n",
    "\n",
    "print('\"retrained_labels.txt\" saved at %s' % base_dir)"
   ]
  },
  {
   "cell_type": "code",
   "execution_count": null,
   "metadata": {},
   "outputs": [],
   "source": []
  }
 ],
 "metadata": {
  "kernelspec": {
   "display_name": "Python 3",
   "language": "python",
   "name": "python3"
  },
  "language_info": {
   "codemirror_mode": {
    "name": "ipython",
    "version": 3
   },
   "file_extension": ".py",
   "mimetype": "text/x-python",
   "name": "python",
   "nbconvert_exporter": "python",
   "pygments_lexer": "ipython3",
   "version": "3.5.2"
  }
 },
 "nbformat": 4,
 "nbformat_minor": 2
}
