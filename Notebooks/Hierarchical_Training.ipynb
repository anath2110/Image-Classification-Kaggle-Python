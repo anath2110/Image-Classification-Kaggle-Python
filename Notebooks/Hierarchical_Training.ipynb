{
 "cells": [
  {
   "cell_type": "markdown",
   "metadata": {
    "_cell_guid": "75d61c38-954c-4bd1-a127-5d17e1812402",
    "_uuid": "2ae1f395d8768512da0739dded661e329dbfa14e"
   },
   "source": [
    "This notebook contains a generator class for Keras called `BSONIterator` that can read directly from the BSON data. You can use it in combination with `ImageDataGenerator` for doing data augmentation."
   ]
  },
  {
   "cell_type": "code",
   "execution_count": 1,
   "metadata": {
    "_cell_guid": "4036f11e-5223-46e5-8948-5cbf70a9bf73",
    "_uuid": "3767d2738682e30c292a466f66bc75fcc80a5076",
    "collapsed": false
   },
   "outputs": [
    {
     "name": "stderr",
     "output_type": "stream",
     "text": [
      "Using TensorFlow backend.\n"
     ]
    }
   ],
   "source": [
    "import os, sys, math, io\n",
    "import numpy as np\n",
    "import pandas as pd\n",
    "import multiprocessing as mp\n",
    "import bson\n",
    "import struct\n",
    "\n",
    "%matplotlib inline\n",
    "import matplotlib.pyplot as plt\n",
    "\n",
    "import keras\n",
    "from keras.preprocessing.image import load_img, img_to_array\n",
    "import tensorflow as tf\n",
    "\n",
    "from collections import defaultdict\n",
    "from tqdm import *\n",
    "\n",
    "# Input data files are available in the \"../input/\" directory.\n",
    "# For example, running this (by clicking run or pressing Shift+Enter) will list the files in the input directory\n",
    "\n",
    "from subprocess import check_output\n",
    "#print(check_output([\"ls\", \"input\"]).decode(\"utf8\"))\n",
    "\n",
    "# Any results you write to the current directory are saved as output."
   ]
  },
  {
   "cell_type": "code",
   "execution_count": 2,
   "metadata": {
    "_cell_guid": "3601ddc2-5dca-463c-be54-a297e019469a",
    "_uuid": "41fb122f53b29ff6c7cdba4f08001fa8204fab34",
    "collapsed": false
   },
   "outputs": [
    {
     "data": {
      "text/plain": [
       "('2.0.8', '1.1.0')"
      ]
     },
     "execution_count": 2,
     "metadata": {},
     "output_type": "execute_result"
    }
   ],
   "source": [
    "keras.__version__, tf.__version__"
   ]
  },
  {
   "cell_type": "code",
   "execution_count": 3,
   "metadata": {
    "_cell_guid": "dfec6cb3-3b14-44cc-920c-c4bba4f79589",
    "_uuid": "1d92f3f86af7906e204eec1d536bd29878fed02d",
    "collapsed": false
   },
   "outputs": [
    {
     "name": "stdout",
     "output_type": "stream",
     "text": [
      "/home/manojps/Documents/deep_learning/Project/test.bson\n"
     ]
    }
   ],
   "source": [
    "data_dir = \"/home/manojps/Documents/deep_learning/Project\"\n",
    "#data_dir = \"C:\\\\Users\\\\msaha\\\\Documents\\\\Deep_Learning\\\\Project\\\\\"\n",
    "\n",
    "train_bson_path = os.path.join(data_dir, \"train.bson\")\n",
    "num_train_products = 7069896\n",
    "\n",
    "# train_bson_path = os.path.join(data_dir, \"train_example.bson\")\n",
    "# num_train_products = 82\n",
    "\n",
    "test_bson_path = os.path.join(data_dir, \"test.bson\")\n",
    "num_test_products = 1768182\n",
    "\n",
    "print(test_bson_path)"
   ]
  },
  {
   "cell_type": "markdown",
   "metadata": {
    "_cell_guid": "3c24b66f-0f55-4007-86d9-aae6ec1c16bc",
    "_uuid": "0c1457925b72937cc9b8d431142f06098cbfe06c"
   },
   "source": [
    "# Part 1: Create lookup tables\n",
    "\n",
    "The generator uses several lookup tables that describe the layout of the BSON file, which products and images are part of the training/validation sets, and so on.\n",
    "\n",
    "You only need to generate these tables once, as they get saved to CSV files. If you already have these CSV files, skip to part 2."
   ]
  },
  {
   "cell_type": "markdown",
   "metadata": {
    "_cell_guid": "593c6f49-83eb-4491-bcd1-0131845e395c",
    "_uuid": "7ea59756f0ab3eb271e2b5d6495e6a158311de35"
   },
   "source": [
    "## Lookup table for categories"
   ]
  },
  {
   "cell_type": "code",
   "execution_count": 4,
   "metadata": {
    "_cell_guid": "c049b397-8b31-4389-9657-f0281c5f7b4f",
    "_uuid": "c2a19dc1ea89274a1ab3332fa635e6dfdc385ce6",
    "collapsed": false
   },
   "outputs": [
    {
     "data": {
      "text/html": [
       "<div>\n",
       "<style>\n",
       "    .dataframe thead tr:only-child th {\n",
       "        text-align: right;\n",
       "    }\n",
       "\n",
       "    .dataframe thead th {\n",
       "        text-align: left;\n",
       "    }\n",
       "\n",
       "    .dataframe tbody tr th {\n",
       "        vertical-align: top;\n",
       "    }\n",
       "</style>\n",
       "<table border=\"1\" class=\"dataframe\">\n",
       "  <thead>\n",
       "    <tr style=\"text-align: right;\">\n",
       "      <th></th>\n",
       "      <th>category_id</th>\n",
       "      <th>category_level1</th>\n",
       "      <th>category_level2</th>\n",
       "      <th>category_level3</th>\n",
       "      <th>category_idx</th>\n",
       "    </tr>\n",
       "  </thead>\n",
       "  <tbody>\n",
       "    <tr>\n",
       "      <th>0</th>\n",
       "      <td>1000021794</td>\n",
       "      <td>ABONNEMENT / SERVICES</td>\n",
       "      <td>CARTE PREPAYEE</td>\n",
       "      <td>CARTE PREPAYEE MULTIMEDIA</td>\n",
       "      <td>0</td>\n",
       "    </tr>\n",
       "    <tr>\n",
       "      <th>1</th>\n",
       "      <td>1000012764</td>\n",
       "      <td>AMENAGEMENT URBAIN - VOIRIE</td>\n",
       "      <td>AMENAGEMENT URBAIN</td>\n",
       "      <td>ABRI FUMEUR</td>\n",
       "      <td>1</td>\n",
       "    </tr>\n",
       "    <tr>\n",
       "      <th>2</th>\n",
       "      <td>1000012776</td>\n",
       "      <td>AMENAGEMENT URBAIN - VOIRIE</td>\n",
       "      <td>AMENAGEMENT URBAIN</td>\n",
       "      <td>ABRI VELO - ABRI MOTO</td>\n",
       "      <td>2</td>\n",
       "    </tr>\n",
       "    <tr>\n",
       "      <th>3</th>\n",
       "      <td>1000012768</td>\n",
       "      <td>AMENAGEMENT URBAIN - VOIRIE</td>\n",
       "      <td>AMENAGEMENT URBAIN</td>\n",
       "      <td>FONTAINE A EAU</td>\n",
       "      <td>3</td>\n",
       "    </tr>\n",
       "    <tr>\n",
       "      <th>4</th>\n",
       "      <td>1000012755</td>\n",
       "      <td>AMENAGEMENT URBAIN - VOIRIE</td>\n",
       "      <td>SIGNALETIQUE</td>\n",
       "      <td>PANNEAU D'INFORMATION EXTERIEUR</td>\n",
       "      <td>4</td>\n",
       "    </tr>\n",
       "  </tbody>\n",
       "</table>\n",
       "</div>"
      ],
      "text/plain": [
       "   category_id              category_level1     category_level2  \\\n",
       "0   1000021794        ABONNEMENT / SERVICES      CARTE PREPAYEE   \n",
       "1   1000012764  AMENAGEMENT URBAIN - VOIRIE  AMENAGEMENT URBAIN   \n",
       "2   1000012776  AMENAGEMENT URBAIN - VOIRIE  AMENAGEMENT URBAIN   \n",
       "3   1000012768  AMENAGEMENT URBAIN - VOIRIE  AMENAGEMENT URBAIN   \n",
       "4   1000012755  AMENAGEMENT URBAIN - VOIRIE        SIGNALETIQUE   \n",
       "\n",
       "                   category_level3  category_idx  \n",
       "0        CARTE PREPAYEE MULTIMEDIA             0  \n",
       "1                      ABRI FUMEUR             1  \n",
       "2            ABRI VELO - ABRI MOTO             2  \n",
       "3                   FONTAINE A EAU             3  \n",
       "4  PANNEAU D'INFORMATION EXTERIEUR             4  "
      ]
     },
     "execution_count": 4,
     "metadata": {},
     "output_type": "execute_result"
    }
   ],
   "source": [
    "categories_path = os.path.join(data_dir, \"category_names.csv\")\n",
    "#categories_df = pd.read_csv(categories_path, index_col=\"category_id\")\n",
    "categories_df = pd.read_csv(categories_path)\n",
    "\n",
    "# Maps the category_id to an integer index. This is what we'll use to\n",
    "# one-hot encode the labels.\n",
    "categories_df[\"category_idx\"] = pd.Series(range(len(categories_df)), index=categories_df.index)\n",
    "\n",
    "#categories_df.to_csv(\"categories.csv\")\n",
    "categories_df.head()"
   ]
  },
  {
   "cell_type": "code",
   "execution_count": 5,
   "metadata": {
    "collapsed": false
   },
   "outputs": [
    {
     "data": {
      "text/html": [
       "<div>\n",
       "<style>\n",
       "    .dataframe thead tr:only-child th {\n",
       "        text-align: right;\n",
       "    }\n",
       "\n",
       "    .dataframe thead th {\n",
       "        text-align: left;\n",
       "    }\n",
       "\n",
       "    .dataframe tbody tr th {\n",
       "        vertical-align: top;\n",
       "    }\n",
       "</style>\n",
       "<table border=\"1\" class=\"dataframe\">\n",
       "  <thead>\n",
       "    <tr style=\"text-align: right;\">\n",
       "      <th></th>\n",
       "      <th>category_level1</th>\n",
       "      <th>cat1_idx</th>\n",
       "    </tr>\n",
       "  </thead>\n",
       "  <tbody>\n",
       "    <tr>\n",
       "      <th>0</th>\n",
       "      <td>ABONNEMENT / SERVICES</td>\n",
       "      <td>0</td>\n",
       "    </tr>\n",
       "    <tr>\n",
       "      <th>1</th>\n",
       "      <td>AMENAGEMENT URBAIN - VOIRIE</td>\n",
       "      <td>1</td>\n",
       "    </tr>\n",
       "    <tr>\n",
       "      <th>2</th>\n",
       "      <td>ANIMALERIE</td>\n",
       "      <td>2</td>\n",
       "    </tr>\n",
       "    <tr>\n",
       "      <th>3</th>\n",
       "      <td>APICULTURE</td>\n",
       "      <td>3</td>\n",
       "    </tr>\n",
       "    <tr>\n",
       "      <th>4</th>\n",
       "      <td>ART DE LA TABLE - ARTICLES CULINAIRES</td>\n",
       "      <td>4</td>\n",
       "    </tr>\n",
       "  </tbody>\n",
       "</table>\n",
       "</div>"
      ],
      "text/plain": [
       "                         category_level1  cat1_idx\n",
       "0                  ABONNEMENT / SERVICES         0\n",
       "1            AMENAGEMENT URBAIN - VOIRIE         1\n",
       "2                             ANIMALERIE         2\n",
       "3                             APICULTURE         3\n",
       "4  ART DE LA TABLE - ARTICLES CULINAIRES         4"
      ]
     },
     "execution_count": 5,
     "metadata": {},
     "output_type": "execute_result"
    }
   ],
   "source": [
    "# Create a dataframe with category level1 idx\n",
    "cat1_level_df = pd.DataFrame(categories_df.category_level1.unique())\n",
    "cat1_level_df.rename(columns={0: \"category_level1\"}, inplace=True)\n",
    "cat1_level_df[\"cat1_idx\"] = pd.Series(range(len(cat1_level_df)), index=cat1_level_df.index)\n",
    "cat1_level_df.head()"
   ]
  },
  {
   "cell_type": "code",
   "execution_count": 6,
   "metadata": {
    "collapsed": false
   },
   "outputs": [
    {
     "data": {
      "text/plain": [
       "array([ 0,  1,  2,  3,  4,  5,  6,  7,  8,  9, 10, 11, 12, 13, 14, 15, 16,\n",
       "       17, 18, 19, 20, 21, 22, 23, 24, 25, 26, 27, 28, 29, 30, 31, 32, 33,\n",
       "       34, 35, 36, 37, 38, 39, 40, 41, 42, 43, 44, 45, 46, 47, 48])"
      ]
     },
     "execution_count": 6,
     "metadata": {},
     "output_type": "execute_result"
    }
   ],
   "source": [
    "cat1_level_df.cat1_idx.unique()"
   ]
  },
  {
   "cell_type": "code",
   "execution_count": 7,
   "metadata": {
    "collapsed": false
   },
   "outputs": [
    {
     "data": {
      "text/html": [
       "<div>\n",
       "<style>\n",
       "    .dataframe thead tr:only-child th {\n",
       "        text-align: right;\n",
       "    }\n",
       "\n",
       "    .dataframe thead th {\n",
       "        text-align: left;\n",
       "    }\n",
       "\n",
       "    .dataframe tbody tr th {\n",
       "        vertical-align: top;\n",
       "    }\n",
       "</style>\n",
       "<table border=\"1\" class=\"dataframe\">\n",
       "  <thead>\n",
       "    <tr style=\"text-align: right;\">\n",
       "      <th></th>\n",
       "      <th>category_id</th>\n",
       "      <th>category_level1</th>\n",
       "      <th>category_level2</th>\n",
       "      <th>category_level3</th>\n",
       "      <th>category_idx</th>\n",
       "      <th>cat1_idx</th>\n",
       "    </tr>\n",
       "  </thead>\n",
       "  <tbody>\n",
       "    <tr>\n",
       "      <th>0</th>\n",
       "      <td>1000021794</td>\n",
       "      <td>ABONNEMENT / SERVICES</td>\n",
       "      <td>CARTE PREPAYEE</td>\n",
       "      <td>CARTE PREPAYEE MULTIMEDIA</td>\n",
       "      <td>0</td>\n",
       "      <td>0</td>\n",
       "    </tr>\n",
       "    <tr>\n",
       "      <th>1</th>\n",
       "      <td>1000012764</td>\n",
       "      <td>AMENAGEMENT URBAIN - VOIRIE</td>\n",
       "      <td>AMENAGEMENT URBAIN</td>\n",
       "      <td>ABRI FUMEUR</td>\n",
       "      <td>1</td>\n",
       "      <td>1</td>\n",
       "    </tr>\n",
       "    <tr>\n",
       "      <th>2</th>\n",
       "      <td>1000012776</td>\n",
       "      <td>AMENAGEMENT URBAIN - VOIRIE</td>\n",
       "      <td>AMENAGEMENT URBAIN</td>\n",
       "      <td>ABRI VELO - ABRI MOTO</td>\n",
       "      <td>2</td>\n",
       "      <td>1</td>\n",
       "    </tr>\n",
       "    <tr>\n",
       "      <th>3</th>\n",
       "      <td>1000012768</td>\n",
       "      <td>AMENAGEMENT URBAIN - VOIRIE</td>\n",
       "      <td>AMENAGEMENT URBAIN</td>\n",
       "      <td>FONTAINE A EAU</td>\n",
       "      <td>3</td>\n",
       "      <td>1</td>\n",
       "    </tr>\n",
       "    <tr>\n",
       "      <th>4</th>\n",
       "      <td>1000012755</td>\n",
       "      <td>AMENAGEMENT URBAIN - VOIRIE</td>\n",
       "      <td>SIGNALETIQUE</td>\n",
       "      <td>PANNEAU D'INFORMATION EXTERIEUR</td>\n",
       "      <td>4</td>\n",
       "      <td>1</td>\n",
       "    </tr>\n",
       "  </tbody>\n",
       "</table>\n",
       "</div>"
      ],
      "text/plain": [
       "   category_id              category_level1     category_level2  \\\n",
       "0   1000021794        ABONNEMENT / SERVICES      CARTE PREPAYEE   \n",
       "1   1000012764  AMENAGEMENT URBAIN - VOIRIE  AMENAGEMENT URBAIN   \n",
       "2   1000012776  AMENAGEMENT URBAIN - VOIRIE  AMENAGEMENT URBAIN   \n",
       "3   1000012768  AMENAGEMENT URBAIN - VOIRIE  AMENAGEMENT URBAIN   \n",
       "4   1000012755  AMENAGEMENT URBAIN - VOIRIE        SIGNALETIQUE   \n",
       "\n",
       "                   category_level3  category_idx  cat1_idx  \n",
       "0        CARTE PREPAYEE MULTIMEDIA             0         0  \n",
       "1                      ABRI FUMEUR             1         1  \n",
       "2            ABRI VELO - ABRI MOTO             2         1  \n",
       "3                   FONTAINE A EAU             3         1  \n",
       "4  PANNEAU D'INFORMATION EXTERIEUR             4         1  "
      ]
     },
     "execution_count": 7,
     "metadata": {},
     "output_type": "execute_result"
    }
   ],
   "source": [
    "# Merge categories_df and cat1_levle_df into categories_df\n",
    "categories_df = pd.merge(categories_df, cat1_level_df, on=\"category_level1\", how=\"inner\")\n",
    "categories_df.head()"
   ]
  },
  {
   "cell_type": "code",
   "execution_count": 8,
   "metadata": {
    "collapsed": false
   },
   "outputs": [
    {
     "data": {
      "text/plain": [
       "array([ 0,  1,  2,  3,  4,  5,  6,  7,  8,  9, 10, 11, 12, 13, 14, 15, 16,\n",
       "       17, 18, 19, 20, 21, 22, 23, 24, 25, 26, 27, 28, 29, 30, 31, 32, 33,\n",
       "       34, 35, 36, 37, 38, 39, 40, 41, 42, 43, 44, 45, 46, 47, 48])"
      ]
     },
     "execution_count": 8,
     "metadata": {},
     "output_type": "execute_result"
    }
   ],
   "source": [
    "categories_df.cat1_idx.unique()"
   ]
  },
  {
   "cell_type": "code",
   "execution_count": 9,
   "metadata": {
    "collapsed": false
   },
   "outputs": [
    {
     "data": {
      "text/html": [
       "<div>\n",
       "<style>\n",
       "    .dataframe thead tr:only-child th {\n",
       "        text-align: right;\n",
       "    }\n",
       "\n",
       "    .dataframe thead th {\n",
       "        text-align: left;\n",
       "    }\n",
       "\n",
       "    .dataframe tbody tr th {\n",
       "        vertical-align: top;\n",
       "    }\n",
       "</style>\n",
       "<table border=\"1\" class=\"dataframe\">\n",
       "  <thead>\n",
       "    <tr style=\"text-align: right;\">\n",
       "      <th></th>\n",
       "      <th>category_level2</th>\n",
       "      <th>cat2_idx</th>\n",
       "    </tr>\n",
       "  </thead>\n",
       "  <tbody>\n",
       "    <tr>\n",
       "      <th>0</th>\n",
       "      <td>CARTE PREPAYEE</td>\n",
       "      <td>0</td>\n",
       "    </tr>\n",
       "    <tr>\n",
       "      <th>1</th>\n",
       "      <td>AMENAGEMENT URBAIN</td>\n",
       "      <td>1</td>\n",
       "    </tr>\n",
       "    <tr>\n",
       "      <th>2</th>\n",
       "      <td>SIGNALETIQUE</td>\n",
       "      <td>2</td>\n",
       "    </tr>\n",
       "    <tr>\n",
       "      <th>3</th>\n",
       "      <td>SIGNALISATION ROUTIERE</td>\n",
       "      <td>3</td>\n",
       "    </tr>\n",
       "    <tr>\n",
       "      <th>4</th>\n",
       "      <td>VOIRIE</td>\n",
       "      <td>4</td>\n",
       "    </tr>\n",
       "  </tbody>\n",
       "</table>\n",
       "</div>"
      ],
      "text/plain": [
       "          category_level2  cat2_idx\n",
       "0          CARTE PREPAYEE         0\n",
       "1      AMENAGEMENT URBAIN         1\n",
       "2            SIGNALETIQUE         2\n",
       "3  SIGNALISATION ROUTIERE         3\n",
       "4                  VOIRIE         4"
      ]
     },
     "execution_count": 9,
     "metadata": {},
     "output_type": "execute_result"
    }
   ],
   "source": [
    "# Create a dataframe with category level2 idx\n",
    "cat2_level_df = pd.DataFrame(categories_df.category_level2.unique())\n",
    "cat2_level_df.rename(columns={0:\"category_level2\"}, inplace=True)\n",
    "cat2_level_df[\"cat2_idx\"] = pd.Series(range(len(cat2_level_df)), index = cat2_level_df.index)\n",
    "cat2_level_df.head()"
   ]
  },
  {
   "cell_type": "code",
   "execution_count": 10,
   "metadata": {
    "collapsed": false
   },
   "outputs": [
    {
     "data": {
      "text/plain": [
       "array([  0,   1,   2,   3,   4,   5,   6,   7,   8,   9,  10,  11,  12,\n",
       "        13,  14,  15,  16,  17,  18,  19,  20,  21,  22,  23,  24,  25,\n",
       "        26,  27,  28,  29,  30,  31,  32,  33,  34,  35,  36,  37,  38,\n",
       "        39,  40,  41,  42,  43,  44,  45,  46,  47,  48,  49,  50,  51,\n",
       "        52,  53,  54,  55,  56,  57,  58,  59,  60,  61,  62,  63,  64,\n",
       "        65,  66,  67,  68,  69,  70,  71,  72,  73,  74,  75,  76,  77,\n",
       "        78,  79,  80,  81,  82,  83,  84,  85,  86,  87,  88,  89,  90,\n",
       "        91,  92,  93,  94,  95,  96,  97,  98,  99, 100, 101, 102, 103,\n",
       "       104, 105, 106, 107, 108, 109, 110, 111, 112, 113, 114, 115, 116,\n",
       "       117, 118, 119, 120, 121, 122, 123, 124, 125, 126, 127, 128, 129,\n",
       "       130, 131, 132, 133, 134, 135, 136, 137, 138, 139, 140, 141, 142,\n",
       "       143, 144, 145, 146, 147, 148, 149, 150, 151, 152, 153, 154, 155,\n",
       "       156, 157, 158, 159, 160, 161, 162, 163, 164, 165, 166, 167, 168,\n",
       "       169, 170, 171, 172, 173, 174, 175, 176, 177, 178, 179, 180, 181,\n",
       "       182, 183, 184, 185, 186, 187, 188, 189, 190, 191, 192, 193, 194,\n",
       "       195, 196, 197, 198, 199, 200, 201, 202, 203, 204, 205, 206, 207,\n",
       "       208, 209, 210, 211, 212, 213, 214, 215, 216, 217, 218, 219, 220,\n",
       "       221, 222, 223, 224, 225, 226, 227, 228, 229, 230, 231, 232, 233,\n",
       "       234, 235, 236, 237, 238, 239, 240, 241, 242, 243, 244, 245, 246,\n",
       "       247, 248, 249, 250, 251, 252, 253, 254, 255, 256, 257, 258, 259,\n",
       "       260, 261, 262, 263, 264, 265, 266, 267, 268, 269, 270, 271, 272,\n",
       "       273, 274, 275, 276, 277, 278, 279, 280, 281, 282, 283, 284, 285,\n",
       "       286, 287, 288, 289, 290, 291, 292, 293, 294, 295, 296, 297, 298,\n",
       "       299, 300, 301, 302, 303, 304, 305, 306, 307, 308, 309, 310, 311,\n",
       "       312, 313, 314, 315, 316, 317, 318, 319, 320, 321, 322, 323, 324,\n",
       "       325, 326, 327, 328, 329, 330, 331, 332, 333, 334, 335, 336, 337,\n",
       "       338, 339, 340, 341, 342, 343, 344, 345, 346, 347, 348, 349, 350,\n",
       "       351, 352, 353, 354, 355, 356, 357, 358, 359, 360, 361, 362, 363,\n",
       "       364, 365, 366, 367, 368, 369, 370, 371, 372, 373, 374, 375, 376,\n",
       "       377, 378, 379, 380, 381, 382, 383, 384, 385, 386, 387, 388, 389,\n",
       "       390, 391, 392, 393, 394, 395, 396, 397, 398, 399, 400, 401, 402,\n",
       "       403, 404, 405, 406, 407, 408, 409, 410, 411, 412, 413, 414, 415,\n",
       "       416, 417, 418, 419, 420, 421, 422, 423, 424, 425, 426, 427, 428,\n",
       "       429, 430, 431, 432, 433, 434, 435, 436, 437, 438, 439, 440, 441,\n",
       "       442, 443, 444, 445, 446, 447, 448, 449, 450, 451, 452, 453, 454,\n",
       "       455, 456, 457, 458, 459, 460, 461, 462, 463, 464, 465, 466, 467,\n",
       "       468, 469, 470, 471, 472, 473, 474, 475, 476, 477, 478, 479, 480,\n",
       "       481, 482])"
      ]
     },
     "execution_count": 10,
     "metadata": {},
     "output_type": "execute_result"
    }
   ],
   "source": [
    "cat2_level_df.cat2_idx.unique()"
   ]
  },
  {
   "cell_type": "code",
   "execution_count": 11,
   "metadata": {
    "collapsed": false
   },
   "outputs": [
    {
     "data": {
      "text/html": [
       "<div>\n",
       "<style>\n",
       "    .dataframe thead tr:only-child th {\n",
       "        text-align: right;\n",
       "    }\n",
       "\n",
       "    .dataframe thead th {\n",
       "        text-align: left;\n",
       "    }\n",
       "\n",
       "    .dataframe tbody tr th {\n",
       "        vertical-align: top;\n",
       "    }\n",
       "</style>\n",
       "<table border=\"1\" class=\"dataframe\">\n",
       "  <thead>\n",
       "    <tr style=\"text-align: right;\">\n",
       "      <th></th>\n",
       "      <th>category_id</th>\n",
       "      <th>category_level1</th>\n",
       "      <th>category_level2</th>\n",
       "      <th>category_level3</th>\n",
       "      <th>category_idx</th>\n",
       "      <th>cat1_idx</th>\n",
       "      <th>cat2_idx</th>\n",
       "    </tr>\n",
       "  </thead>\n",
       "  <tbody>\n",
       "    <tr>\n",
       "      <th>0</th>\n",
       "      <td>1000021794</td>\n",
       "      <td>ABONNEMENT / SERVICES</td>\n",
       "      <td>CARTE PREPAYEE</td>\n",
       "      <td>CARTE PREPAYEE MULTIMEDIA</td>\n",
       "      <td>0</td>\n",
       "      <td>0</td>\n",
       "      <td>0</td>\n",
       "    </tr>\n",
       "    <tr>\n",
       "      <th>1</th>\n",
       "      <td>1000012764</td>\n",
       "      <td>AMENAGEMENT URBAIN - VOIRIE</td>\n",
       "      <td>AMENAGEMENT URBAIN</td>\n",
       "      <td>ABRI FUMEUR</td>\n",
       "      <td>1</td>\n",
       "      <td>1</td>\n",
       "      <td>1</td>\n",
       "    </tr>\n",
       "    <tr>\n",
       "      <th>2</th>\n",
       "      <td>1000012776</td>\n",
       "      <td>AMENAGEMENT URBAIN - VOIRIE</td>\n",
       "      <td>AMENAGEMENT URBAIN</td>\n",
       "      <td>ABRI VELO - ABRI MOTO</td>\n",
       "      <td>2</td>\n",
       "      <td>1</td>\n",
       "      <td>1</td>\n",
       "    </tr>\n",
       "    <tr>\n",
       "      <th>3</th>\n",
       "      <td>1000012768</td>\n",
       "      <td>AMENAGEMENT URBAIN - VOIRIE</td>\n",
       "      <td>AMENAGEMENT URBAIN</td>\n",
       "      <td>FONTAINE A EAU</td>\n",
       "      <td>3</td>\n",
       "      <td>1</td>\n",
       "      <td>1</td>\n",
       "    </tr>\n",
       "    <tr>\n",
       "      <th>4</th>\n",
       "      <td>1000012755</td>\n",
       "      <td>AMENAGEMENT URBAIN - VOIRIE</td>\n",
       "      <td>SIGNALETIQUE</td>\n",
       "      <td>PANNEAU D'INFORMATION EXTERIEUR</td>\n",
       "      <td>4</td>\n",
       "      <td>1</td>\n",
       "      <td>2</td>\n",
       "    </tr>\n",
       "  </tbody>\n",
       "</table>\n",
       "</div>"
      ],
      "text/plain": [
       "   category_id              category_level1     category_level2  \\\n",
       "0   1000021794        ABONNEMENT / SERVICES      CARTE PREPAYEE   \n",
       "1   1000012764  AMENAGEMENT URBAIN - VOIRIE  AMENAGEMENT URBAIN   \n",
       "2   1000012776  AMENAGEMENT URBAIN - VOIRIE  AMENAGEMENT URBAIN   \n",
       "3   1000012768  AMENAGEMENT URBAIN - VOIRIE  AMENAGEMENT URBAIN   \n",
       "4   1000012755  AMENAGEMENT URBAIN - VOIRIE        SIGNALETIQUE   \n",
       "\n",
       "                   category_level3  category_idx  cat1_idx  cat2_idx  \n",
       "0        CARTE PREPAYEE MULTIMEDIA             0         0         0  \n",
       "1                      ABRI FUMEUR             1         1         1  \n",
       "2            ABRI VELO - ABRI MOTO             2         1         1  \n",
       "3                   FONTAINE A EAU             3         1         1  \n",
       "4  PANNEAU D'INFORMATION EXTERIEUR             4         1         2  "
      ]
     },
     "execution_count": 11,
     "metadata": {},
     "output_type": "execute_result"
    }
   ],
   "source": [
    "# Merge categories_df and cat2_level_df into categories_df\n",
    "categories_df = pd.merge(categories_df, cat2_level_df, on=\"category_level2\", how=\"inner\")\n",
    "categories_df.head()"
   ]
  },
  {
   "cell_type": "code",
   "execution_count": 12,
   "metadata": {
    "collapsed": false
   },
   "outputs": [
    {
     "data": {
      "text/plain": [
       "array([ 0,  1,  2,  3,  4,  5,  6,  7,  8, 38,  9, 10, 11, 12, 13, 14, 15,\n",
       "       16, 17, 21, 18, 19, 20, 22, 23, 24, 25, 26, 27, 28, 29, 30, 31, 47,\n",
       "       32, 33, 34, 35, 36, 37, 39, 40, 41, 42, 43, 44, 45, 46, 48])"
      ]
     },
     "execution_count": 12,
     "metadata": {},
     "output_type": "execute_result"
    }
   ],
   "source": [
    "categories_df.cat1_idx.unique()"
   ]
  },
  {
   "cell_type": "code",
   "execution_count": 13,
   "metadata": {
    "collapsed": false
   },
   "outputs": [
    {
     "data": {
      "text/html": [
       "<div>\n",
       "<style>\n",
       "    .dataframe thead tr:only-child th {\n",
       "        text-align: right;\n",
       "    }\n",
       "\n",
       "    .dataframe thead th {\n",
       "        text-align: left;\n",
       "    }\n",
       "\n",
       "    .dataframe tbody tr th {\n",
       "        vertical-align: top;\n",
       "    }\n",
       "</style>\n",
       "<table border=\"1\" class=\"dataframe\">\n",
       "  <thead>\n",
       "    <tr style=\"text-align: right;\">\n",
       "      <th></th>\n",
       "      <th>category_level1</th>\n",
       "      <th>category_level2</th>\n",
       "      <th>category_level3</th>\n",
       "      <th>category_idx</th>\n",
       "      <th>cat1_idx</th>\n",
       "      <th>cat2_idx</th>\n",
       "    </tr>\n",
       "    <tr>\n",
       "      <th>category_id</th>\n",
       "      <th></th>\n",
       "      <th></th>\n",
       "      <th></th>\n",
       "      <th></th>\n",
       "      <th></th>\n",
       "      <th></th>\n",
       "    </tr>\n",
       "  </thead>\n",
       "  <tbody>\n",
       "    <tr>\n",
       "      <th>1000021794</th>\n",
       "      <td>ABONNEMENT / SERVICES</td>\n",
       "      <td>CARTE PREPAYEE</td>\n",
       "      <td>CARTE PREPAYEE MULTIMEDIA</td>\n",
       "      <td>0</td>\n",
       "      <td>0</td>\n",
       "      <td>0</td>\n",
       "    </tr>\n",
       "    <tr>\n",
       "      <th>1000012764</th>\n",
       "      <td>AMENAGEMENT URBAIN - VOIRIE</td>\n",
       "      <td>AMENAGEMENT URBAIN</td>\n",
       "      <td>ABRI FUMEUR</td>\n",
       "      <td>1</td>\n",
       "      <td>1</td>\n",
       "      <td>1</td>\n",
       "    </tr>\n",
       "    <tr>\n",
       "      <th>1000012776</th>\n",
       "      <td>AMENAGEMENT URBAIN - VOIRIE</td>\n",
       "      <td>AMENAGEMENT URBAIN</td>\n",
       "      <td>ABRI VELO - ABRI MOTO</td>\n",
       "      <td>2</td>\n",
       "      <td>1</td>\n",
       "      <td>1</td>\n",
       "    </tr>\n",
       "    <tr>\n",
       "      <th>1000012768</th>\n",
       "      <td>AMENAGEMENT URBAIN - VOIRIE</td>\n",
       "      <td>AMENAGEMENT URBAIN</td>\n",
       "      <td>FONTAINE A EAU</td>\n",
       "      <td>3</td>\n",
       "      <td>1</td>\n",
       "      <td>1</td>\n",
       "    </tr>\n",
       "    <tr>\n",
       "      <th>1000012755</th>\n",
       "      <td>AMENAGEMENT URBAIN - VOIRIE</td>\n",
       "      <td>SIGNALETIQUE</td>\n",
       "      <td>PANNEAU D'INFORMATION EXTERIEUR</td>\n",
       "      <td>4</td>\n",
       "      <td>1</td>\n",
       "      <td>2</td>\n",
       "    </tr>\n",
       "  </tbody>\n",
       "</table>\n",
       "</div>"
      ],
      "text/plain": [
       "                         category_level1     category_level2  \\\n",
       "category_id                                                    \n",
       "1000021794         ABONNEMENT / SERVICES      CARTE PREPAYEE   \n",
       "1000012764   AMENAGEMENT URBAIN - VOIRIE  AMENAGEMENT URBAIN   \n",
       "1000012776   AMENAGEMENT URBAIN - VOIRIE  AMENAGEMENT URBAIN   \n",
       "1000012768   AMENAGEMENT URBAIN - VOIRIE  AMENAGEMENT URBAIN   \n",
       "1000012755   AMENAGEMENT URBAIN - VOIRIE        SIGNALETIQUE   \n",
       "\n",
       "                             category_level3  category_idx  cat1_idx  cat2_idx  \n",
       "category_id                                                                     \n",
       "1000021794         CARTE PREPAYEE MULTIMEDIA             0         0         0  \n",
       "1000012764                       ABRI FUMEUR             1         1         1  \n",
       "1000012776             ABRI VELO - ABRI MOTO             2         1         1  \n",
       "1000012768                    FONTAINE A EAU             3         1         1  \n",
       "1000012755   PANNEAU D'INFORMATION EXTERIEUR             4         1         2  "
      ]
     },
     "execution_count": 13,
     "metadata": {},
     "output_type": "execute_result"
    }
   ],
   "source": [
    "categories_df = categories_df.set_index(\"category_id\")\n",
    "categories_df.head()"
   ]
  },
  {
   "cell_type": "code",
   "execution_count": 14,
   "metadata": {
    "collapsed": true
   },
   "outputs": [],
   "source": [
    "# Write dataframe to CSV file\n",
    "categories_df.to_csv(\"categories.csv\")"
   ]
  },
  {
   "cell_type": "markdown",
   "metadata": {
    "_cell_guid": "92491e45-56da-4d64-a887-6cf7a8c8cd30",
    "_uuid": "05ccbed26b3518d90ddcc9c26668f6008b89cb0f"
   },
   "source": [
    "Create dictionaries for quick lookup of `category_id` to `category_idx` mapping."
   ]
  },
  {
   "cell_type": "code",
   "execution_count": 15,
   "metadata": {
    "_cell_guid": "7aad702e-68b9-4c94-a6e7-910283629011",
    "_uuid": "1c40f20530ad22246d6941845c89b210b4a85368",
    "collapsed": true
   },
   "outputs": [],
   "source": [
    "def make_category_tables():\n",
    "    cat2idx = {}\n",
    "    idx2cat = {}\n",
    "    for ir in categories_df.itertuples():\n",
    "        category_id = ir[0]\n",
    "        #category_idx = ir[4] # Category level3\n",
    "        category_idx = ir[5] # Category level1\n",
    "        #category_idx = ir[6] # Category level2 \n",
    "        cat2idx[category_id] = category_idx\n",
    "        idx2cat[category_idx] = category_id\n",
    "    return cat2idx, idx2cat"
   ]
  },
  {
   "cell_type": "code",
   "execution_count": 16,
   "metadata": {
    "_cell_guid": "99c21338-72c9-406a-bc3a-ba33d7310086",
    "_uuid": "b68af0dda86d6c6af127a5bf634778fb63bda958",
    "collapsed": true
   },
   "outputs": [],
   "source": [
    "cat2idx, idx2cat = make_category_tables()"
   ]
  },
  {
   "cell_type": "code",
   "execution_count": 17,
   "metadata": {
    "_cell_guid": "530dac1b-2891-42ff-ab7f-ea1fe8ef01e6",
    "_uuid": "3fff32a945788e89e676c68fc20ff138ac72f754",
    "collapsed": false
   },
   "outputs": [
    {
     "data": {
      "text/plain": [
       "(1, 1000020743)"
      ]
     },
     "execution_count": 17,
     "metadata": {},
     "output_type": "execute_result"
    }
   ],
   "source": [
    "# Test if it works:\n",
    "cat2idx[1000012755], idx2cat[4]"
   ]
  },
  {
   "cell_type": "code",
   "execution_count": 18,
   "metadata": {
    "collapsed": true
   },
   "outputs": [],
   "source": [
    "# Garbage collection\n",
    "# https://stackoverflow.com/questions/32247643/how-to-delete-multiple-pandas-python-dataframes-from-memory-to-save-ram\n",
    "list = [cat1_level_df, cat2_level_df]\n",
    "del cat1_level_df, cat2_level_df\n",
    "del list"
   ]
  },
  {
   "cell_type": "markdown",
   "metadata": {
    "_cell_guid": "d4518fba-7f26-45c1-ae3f-daf72ffbbee9",
    "_uuid": "51f82526d1ce6b7ab0b4d5b370f0f2f9601dbc66"
   },
   "source": [
    "## Read the BSON files\n",
    "\n",
    "We store the offsets and lengths of all items, allowing us random access to the items later.\n",
    "\n",
    "Inspired by code from: https://www.kaggle.com/vfdev5/random-item-access\n",
    "\n",
    "Note: this takes a few minutes to execute, but we only have to do it once (we'll save the table to a CSV file afterwards)."
   ]
  },
  {
   "cell_type": "code",
   "execution_count": 19,
   "metadata": {
    "_cell_guid": "2419b6a8-d141-4f5d-a868-778e0483fc40",
    "_uuid": "50f1fa1bc0a9c0597ce90d7c7daf2d0b7a788467",
    "collapsed": true
   },
   "outputs": [],
   "source": [
    "def read_bson(bson_path, num_records, with_categories):\n",
    "    rows = {}\n",
    "    with open(bson_path, \"rb\") as f, tqdm(total=num_records) as pbar:\n",
    "        offset = 0\n",
    "        while True:\n",
    "            item_length_bytes = f.read(4)\n",
    "            if len(item_length_bytes) == 0:\n",
    "                break\n",
    "\n",
    "            length = struct.unpack(\"<i\", item_length_bytes)[0]\n",
    "\n",
    "            f.seek(offset)\n",
    "            item_data = f.read(length)\n",
    "            assert len(item_data) == length\n",
    "\n",
    "            item = bson.BSON.decode(item_data)\n",
    "            product_id = item[\"_id\"]\n",
    "            num_imgs = len(item[\"imgs\"])\n",
    "\n",
    "            row = [num_imgs, offset, length]\n",
    "            if with_categories:\n",
    "                row += [item[\"category_id\"]]\n",
    "            rows[product_id] = row\n",
    "\n",
    "            offset += length\n",
    "            f.seek(offset)\n",
    "            pbar.update()\n",
    "\n",
    "    columns = [\"num_imgs\", \"offset\", \"length\"]\n",
    "    if with_categories:\n",
    "        columns += [\"category_id\"]\n",
    "\n",
    "    df = pd.DataFrame.from_dict(rows, orient=\"index\")\n",
    "    df.index.name = \"product_id\"\n",
    "    df.columns = columns\n",
    "    df.sort_index(inplace=True)\n",
    "    return df"
   ]
  },
  {
   "cell_type": "code",
   "execution_count": 20,
   "metadata": {
    "_cell_guid": "54c03644-11a0-425b-bf2e-b412f087a390",
    "_uuid": "3607b538f418145677d61bc80f6a0b6e97bd1c95",
    "collapsed": false
   },
   "outputs": [
    {
     "name": "stderr",
     "output_type": "stream",
     "text": [
      "100%|██████████| 7069896/7069896 [11:04<00:00, 10638.63it/s]\n"
     ]
    },
    {
     "name": "stdout",
     "output_type": "stream",
     "text": [
      "CPU times: user 4min 12s, sys: 52.4 s, total: 5min 4s\n",
      "Wall time: 11min 17s\n"
     ]
    }
   ],
   "source": [
    "%time train_offsets_df = read_bson(train_bson_path, num_records=num_train_products, with_categories=True)"
   ]
  },
  {
   "cell_type": "code",
   "execution_count": 150,
   "metadata": {
    "_cell_guid": "4e6d4a2e-2014-4610-b624-0a5de1ae803e",
    "_uuid": "507ae4e5fceec73fdfb08494e0dcde86b0d62a29",
    "collapsed": false
   },
   "outputs": [
    {
     "data": {
      "text/html": [
       "<div>\n",
       "<style>\n",
       "    .dataframe thead tr:only-child th {\n",
       "        text-align: right;\n",
       "    }\n",
       "\n",
       "    .dataframe thead th {\n",
       "        text-align: left;\n",
       "    }\n",
       "\n",
       "    .dataframe tbody tr th {\n",
       "        vertical-align: top;\n",
       "    }\n",
       "</style>\n",
       "<table border=\"1\" class=\"dataframe\">\n",
       "  <thead>\n",
       "    <tr style=\"text-align: right;\">\n",
       "      <th></th>\n",
       "      <th>num_imgs</th>\n",
       "      <th>offset</th>\n",
       "      <th>length</th>\n",
       "      <th>category_id</th>\n",
       "      <th>index1</th>\n",
       "      <th>product_id</th>\n",
       "    </tr>\n",
       "    <tr>\n",
       "      <th>product_id</th>\n",
       "      <th></th>\n",
       "      <th></th>\n",
       "      <th></th>\n",
       "      <th></th>\n",
       "      <th></th>\n",
       "      <th></th>\n",
       "    </tr>\n",
       "  </thead>\n",
       "  <tbody>\n",
       "    <tr>\n",
       "      <th>0</th>\n",
       "      <td>1</td>\n",
       "      <td>0</td>\n",
       "      <td>6979</td>\n",
       "      <td>1000010653</td>\n",
       "      <td>0</td>\n",
       "      <td>0</td>\n",
       "    </tr>\n",
       "    <tr>\n",
       "      <th>1</th>\n",
       "      <td>1</td>\n",
       "      <td>6979</td>\n",
       "      <td>7318</td>\n",
       "      <td>1000010653</td>\n",
       "      <td>1</td>\n",
       "      <td>1</td>\n",
       "    </tr>\n",
       "    <tr>\n",
       "      <th>2</th>\n",
       "      <td>1</td>\n",
       "      <td>14297</td>\n",
       "      <td>5455</td>\n",
       "      <td>1000004079</td>\n",
       "      <td>2</td>\n",
       "      <td>2</td>\n",
       "    </tr>\n",
       "    <tr>\n",
       "      <th>3</th>\n",
       "      <td>1</td>\n",
       "      <td>19752</td>\n",
       "      <td>4580</td>\n",
       "      <td>1000004141</td>\n",
       "      <td>3</td>\n",
       "      <td>3</td>\n",
       "    </tr>\n",
       "    <tr>\n",
       "      <th>4</th>\n",
       "      <td>1</td>\n",
       "      <td>24332</td>\n",
       "      <td>6346</td>\n",
       "      <td>1000015539</td>\n",
       "      <td>4</td>\n",
       "      <td>4</td>\n",
       "    </tr>\n",
       "  </tbody>\n",
       "</table>\n",
       "</div>"
      ],
      "text/plain": [
       "            num_imgs  offset  length  category_id  index1  product_id\n",
       "product_id                                                           \n",
       "0                  1       0    6979   1000010653       0           0\n",
       "1                  1    6979    7318   1000010653       1           1\n",
       "2                  1   14297    5455   1000004079       2           2\n",
       "3                  1   19752    4580   1000004141       3           3\n",
       "4                  1   24332    6346   1000015539       4           4"
      ]
     },
     "execution_count": 150,
     "metadata": {},
     "output_type": "execute_result"
    }
   ],
   "source": [
    "train_offsets_df.head()"
   ]
  },
  {
   "cell_type": "code",
   "execution_count": 88,
   "metadata": {
    "collapsed": false
   },
   "outputs": [
    {
     "data": {
      "text/plain": [
       "Int64Index([       0,        1,        2,        3,        4,        5,\n",
       "                   6,        7,        8,        9,\n",
       "            ...\n",
       "            23620440, 23620441, 23620444, 23620446, 23620450, 23620452,\n",
       "            23620453, 23620455, 23620457, 23620460],\n",
       "           dtype='int64', name='product_id', length=7069896)"
      ]
     },
     "execution_count": 88,
     "metadata": {},
     "output_type": "execute_result"
    }
   ],
   "source": [
    "train_offsets_df.index"
   ]
  },
  {
   "cell_type": "code",
   "execution_count": 95,
   "metadata": {
    "collapsed": false
   },
   "outputs": [
    {
     "data": {
      "text/html": [
       "<div>\n",
       "<style>\n",
       "    .dataframe thead tr:only-child th {\n",
       "        text-align: right;\n",
       "    }\n",
       "\n",
       "    .dataframe thead th {\n",
       "        text-align: left;\n",
       "    }\n",
       "\n",
       "    .dataframe tbody tr th {\n",
       "        vertical-align: top;\n",
       "    }\n",
       "</style>\n",
       "<table border=\"1\" class=\"dataframe\">\n",
       "  <thead>\n",
       "    <tr style=\"text-align: right;\">\n",
       "      <th></th>\n",
       "      <th>num_imgs</th>\n",
       "      <th>offset</th>\n",
       "      <th>length</th>\n",
       "      <th>category_id</th>\n",
       "    </tr>\n",
       "    <tr>\n",
       "      <th>product_id</th>\n",
       "      <th></th>\n",
       "      <th></th>\n",
       "      <th></th>\n",
       "      <th></th>\n",
       "    </tr>\n",
       "  </thead>\n",
       "  <tbody>\n",
       "    <tr>\n",
       "      <th>23620450</th>\n",
       "      <td>1</td>\n",
       "      <td>62481740634</td>\n",
       "      <td>3430</td>\n",
       "      <td>1000013009</td>\n",
       "    </tr>\n",
       "    <tr>\n",
       "      <th>23620452</th>\n",
       "      <td>1</td>\n",
       "      <td>62481744064</td>\n",
       "      <td>6524</td>\n",
       "      <td>1000002900</td>\n",
       "    </tr>\n",
       "    <tr>\n",
       "      <th>23620453</th>\n",
       "      <td>1</td>\n",
       "      <td>62481750588</td>\n",
       "      <td>8310</td>\n",
       "      <td>1000018290</td>\n",
       "    </tr>\n",
       "    <tr>\n",
       "      <th>23620455</th>\n",
       "      <td>1</td>\n",
       "      <td>62481758898</td>\n",
       "      <td>4476</td>\n",
       "      <td>1000006673</td>\n",
       "    </tr>\n",
       "    <tr>\n",
       "      <th>23620457</th>\n",
       "      <td>1</td>\n",
       "      <td>62481763374</td>\n",
       "      <td>8086</td>\n",
       "      <td>1000015912</td>\n",
       "    </tr>\n",
       "  </tbody>\n",
       "</table>\n",
       "</div>"
      ],
      "text/plain": [
       "            num_imgs       offset  length  category_id\n",
       "product_id                                            \n",
       "23620450           1  62481740634    3430   1000013009\n",
       "23620452           1  62481744064    6524   1000002900\n",
       "23620453           1  62481750588    8310   1000018290\n",
       "23620455           1  62481758898    4476   1000006673\n",
       "23620457           1  62481763374    8086   1000015912"
      ]
     },
     "execution_count": 95,
     "metadata": {},
     "output_type": "execute_result"
    }
   ],
   "source": [
    "train_offsets_df.ix[23620450:23620457]"
   ]
  },
  {
   "cell_type": "code",
   "execution_count": null,
   "metadata": {
    "collapsed": true
   },
   "outputs": [],
   "source": []
  },
  {
   "cell_type": "code",
   "execution_count": 22,
   "metadata": {
    "_cell_guid": "8d24b1ed-8f75-4e29-a70d-627ae11deb45",
    "_uuid": "3e5daf1253397d05065568ad3ce69be73042cc59",
    "collapsed": true
   },
   "outputs": [],
   "source": [
    "train_offsets_df.to_csv(\"train_offsets.csv\")"
   ]
  },
  {
   "cell_type": "code",
   "execution_count": 23,
   "metadata": {
    "_cell_guid": "0c331f10-e2af-43ee-8bcd-1b4058430cbd",
    "_uuid": "254a22b36211385bc943f1c3d10914f75548b5e0",
    "collapsed": false
   },
   "outputs": [
    {
     "data": {
      "text/plain": [
       "7069896"
      ]
     },
     "execution_count": 23,
     "metadata": {},
     "output_type": "execute_result"
    }
   ],
   "source": [
    "# How many products?\n",
    "len(train_offsets_df)"
   ]
  },
  {
   "cell_type": "code",
   "execution_count": 24,
   "metadata": {
    "_cell_guid": "c357322f-5026-4454-9c0f-a2d40b72c99a",
    "_uuid": "9aa11d00937321bcfe68f80be0cc17a2cab39e65",
    "collapsed": false
   },
   "outputs": [
    {
     "data": {
      "text/plain": [
       "5270"
      ]
     },
     "execution_count": 24,
     "metadata": {},
     "output_type": "execute_result"
    }
   ],
   "source": [
    "# How many categories?\n",
    "len(train_offsets_df[\"category_id\"].unique())"
   ]
  },
  {
   "cell_type": "code",
   "execution_count": 25,
   "metadata": {
    "_cell_guid": "7eac8e95-7930-4e07-a869-5fcd0eb8e1a1",
    "_uuid": "f1ed766c559b2b7848e452b0b94421c3d4767c81",
    "collapsed": false
   },
   "outputs": [
    {
     "data": {
      "text/plain": [
       "12371293"
      ]
     },
     "execution_count": 25,
     "metadata": {},
     "output_type": "execute_result"
    }
   ],
   "source": [
    "# How many images in total?\n",
    "train_offsets_df[\"num_imgs\"].sum()"
   ]
  },
  {
   "cell_type": "markdown",
   "metadata": {
    "_cell_guid": "663b73b1-4de8-4adc-98b8-475403bd752d",
    "_uuid": "39e87235e9b8416ccbf6ea0909be65cfe6d00b65"
   },
   "source": [
    "## Create a random train/validation split\n",
    "\n",
    "We split on products, not on individual images. Since some of the categories only have a few products, we do the split separately for each category.\n",
    "\n",
    "This creates two new tables, one for the training images and one for the validation images. There is a row for every single image, so if a product has more than one image it occurs more than once in the table."
   ]
  },
  {
   "cell_type": "code",
   "execution_count": 26,
   "metadata": {
    "_cell_guid": "24e8db94-3a2b-453d-a8ac-1de2460ed129",
    "_uuid": "4d702f77af77901c7ed547eebb1da9146afea667",
    "collapsed": true
   },
   "outputs": [],
   "source": [
    "def make_val_set(df, split_percentage=0.2, drop_percentage=0.):\n",
    "    # Find the product_ids for each category.\n",
    "    category_dict = defaultdict(list)\n",
    "    for ir in tqdm(df.itertuples()):\n",
    "        category_dict[ir[4]].append(ir[0])\n",
    "\n",
    "    train_list = []\n",
    "    val_list = []\n",
    "    with tqdm(total=len(df)) as pbar:\n",
    "        for category_id, product_ids in category_dict.items():\n",
    "            category_idx = cat2idx[category_id]\n",
    "\n",
    "            # Randomly remove products to make the dataset smaller.\n",
    "            keep_size = int(len(product_ids) * (1. - drop_percentage))\n",
    "            if keep_size < len(product_ids):\n",
    "                product_ids = np.random.choice(product_ids, keep_size, replace=False)\n",
    "\n",
    "            # Randomly choose the products that become part of the validation set.\n",
    "            val_size = int(len(product_ids) * split_percentage)\n",
    "            if val_size > 0:\n",
    "                val_ids = np.random.choice(product_ids, val_size, replace=False)\n",
    "            else:\n",
    "                val_ids = []\n",
    "\n",
    "            # Create a new row for each image.\n",
    "            for product_id in product_ids:\n",
    "                row = [product_id, category_idx, category_id]\n",
    "                for img_idx in range(df.loc[product_id, \"num_imgs\"]):\n",
    "                    if product_id in val_ids:\n",
    "                        val_list.append(row + [img_idx])\n",
    "                    else:\n",
    "                        train_list.append(row + [img_idx])\n",
    "                pbar.update()\n",
    "                \n",
    "    columns = [\"product_id\", \"category_idx\", \"category_id\", \"img_idx\"]\n",
    "    train_df = pd.DataFrame(train_list, columns=columns)\n",
    "    val_df = pd.DataFrame(val_list, columns=columns)   \n",
    "    return train_df, val_df"
   ]
  },
  {
   "cell_type": "markdown",
   "metadata": {
    "_cell_guid": "8df853cd-b2e5-4c05-8162-e332c5995bdc",
    "_uuid": "6e3c437a8169a31e9e4f4170f70d48668f8f0934"
   },
   "source": [
    "Create a 80/20 split. Also drop 90% of all products to make the dataset more manageable. (Note: if `drop_percentage` > 0, the progress bar doesn't go all the way.)"
   ]
  },
  {
   "cell_type": "code",
   "execution_count": 36,
   "metadata": {
    "_cell_guid": "a27d017f-8ac2-4480-8b48-7d092be8de82",
    "_uuid": "586a0ad09c6ce8af090277d0ac930ba53eb3a8d3",
    "collapsed": false
   },
   "outputs": [
    {
     "name": "stderr",
     "output_type": "stream",
     "text": [
      "7069896it [00:21, 330109.28it/s]\n",
      "  0%|          | 5652/7069896 [00:02<47:14, 2492.43it/s]  \n"
     ]
    }
   ],
   "source": [
    "train_images_df, val_images_df = make_val_set(train_offsets_df, split_percentage=0.2, \n",
    "                                              drop_percentage=0.999)"
   ]
  },
  {
   "cell_type": "code",
   "execution_count": 37,
   "metadata": {
    "collapsed": false
   },
   "outputs": [
    {
     "data": {
      "text/html": [
       "<div>\n",
       "<style>\n",
       "    .dataframe thead tr:only-child th {\n",
       "        text-align: right;\n",
       "    }\n",
       "\n",
       "    .dataframe thead th {\n",
       "        text-align: left;\n",
       "    }\n",
       "\n",
       "    .dataframe tbody tr th {\n",
       "        vertical-align: top;\n",
       "    }\n",
       "</style>\n",
       "<table border=\"1\" class=\"dataframe\">\n",
       "  <thead>\n",
       "    <tr style=\"text-align: right;\">\n",
       "      <th></th>\n",
       "      <th>product_id</th>\n",
       "      <th>category_idx</th>\n",
       "      <th>category_id</th>\n",
       "      <th>img_idx</th>\n",
       "    </tr>\n",
       "  </thead>\n",
       "  <tbody>\n",
       "    <tr>\n",
       "      <th>0</th>\n",
       "      <td>6964301</td>\n",
       "      <td>45</td>\n",
       "      <td>1000010653</td>\n",
       "      <td>0</td>\n",
       "    </tr>\n",
       "    <tr>\n",
       "      <th>1</th>\n",
       "      <td>7113938</td>\n",
       "      <td>45</td>\n",
       "      <td>1000010653</td>\n",
       "      <td>0</td>\n",
       "    </tr>\n",
       "    <tr>\n",
       "      <th>2</th>\n",
       "      <td>29527</td>\n",
       "      <td>45</td>\n",
       "      <td>1000010653</td>\n",
       "      <td>0</td>\n",
       "    </tr>\n",
       "    <tr>\n",
       "      <th>3</th>\n",
       "      <td>8371127</td>\n",
       "      <td>45</td>\n",
       "      <td>1000010653</td>\n",
       "      <td>0</td>\n",
       "    </tr>\n",
       "    <tr>\n",
       "      <th>4</th>\n",
       "      <td>13660127</td>\n",
       "      <td>45</td>\n",
       "      <td>1000010653</td>\n",
       "      <td>0</td>\n",
       "    </tr>\n",
       "  </tbody>\n",
       "</table>\n",
       "</div>"
      ],
      "text/plain": [
       "   product_id  category_idx  category_id  img_idx\n",
       "0     6964301            45   1000010653        0\n",
       "1     7113938            45   1000010653        0\n",
       "2       29527            45   1000010653        0\n",
       "3     8371127            45   1000010653        0\n",
       "4    13660127            45   1000010653        0"
      ]
     },
     "execution_count": 37,
     "metadata": {},
     "output_type": "execute_result"
    }
   ],
   "source": [
    "train_images_df.head()"
   ]
  },
  {
   "cell_type": "code",
   "execution_count": 38,
   "metadata": {
    "collapsed": false
   },
   "outputs": [
    {
     "data": {
      "text/plain": [
       "1036"
      ]
     },
     "execution_count": 38,
     "metadata": {},
     "output_type": "execute_result"
    }
   ],
   "source": [
    "len(train_images_df.category_id.unique())"
   ]
  },
  {
   "cell_type": "code",
   "execution_count": 39,
   "metadata": {
    "collapsed": true
   },
   "outputs": [],
   "source": [
    "categories_df['category_id'] = categories_df.index"
   ]
  },
  {
   "cell_type": "code",
   "execution_count": 40,
   "metadata": {
    "collapsed": false
   },
   "outputs": [
    {
     "data": {
      "text/html": [
       "<div>\n",
       "<style>\n",
       "    .dataframe thead tr:only-child th {\n",
       "        text-align: right;\n",
       "    }\n",
       "\n",
       "    .dataframe thead th {\n",
       "        text-align: left;\n",
       "    }\n",
       "\n",
       "    .dataframe tbody tr th {\n",
       "        vertical-align: top;\n",
       "    }\n",
       "</style>\n",
       "<table border=\"1\" class=\"dataframe\">\n",
       "  <thead>\n",
       "    <tr style=\"text-align: right;\">\n",
       "      <th></th>\n",
       "      <th>category_level1</th>\n",
       "      <th>category_level2</th>\n",
       "      <th>category_level3</th>\n",
       "      <th>category_idx</th>\n",
       "      <th>cat1_idx</th>\n",
       "      <th>cat2_idx</th>\n",
       "      <th>category_id</th>\n",
       "    </tr>\n",
       "    <tr>\n",
       "      <th>category_id</th>\n",
       "      <th></th>\n",
       "      <th></th>\n",
       "      <th></th>\n",
       "      <th></th>\n",
       "      <th></th>\n",
       "      <th></th>\n",
       "      <th></th>\n",
       "    </tr>\n",
       "  </thead>\n",
       "  <tbody>\n",
       "    <tr>\n",
       "      <th>1000021794</th>\n",
       "      <td>ABONNEMENT / SERVICES</td>\n",
       "      <td>CARTE PREPAYEE</td>\n",
       "      <td>CARTE PREPAYEE MULTIMEDIA</td>\n",
       "      <td>0</td>\n",
       "      <td>0</td>\n",
       "      <td>0</td>\n",
       "      <td>1000021794</td>\n",
       "    </tr>\n",
       "    <tr>\n",
       "      <th>1000012764</th>\n",
       "      <td>AMENAGEMENT URBAIN - VOIRIE</td>\n",
       "      <td>AMENAGEMENT URBAIN</td>\n",
       "      <td>ABRI FUMEUR</td>\n",
       "      <td>1</td>\n",
       "      <td>1</td>\n",
       "      <td>1</td>\n",
       "      <td>1000012764</td>\n",
       "    </tr>\n",
       "    <tr>\n",
       "      <th>1000012776</th>\n",
       "      <td>AMENAGEMENT URBAIN - VOIRIE</td>\n",
       "      <td>AMENAGEMENT URBAIN</td>\n",
       "      <td>ABRI VELO - ABRI MOTO</td>\n",
       "      <td>2</td>\n",
       "      <td>1</td>\n",
       "      <td>1</td>\n",
       "      <td>1000012776</td>\n",
       "    </tr>\n",
       "    <tr>\n",
       "      <th>1000012768</th>\n",
       "      <td>AMENAGEMENT URBAIN - VOIRIE</td>\n",
       "      <td>AMENAGEMENT URBAIN</td>\n",
       "      <td>FONTAINE A EAU</td>\n",
       "      <td>3</td>\n",
       "      <td>1</td>\n",
       "      <td>1</td>\n",
       "      <td>1000012768</td>\n",
       "    </tr>\n",
       "    <tr>\n",
       "      <th>1000012755</th>\n",
       "      <td>AMENAGEMENT URBAIN - VOIRIE</td>\n",
       "      <td>SIGNALETIQUE</td>\n",
       "      <td>PANNEAU D'INFORMATION EXTERIEUR</td>\n",
       "      <td>4</td>\n",
       "      <td>1</td>\n",
       "      <td>2</td>\n",
       "      <td>1000012755</td>\n",
       "    </tr>\n",
       "  </tbody>\n",
       "</table>\n",
       "</div>"
      ],
      "text/plain": [
       "                         category_level1     category_level2  \\\n",
       "category_id                                                    \n",
       "1000021794         ABONNEMENT / SERVICES      CARTE PREPAYEE   \n",
       "1000012764   AMENAGEMENT URBAIN - VOIRIE  AMENAGEMENT URBAIN   \n",
       "1000012776   AMENAGEMENT URBAIN - VOIRIE  AMENAGEMENT URBAIN   \n",
       "1000012768   AMENAGEMENT URBAIN - VOIRIE  AMENAGEMENT URBAIN   \n",
       "1000012755   AMENAGEMENT URBAIN - VOIRIE        SIGNALETIQUE   \n",
       "\n",
       "                             category_level3  category_idx  cat1_idx  \\\n",
       "category_id                                                            \n",
       "1000021794         CARTE PREPAYEE MULTIMEDIA             0         0   \n",
       "1000012764                       ABRI FUMEUR             1         1   \n",
       "1000012776             ABRI VELO - ABRI MOTO             2         1   \n",
       "1000012768                    FONTAINE A EAU             3         1   \n",
       "1000012755   PANNEAU D'INFORMATION EXTERIEUR             4         1   \n",
       "\n",
       "             cat2_idx  category_id  \n",
       "category_id                         \n",
       "1000021794          0   1000021794  \n",
       "1000012764          1   1000012764  \n",
       "1000012776          1   1000012776  \n",
       "1000012768          1   1000012768  \n",
       "1000012755          2   1000012755  "
      ]
     },
     "execution_count": 40,
     "metadata": {},
     "output_type": "execute_result"
    }
   ],
   "source": [
    "categories_df.head()"
   ]
  },
  {
   "cell_type": "code",
   "execution_count": 41,
   "metadata": {
    "collapsed": false
   },
   "outputs": [
    {
     "data": {
      "text/html": [
       "<div>\n",
       "<style>\n",
       "    .dataframe thead tr:only-child th {\n",
       "        text-align: right;\n",
       "    }\n",
       "\n",
       "    .dataframe thead th {\n",
       "        text-align: left;\n",
       "    }\n",
       "\n",
       "    .dataframe tbody tr th {\n",
       "        vertical-align: top;\n",
       "    }\n",
       "</style>\n",
       "<table border=\"1\" class=\"dataframe\">\n",
       "  <thead>\n",
       "    <tr style=\"text-align: right;\">\n",
       "      <th></th>\n",
       "      <th>product_id</th>\n",
       "      <th>category_idx_x</th>\n",
       "      <th>category_id</th>\n",
       "      <th>img_idx</th>\n",
       "      <th>category_level1</th>\n",
       "      <th>category_level2</th>\n",
       "      <th>category_level3</th>\n",
       "      <th>category_idx_y</th>\n",
       "      <th>cat1_idx</th>\n",
       "      <th>cat2_idx</th>\n",
       "    </tr>\n",
       "  </thead>\n",
       "  <tbody>\n",
       "    <tr>\n",
       "      <th>0</th>\n",
       "      <td>6964301</td>\n",
       "      <td>45</td>\n",
       "      <td>1000010653</td>\n",
       "      <td>0</td>\n",
       "      <td>TELEPHONIE - GPS</td>\n",
       "      <td>ACCESSOIRE TELEPHONE</td>\n",
       "      <td>COQUE TELEPHONE - BUMPER TELEPHONE</td>\n",
       "      <td>5055</td>\n",
       "      <td>45</td>\n",
       "      <td>455</td>\n",
       "    </tr>\n",
       "    <tr>\n",
       "      <th>1</th>\n",
       "      <td>7113938</td>\n",
       "      <td>45</td>\n",
       "      <td>1000010653</td>\n",
       "      <td>0</td>\n",
       "      <td>TELEPHONIE - GPS</td>\n",
       "      <td>ACCESSOIRE TELEPHONE</td>\n",
       "      <td>COQUE TELEPHONE - BUMPER TELEPHONE</td>\n",
       "      <td>5055</td>\n",
       "      <td>45</td>\n",
       "      <td>455</td>\n",
       "    </tr>\n",
       "    <tr>\n",
       "      <th>2</th>\n",
       "      <td>29527</td>\n",
       "      <td>45</td>\n",
       "      <td>1000010653</td>\n",
       "      <td>0</td>\n",
       "      <td>TELEPHONIE - GPS</td>\n",
       "      <td>ACCESSOIRE TELEPHONE</td>\n",
       "      <td>COQUE TELEPHONE - BUMPER TELEPHONE</td>\n",
       "      <td>5055</td>\n",
       "      <td>45</td>\n",
       "      <td>455</td>\n",
       "    </tr>\n",
       "    <tr>\n",
       "      <th>3</th>\n",
       "      <td>8371127</td>\n",
       "      <td>45</td>\n",
       "      <td>1000010653</td>\n",
       "      <td>0</td>\n",
       "      <td>TELEPHONIE - GPS</td>\n",
       "      <td>ACCESSOIRE TELEPHONE</td>\n",
       "      <td>COQUE TELEPHONE - BUMPER TELEPHONE</td>\n",
       "      <td>5055</td>\n",
       "      <td>45</td>\n",
       "      <td>455</td>\n",
       "    </tr>\n",
       "    <tr>\n",
       "      <th>4</th>\n",
       "      <td>13660127</td>\n",
       "      <td>45</td>\n",
       "      <td>1000010653</td>\n",
       "      <td>0</td>\n",
       "      <td>TELEPHONIE - GPS</td>\n",
       "      <td>ACCESSOIRE TELEPHONE</td>\n",
       "      <td>COQUE TELEPHONE - BUMPER TELEPHONE</td>\n",
       "      <td>5055</td>\n",
       "      <td>45</td>\n",
       "      <td>455</td>\n",
       "    </tr>\n",
       "  </tbody>\n",
       "</table>\n",
       "</div>"
      ],
      "text/plain": [
       "   product_id  category_idx_x  category_id  img_idx   category_level1  \\\n",
       "0     6964301              45   1000010653        0  TELEPHONIE - GPS   \n",
       "1     7113938              45   1000010653        0  TELEPHONIE - GPS   \n",
       "2       29527              45   1000010653        0  TELEPHONIE - GPS   \n",
       "3     8371127              45   1000010653        0  TELEPHONIE - GPS   \n",
       "4    13660127              45   1000010653        0  TELEPHONIE - GPS   \n",
       "\n",
       "        category_level2                     category_level3  category_idx_y  \\\n",
       "0  ACCESSOIRE TELEPHONE  COQUE TELEPHONE - BUMPER TELEPHONE            5055   \n",
       "1  ACCESSOIRE TELEPHONE  COQUE TELEPHONE - BUMPER TELEPHONE            5055   \n",
       "2  ACCESSOIRE TELEPHONE  COQUE TELEPHONE - BUMPER TELEPHONE            5055   \n",
       "3  ACCESSOIRE TELEPHONE  COQUE TELEPHONE - BUMPER TELEPHONE            5055   \n",
       "4  ACCESSOIRE TELEPHONE  COQUE TELEPHONE - BUMPER TELEPHONE            5055   \n",
       "\n",
       "   cat1_idx  cat2_idx  \n",
       "0        45       455  \n",
       "1        45       455  \n",
       "2        45       455  \n",
       "3        45       455  \n",
       "4        45       455  "
      ]
     },
     "execution_count": 41,
     "metadata": {},
     "output_type": "execute_result"
    }
   ],
   "source": [
    "train_images_df = pd.merge(train_images_df, categories_df, on ='category_id', how='inner')\n",
    "train_images_df.head()"
   ]
  },
  {
   "cell_type": "code",
   "execution_count": 42,
   "metadata": {
    "collapsed": false
   },
   "outputs": [
    {
     "data": {
      "text/html": [
       "<div>\n",
       "<style>\n",
       "    .dataframe thead tr:only-child th {\n",
       "        text-align: right;\n",
       "    }\n",
       "\n",
       "    .dataframe thead th {\n",
       "        text-align: left;\n",
       "    }\n",
       "\n",
       "    .dataframe tbody tr th {\n",
       "        vertical-align: top;\n",
       "    }\n",
       "</style>\n",
       "<table border=\"1\" class=\"dataframe\">\n",
       "  <thead>\n",
       "    <tr style=\"text-align: right;\">\n",
       "      <th></th>\n",
       "      <th>product_id</th>\n",
       "      <th>category_idx_x</th>\n",
       "      <th>category_id</th>\n",
       "      <th>img_idx</th>\n",
       "      <th>category_level1</th>\n",
       "      <th>category_level2</th>\n",
       "      <th>category_level3</th>\n",
       "      <th>category_idx_y</th>\n",
       "      <th>cat1_idx</th>\n",
       "      <th>cat2_idx</th>\n",
       "    </tr>\n",
       "  </thead>\n",
       "  <tbody>\n",
       "    <tr>\n",
       "      <th>0</th>\n",
       "      <td>860</td>\n",
       "      <td>45</td>\n",
       "      <td>1000010653</td>\n",
       "      <td>0</td>\n",
       "      <td>TELEPHONIE - GPS</td>\n",
       "      <td>ACCESSOIRE TELEPHONE</td>\n",
       "      <td>COQUE TELEPHONE - BUMPER TELEPHONE</td>\n",
       "      <td>5055</td>\n",
       "      <td>45</td>\n",
       "      <td>455</td>\n",
       "    </tr>\n",
       "    <tr>\n",
       "      <th>1</th>\n",
       "      <td>10305</td>\n",
       "      <td>45</td>\n",
       "      <td>1000010653</td>\n",
       "      <td>0</td>\n",
       "      <td>TELEPHONIE - GPS</td>\n",
       "      <td>ACCESSOIRE TELEPHONE</td>\n",
       "      <td>COQUE TELEPHONE - BUMPER TELEPHONE</td>\n",
       "      <td>5055</td>\n",
       "      <td>45</td>\n",
       "      <td>455</td>\n",
       "    </tr>\n",
       "    <tr>\n",
       "      <th>2</th>\n",
       "      <td>10305</td>\n",
       "      <td>45</td>\n",
       "      <td>1000010653</td>\n",
       "      <td>1</td>\n",
       "      <td>TELEPHONIE - GPS</td>\n",
       "      <td>ACCESSOIRE TELEPHONE</td>\n",
       "      <td>COQUE TELEPHONE - BUMPER TELEPHONE</td>\n",
       "      <td>5055</td>\n",
       "      <td>45</td>\n",
       "      <td>455</td>\n",
       "    </tr>\n",
       "    <tr>\n",
       "      <th>3</th>\n",
       "      <td>10305</td>\n",
       "      <td>45</td>\n",
       "      <td>1000010653</td>\n",
       "      <td>2</td>\n",
       "      <td>TELEPHONIE - GPS</td>\n",
       "      <td>ACCESSOIRE TELEPHONE</td>\n",
       "      <td>COQUE TELEPHONE - BUMPER TELEPHONE</td>\n",
       "      <td>5055</td>\n",
       "      <td>45</td>\n",
       "      <td>455</td>\n",
       "    </tr>\n",
       "    <tr>\n",
       "      <th>4</th>\n",
       "      <td>10305</td>\n",
       "      <td>45</td>\n",
       "      <td>1000010653</td>\n",
       "      <td>3</td>\n",
       "      <td>TELEPHONIE - GPS</td>\n",
       "      <td>ACCESSOIRE TELEPHONE</td>\n",
       "      <td>COQUE TELEPHONE - BUMPER TELEPHONE</td>\n",
       "      <td>5055</td>\n",
       "      <td>45</td>\n",
       "      <td>455</td>\n",
       "    </tr>\n",
       "  </tbody>\n",
       "</table>\n",
       "</div>"
      ],
      "text/plain": [
       "   product_id  category_idx_x  category_id  img_idx   category_level1  \\\n",
       "0         860              45   1000010653        0  TELEPHONIE - GPS   \n",
       "1       10305              45   1000010653        0  TELEPHONIE - GPS   \n",
       "2       10305              45   1000010653        1  TELEPHONIE - GPS   \n",
       "3       10305              45   1000010653        2  TELEPHONIE - GPS   \n",
       "4       10305              45   1000010653        3  TELEPHONIE - GPS   \n",
       "\n",
       "        category_level2                     category_level3  category_idx_y  \\\n",
       "0  ACCESSOIRE TELEPHONE  COQUE TELEPHONE - BUMPER TELEPHONE            5055   \n",
       "1  ACCESSOIRE TELEPHONE  COQUE TELEPHONE - BUMPER TELEPHONE            5055   \n",
       "2  ACCESSOIRE TELEPHONE  COQUE TELEPHONE - BUMPER TELEPHONE            5055   \n",
       "3  ACCESSOIRE TELEPHONE  COQUE TELEPHONE - BUMPER TELEPHONE            5055   \n",
       "4  ACCESSOIRE TELEPHONE  COQUE TELEPHONE - BUMPER TELEPHONE            5055   \n",
       "\n",
       "   cat1_idx  cat2_idx  \n",
       "0        45       455  \n",
       "1        45       455  \n",
       "2        45       455  \n",
       "3        45       455  \n",
       "4        45       455  "
      ]
     },
     "execution_count": 42,
     "metadata": {},
     "output_type": "execute_result"
    }
   ],
   "source": [
    "val_images_df = pd.merge(val_images_df, categories_df, on='category_id', how='inner')\n",
    "val_images_df.head()"
   ]
  },
  {
   "cell_type": "code",
   "execution_count": 43,
   "metadata": {
    "collapsed": false
   },
   "outputs": [
    {
     "data": {
      "text/plain": [
       "array([45, 22,  6, 35, 47, 27, 10, 14,  5,  7, 29, 17, 43,  9, 11, 25, 21,\n",
       "       32, 37,  4, 44, 41, 16, 28, 23, 24, 34, 42, 33, 19, 26,  2, 46, 48,\n",
       "       18, 36, 15, 31])"
      ]
     },
     "execution_count": 43,
     "metadata": {},
     "output_type": "execute_result"
    }
   ],
   "source": [
    "train_images_df.cat1_idx.unique()"
   ]
  },
  {
   "cell_type": "code",
   "execution_count": 44,
   "metadata": {
    "collapsed": false
   },
   "outputs": [
    {
     "data": {
      "text/plain": [
       "(8465, 1344)"
      ]
     },
     "execution_count": 44,
     "metadata": {},
     "output_type": "execute_result"
    }
   ],
   "source": [
    "#train_new['product_id'].count\n",
    "len(train_images_df),len(val_images_df)"
   ]
  },
  {
   "cell_type": "code",
   "execution_count": 45,
   "metadata": {
    "collapsed": false
   },
   "outputs": [
    {
     "data": {
      "text/plain": [
       "TELEPHONIE - GPS                             916\n",
       "DECO - LINGE - LUMINAIRE                     895\n",
       "INFORMATIQUE                                 870\n",
       "AUTO - MOTO                                  826\n",
       "LIBRAIRIE                                    655\n",
       "BIJOUX -  LUNETTES - MONTRES                 503\n",
       "JEUX - JOUETS                                424\n",
       "BRICOLAGE - OUTILLAGE - QUINCAILLERIE        330\n",
       "BAGAGERIE                                    322\n",
       "MUSIQUE                                      296\n",
       "CHAUSSURES - ACCESSOIRES                     273\n",
       "ELECTROMENAGER                               247\n",
       "HYGIENE - BEAUTE - PARFUM                    247\n",
       "MEUBLE                                       236\n",
       "TV - VIDEO - SON                             205\n",
       "SPORT                                        189\n",
       "PHOTO - OPTIQUE                              187\n",
       "ART DE LA TABLE - ARTICLES CULINAIRES        147\n",
       "JARDIN - PISCINE                              80\n",
       "LOISIRS CREATIFS - BEAUX ARTS - PAPETERIE     78\n",
       "LITERIE                                       67\n",
       "DVD - BLU-RAY                                 64\n",
       "PUERICULTURE                                  58\n",
       "JEUX VIDEO                                    55\n",
       "ANIMALERIE                                    52\n",
       "ARTICLES POUR FUMEUR                          42\n",
       "MATERIEL MEDICAL                              37\n",
       "TATOUAGE - PIERCING                           36\n",
       "MERCERIE                                      23\n",
       "EPICERIE                                      18\n",
       "INSTRUMENTS DE MUSIQUE                        18\n",
       "VIN - ALCOOL - LIQUIDES                       15\n",
       "SONO - DJ                                     13\n",
       "DROGUERIE                                     12\n",
       "TENUE PROFESSIONNELLE                         11\n",
       "PARAPHARMACIE                                 10\n",
       "ELECTRONIQUE                                   7\n",
       "MATERIEL DE BUREAU                             1\n",
       "Name: category_level1, dtype: int64"
      ]
     },
     "execution_count": 45,
     "metadata": {},
     "output_type": "execute_result"
    }
   ],
   "source": [
    "train_images_df['category_level1'].value_counts()"
   ]
  },
  {
   "cell_type": "code",
   "execution_count": 46,
   "metadata": {
    "collapsed": false
   },
   "outputs": [
    {
     "data": {
      "text/plain": [
       "TELEPHONIE - GPS                             202\n",
       "INFORMATIQUE                                 161\n",
       "DECO - LINGE - LUMINAIRE                     141\n",
       "AUTO - MOTO                                  131\n",
       "BIJOUX -  LUNETTES - MONTRES                 106\n",
       "LIBRAIRIE                                    102\n",
       "MUSIQUE                                       66\n",
       "CHAUSSURES - ACCESSOIRES                      59\n",
       "BAGAGERIE                                     58\n",
       "JEUX - JOUETS                                 58\n",
       "ELECTROMENAGER                                40\n",
       "BRICOLAGE - OUTILLAGE - QUINCAILLERIE         39\n",
       "HYGIENE - BEAUTE - PARFUM                     34\n",
       "TV - VIDEO - SON                              32\n",
       "PHOTO - OPTIQUE                               23\n",
       "MEUBLE                                        22\n",
       "ART DE LA TABLE - ARTICLES CULINAIRES         18\n",
       "SPORT                                         13\n",
       "DVD - BLU-RAY                                 10\n",
       "LITERIE                                        7\n",
       "TATOUAGE - PIERCING                            4\n",
       "ARTICLES POUR FUMEUR                           4\n",
       "JEUX VIDEO                                     3\n",
       "LOISIRS CREATIFS - BEAUX ARTS - PAPETERIE      3\n",
       "DROGUERIE                                      3\n",
       "INSTRUMENTS DE MUSIQUE                         2\n",
       "MATERIEL MEDICAL                               2\n",
       "JARDIN - PISCINE                               1\n",
       "Name: category_level1, dtype: int64"
      ]
     },
     "execution_count": 46,
     "metadata": {},
     "output_type": "execute_result"
    }
   ],
   "source": [
    "val_images_df['category_level1'].value_counts()"
   ]
  },
  {
   "cell_type": "code",
   "execution_count": null,
   "metadata": {
    "collapsed": true
   },
   "outputs": [],
   "source": [
    "# len(train_category1[\"category_idx\"].unique()), len(val_images_df[\"category_idx\"].unique())"
   ]
  },
  {
   "cell_type": "markdown",
   "metadata": {
    "_cell_guid": "59abf374-4259-4e2b-8bcb-f75947f9d4dc",
    "_uuid": "8090c3dfdf328ea0e9f89b2280126a5a58840c09"
   },
   "source": [
    "Quickly verify that the split really is approximately 80-20:"
   ]
  },
  {
   "cell_type": "code",
   "execution_count": null,
   "metadata": {
    "collapsed": true
   },
   "outputs": [],
   "source": [
    "# cat_idx = 5196\n",
    "# num_train = np.sum(train_category1['category_idx'] == cat_idx)\n",
    "# num_val = np.sum(val_category1['category_idx'] == cat_idx)\n",
    "# num_val/num_train"
   ]
  },
  {
   "cell_type": "markdown",
   "metadata": {
    "_cell_guid": "624c622f-059a-4ce0-b68e-f373dba30b03",
    "_uuid": "1bb825a934deaa8a287a0243927193377e6fa433"
   },
   "source": [
    "Close enough. ;-) Remember that we split on products but not all products have the same number of images, which is where the slightly discrepancy comes from. (Also, there tend to be fewer validation images if `drop_percentage` > 0.)"
   ]
  },
  {
   "cell_type": "markdown",
   "metadata": {
    "_cell_guid": "f84f672e-c16d-47a7-9d1c-84f9a0fb3e22",
    "_uuid": "9450109fb5c910c9e7634855b7445fc4260097a7"
   },
   "source": [
    "Save the lookup tables as CSV so that we don't need to repeat the above procedure again."
   ]
  },
  {
   "cell_type": "code",
   "execution_count": null,
   "metadata": {
    "_cell_guid": "c880c70f-dd98-4d61-b65f-f230abffdefd",
    "_uuid": "747743164ea6dae14a5de4eb624465cb806089ab",
    "collapsed": true
   },
   "outputs": [],
   "source": [
    "#train_images_df.to_csv(\"train_images.csv\")\n",
    "#val_images_df.to_csv(\"val_images.csv\")"
   ]
  },
  {
   "cell_type": "code",
   "execution_count": 47,
   "metadata": {
    "collapsed": true
   },
   "outputs": [],
   "source": [
    "train_images_df.to_csv(\"train_category_level1.csv\")\n",
    "val_images_df.to_csv(\"val_category_level1.csv\")\n",
    "#train_category2.to_csv(\"train_category2.csv\")\n",
    "#val_category2.to_csv(\"val_category2.csv\")"
   ]
  },
  {
   "cell_type": "markdown",
   "metadata": {
    "_cell_guid": "4212f62a-86c3-4a13-8882-b4c90f64dac5",
    "_uuid": "8a4bd65c90576d611340e36bce5f49896d942ed1"
   },
   "source": [
    "# Part 2: The generator"
   ]
  },
  {
   "cell_type": "markdown",
   "metadata": {
    "_cell_guid": "1da50467-d11d-417e-9367-bd8574dfe61a",
    "_uuid": "55331a57195739250c5b530160cf32a57b9a2464"
   },
   "source": [
    "First load the lookup tables from the CSV files (you don't need to do this if you just did all the steps from part 1)."
   ]
  },
  {
   "cell_type": "code",
   "execution_count": 48,
   "metadata": {
    "collapsed": true
   },
   "outputs": [],
   "source": [
    "def make_category_tables():\n",
    "    cat2idx = {}\n",
    "    idx2cat = {}\n",
    "    for ir in categories_df.itertuples():\n",
    "        category_id = ir[0]\n",
    "        #category_idx = ir[4] # Category level3\n",
    "        category_idx = ir[5] # Category level1\n",
    "        #category_idx = ir[6] # Category level2 \n",
    "        cat2idx[category_id] = category_idx\n",
    "        idx2cat[category_idx] = category_id\n",
    "    return cat2idx, idx2cat"
   ]
  },
  {
   "cell_type": "code",
   "execution_count": 49,
   "metadata": {
    "_cell_guid": "19c24f98-551d-4b95-b8f7-8497ab09eb56",
    "_uuid": "0c0dadb16f6b094748e967e9c682bb18b3b5c336",
    "collapsed": false
   },
   "outputs": [],
   "source": [
    " #categories_df = pd.read_csv(\"categories.csv\", index_col=0)\n",
    "cat2idx, idx2cat = make_category_tables()\n",
    "\n",
    " #train_offsets_df = pd.read_csv(\"train_offsets.csv\", index_col=0)\n",
    "#train_images_df = pd.read_csv(\"train_images.csv\", index_col=0)\n",
    "# train_images_df = pd.read_csv(\"train_category_level1.csv\", index_col=0)\n",
    "#val_images_df = pd.read_csv(\"val_images.csv\", index_col=0)\n",
    " #val_images_df = pd.read_csv(\"val_category_level1.csv\", index_col=0)"
   ]
  },
  {
   "cell_type": "code",
   "execution_count": 50,
   "metadata": {
    "collapsed": false
   },
   "outputs": [
    {
     "data": {
      "text/html": [
       "<div>\n",
       "<style>\n",
       "    .dataframe thead tr:only-child th {\n",
       "        text-align: right;\n",
       "    }\n",
       "\n",
       "    .dataframe thead th {\n",
       "        text-align: left;\n",
       "    }\n",
       "\n",
       "    .dataframe tbody tr th {\n",
       "        vertical-align: top;\n",
       "    }\n",
       "</style>\n",
       "<table border=\"1\" class=\"dataframe\">\n",
       "  <thead>\n",
       "    <tr style=\"text-align: right;\">\n",
       "      <th></th>\n",
       "      <th>num_imgs</th>\n",
       "      <th>offset</th>\n",
       "      <th>length</th>\n",
       "      <th>category_id</th>\n",
       "    </tr>\n",
       "    <tr>\n",
       "      <th>product_id</th>\n",
       "      <th></th>\n",
       "      <th></th>\n",
       "      <th></th>\n",
       "      <th></th>\n",
       "    </tr>\n",
       "  </thead>\n",
       "  <tbody>\n",
       "    <tr>\n",
       "      <th>0</th>\n",
       "      <td>1</td>\n",
       "      <td>0</td>\n",
       "      <td>6979</td>\n",
       "      <td>1000010653</td>\n",
       "    </tr>\n",
       "    <tr>\n",
       "      <th>1</th>\n",
       "      <td>1</td>\n",
       "      <td>6979</td>\n",
       "      <td>7318</td>\n",
       "      <td>1000010653</td>\n",
       "    </tr>\n",
       "    <tr>\n",
       "      <th>2</th>\n",
       "      <td>1</td>\n",
       "      <td>14297</td>\n",
       "      <td>5455</td>\n",
       "      <td>1000004079</td>\n",
       "    </tr>\n",
       "    <tr>\n",
       "      <th>3</th>\n",
       "      <td>1</td>\n",
       "      <td>19752</td>\n",
       "      <td>4580</td>\n",
       "      <td>1000004141</td>\n",
       "    </tr>\n",
       "    <tr>\n",
       "      <th>4</th>\n",
       "      <td>1</td>\n",
       "      <td>24332</td>\n",
       "      <td>6346</td>\n",
       "      <td>1000015539</td>\n",
       "    </tr>\n",
       "  </tbody>\n",
       "</table>\n",
       "</div>"
      ],
      "text/plain": [
       "            num_imgs  offset  length  category_id\n",
       "product_id                                       \n",
       "0                  1       0    6979   1000010653\n",
       "1                  1    6979    7318   1000010653\n",
       "2                  1   14297    5455   1000004079\n",
       "3                  1   19752    4580   1000004141\n",
       "4                  1   24332    6346   1000015539"
      ]
     },
     "execution_count": 50,
     "metadata": {},
     "output_type": "execute_result"
    }
   ],
   "source": [
    "train_offsets_df.head()"
   ]
  },
  {
   "cell_type": "code",
   "execution_count": 146,
   "metadata": {
    "collapsed": false
   },
   "outputs": [
    {
     "data": {
      "text/html": [
       "<div>\n",
       "<style>\n",
       "    .dataframe thead tr:only-child th {\n",
       "        text-align: right;\n",
       "    }\n",
       "\n",
       "    .dataframe thead th {\n",
       "        text-align: left;\n",
       "    }\n",
       "\n",
       "    .dataframe tbody tr th {\n",
       "        vertical-align: top;\n",
       "    }\n",
       "</style>\n",
       "<table border=\"1\" class=\"dataframe\">\n",
       "  <thead>\n",
       "    <tr style=\"text-align: right;\">\n",
       "      <th></th>\n",
       "      <th>product_id</th>\n",
       "      <th>category_idx_x</th>\n",
       "      <th>category_id</th>\n",
       "      <th>img_idx</th>\n",
       "      <th>category_level1</th>\n",
       "      <th>category_level2</th>\n",
       "      <th>category_level3</th>\n",
       "      <th>category_idx_y</th>\n",
       "      <th>cat1_idx</th>\n",
       "      <th>cat2_idx</th>\n",
       "    </tr>\n",
       "  </thead>\n",
       "  <tbody>\n",
       "    <tr>\n",
       "      <th>0</th>\n",
       "      <td>860</td>\n",
       "      <td>45</td>\n",
       "      <td>1000010653</td>\n",
       "      <td>0</td>\n",
       "      <td>TELEPHONIE - GPS</td>\n",
       "      <td>ACCESSOIRE TELEPHONE</td>\n",
       "      <td>COQUE TELEPHONE - BUMPER TELEPHONE</td>\n",
       "      <td>5055</td>\n",
       "      <td>45</td>\n",
       "      <td>455</td>\n",
       "    </tr>\n",
       "    <tr>\n",
       "      <th>1</th>\n",
       "      <td>10305</td>\n",
       "      <td>45</td>\n",
       "      <td>1000010653</td>\n",
       "      <td>0</td>\n",
       "      <td>TELEPHONIE - GPS</td>\n",
       "      <td>ACCESSOIRE TELEPHONE</td>\n",
       "      <td>COQUE TELEPHONE - BUMPER TELEPHONE</td>\n",
       "      <td>5055</td>\n",
       "      <td>45</td>\n",
       "      <td>455</td>\n",
       "    </tr>\n",
       "    <tr>\n",
       "      <th>2</th>\n",
       "      <td>10305</td>\n",
       "      <td>45</td>\n",
       "      <td>1000010653</td>\n",
       "      <td>1</td>\n",
       "      <td>TELEPHONIE - GPS</td>\n",
       "      <td>ACCESSOIRE TELEPHONE</td>\n",
       "      <td>COQUE TELEPHONE - BUMPER TELEPHONE</td>\n",
       "      <td>5055</td>\n",
       "      <td>45</td>\n",
       "      <td>455</td>\n",
       "    </tr>\n",
       "    <tr>\n",
       "      <th>3</th>\n",
       "      <td>10305</td>\n",
       "      <td>45</td>\n",
       "      <td>1000010653</td>\n",
       "      <td>2</td>\n",
       "      <td>TELEPHONIE - GPS</td>\n",
       "      <td>ACCESSOIRE TELEPHONE</td>\n",
       "      <td>COQUE TELEPHONE - BUMPER TELEPHONE</td>\n",
       "      <td>5055</td>\n",
       "      <td>45</td>\n",
       "      <td>455</td>\n",
       "    </tr>\n",
       "    <tr>\n",
       "      <th>4</th>\n",
       "      <td>10305</td>\n",
       "      <td>45</td>\n",
       "      <td>1000010653</td>\n",
       "      <td>3</td>\n",
       "      <td>TELEPHONIE - GPS</td>\n",
       "      <td>ACCESSOIRE TELEPHONE</td>\n",
       "      <td>COQUE TELEPHONE - BUMPER TELEPHONE</td>\n",
       "      <td>5055</td>\n",
       "      <td>45</td>\n",
       "      <td>455</td>\n",
       "    </tr>\n",
       "    <tr>\n",
       "      <th>5</th>\n",
       "      <td>8926920</td>\n",
       "      <td>45</td>\n",
       "      <td>1000010653</td>\n",
       "      <td>0</td>\n",
       "      <td>TELEPHONIE - GPS</td>\n",
       "      <td>ACCESSOIRE TELEPHONE</td>\n",
       "      <td>COQUE TELEPHONE - BUMPER TELEPHONE</td>\n",
       "      <td>5055</td>\n",
       "      <td>45</td>\n",
       "      <td>455</td>\n",
       "    </tr>\n",
       "    <tr>\n",
       "      <th>6</th>\n",
       "      <td>6462274</td>\n",
       "      <td>45</td>\n",
       "      <td>1000010653</td>\n",
       "      <td>0</td>\n",
       "      <td>TELEPHONIE - GPS</td>\n",
       "      <td>ACCESSOIRE TELEPHONE</td>\n",
       "      <td>COQUE TELEPHONE - BUMPER TELEPHONE</td>\n",
       "      <td>5055</td>\n",
       "      <td>45</td>\n",
       "      <td>455</td>\n",
       "    </tr>\n",
       "    <tr>\n",
       "      <th>7</th>\n",
       "      <td>20568</td>\n",
       "      <td>45</td>\n",
       "      <td>1000010653</td>\n",
       "      <td>0</td>\n",
       "      <td>TELEPHONIE - GPS</td>\n",
       "      <td>ACCESSOIRE TELEPHONE</td>\n",
       "      <td>COQUE TELEPHONE - BUMPER TELEPHONE</td>\n",
       "      <td>5055</td>\n",
       "      <td>45</td>\n",
       "      <td>455</td>\n",
       "    </tr>\n",
       "    <tr>\n",
       "      <th>8</th>\n",
       "      <td>7945385</td>\n",
       "      <td>45</td>\n",
       "      <td>1000010653</td>\n",
       "      <td>0</td>\n",
       "      <td>TELEPHONIE - GPS</td>\n",
       "      <td>ACCESSOIRE TELEPHONE</td>\n",
       "      <td>COQUE TELEPHONE - BUMPER TELEPHONE</td>\n",
       "      <td>5055</td>\n",
       "      <td>45</td>\n",
       "      <td>455</td>\n",
       "    </tr>\n",
       "    <tr>\n",
       "      <th>9</th>\n",
       "      <td>6772047</td>\n",
       "      <td>45</td>\n",
       "      <td>1000010653</td>\n",
       "      <td>0</td>\n",
       "      <td>TELEPHONIE - GPS</td>\n",
       "      <td>ACCESSOIRE TELEPHONE</td>\n",
       "      <td>COQUE TELEPHONE - BUMPER TELEPHONE</td>\n",
       "      <td>5055</td>\n",
       "      <td>45</td>\n",
       "      <td>455</td>\n",
       "    </tr>\n",
       "  </tbody>\n",
       "</table>\n",
       "</div>"
      ],
      "text/plain": [
       "   product_id  category_idx_x  category_id  img_idx   category_level1  \\\n",
       "0         860              45   1000010653        0  TELEPHONIE - GPS   \n",
       "1       10305              45   1000010653        0  TELEPHONIE - GPS   \n",
       "2       10305              45   1000010653        1  TELEPHONIE - GPS   \n",
       "3       10305              45   1000010653        2  TELEPHONIE - GPS   \n",
       "4       10305              45   1000010653        3  TELEPHONIE - GPS   \n",
       "5     8926920              45   1000010653        0  TELEPHONIE - GPS   \n",
       "6     6462274              45   1000010653        0  TELEPHONIE - GPS   \n",
       "7       20568              45   1000010653        0  TELEPHONIE - GPS   \n",
       "8     7945385              45   1000010653        0  TELEPHONIE - GPS   \n",
       "9     6772047              45   1000010653        0  TELEPHONIE - GPS   \n",
       "\n",
       "        category_level2                     category_level3  category_idx_y  \\\n",
       "0  ACCESSOIRE TELEPHONE  COQUE TELEPHONE - BUMPER TELEPHONE            5055   \n",
       "1  ACCESSOIRE TELEPHONE  COQUE TELEPHONE - BUMPER TELEPHONE            5055   \n",
       "2  ACCESSOIRE TELEPHONE  COQUE TELEPHONE - BUMPER TELEPHONE            5055   \n",
       "3  ACCESSOIRE TELEPHONE  COQUE TELEPHONE - BUMPER TELEPHONE            5055   \n",
       "4  ACCESSOIRE TELEPHONE  COQUE TELEPHONE - BUMPER TELEPHONE            5055   \n",
       "5  ACCESSOIRE TELEPHONE  COQUE TELEPHONE - BUMPER TELEPHONE            5055   \n",
       "6  ACCESSOIRE TELEPHONE  COQUE TELEPHONE - BUMPER TELEPHONE            5055   \n",
       "7  ACCESSOIRE TELEPHONE  COQUE TELEPHONE - BUMPER TELEPHONE            5055   \n",
       "8  ACCESSOIRE TELEPHONE  COQUE TELEPHONE - BUMPER TELEPHONE            5055   \n",
       "9  ACCESSOIRE TELEPHONE  COQUE TELEPHONE - BUMPER TELEPHONE            5055   \n",
       "\n",
       "   cat1_idx  cat2_idx  \n",
       "0        45       455  \n",
       "1        45       455  \n",
       "2        45       455  \n",
       "3        45       455  \n",
       "4        45       455  \n",
       "5        45       455  \n",
       "6        45       455  \n",
       "7        45       455  \n",
       "8        45       455  \n",
       "9        45       455  "
      ]
     },
     "execution_count": 146,
     "metadata": {},
     "output_type": "execute_result"
    }
   ],
   "source": [
    "val_images_df.head(10)"
   ]
  },
  {
   "cell_type": "code",
   "execution_count": 52,
   "metadata": {
    "collapsed": false
   },
   "outputs": [
    {
     "data": {
      "text/plain": [
       "8465"
      ]
     },
     "execution_count": 52,
     "metadata": {},
     "output_type": "execute_result"
    }
   ],
   "source": [
    "len(train_images_df)"
   ]
  },
  {
   "cell_type": "code",
   "execution_count": 53,
   "metadata": {
    "collapsed": false
   },
   "outputs": [
    {
     "data": {
      "text/plain": [
       "45    916\n",
       "14    895\n",
       "22    870\n",
       "6     826\n",
       "27    655\n",
       "9     503\n",
       "25    424\n",
       "10    330\n",
       "7     322\n",
       "35    296\n",
       "11    273\n",
       "17    247\n",
       "21    247\n",
       "34    236\n",
       "47    205\n",
       "43    189\n",
       "37    187\n",
       "4     147\n",
       "24     80\n",
       "29     78\n",
       "28     67\n",
       "16     64\n",
       "41     58\n",
       "26     55\n",
       "2      52\n",
       "5      42\n",
       "32     37\n",
       "44     36\n",
       "33     23\n",
       "19     18\n",
       "23     18\n",
       "48     15\n",
       "42     13\n",
       "15     12\n",
       "46     11\n",
       "36     10\n",
       "18      7\n",
       "31      1\n",
       "Name: cat1_idx, dtype: int64"
      ]
     },
     "execution_count": 53,
     "metadata": {},
     "output_type": "execute_result"
    }
   ],
   "source": [
    "train_images_df['cat1_idx'].value_counts()"
   ]
  },
  {
   "cell_type": "markdown",
   "metadata": {
    "_cell_guid": "17cb7bb4-4941-4d0d-8fa5-2dd60b7014ce",
    "_uuid": "edbb272356d65e3ec9b540bd4597464ae4afa3c5"
   },
   "source": [
    "The Keras generator is implemented by the `BSONIterator` class. It creates batches of images (and their one-hot encoded labels) directly from the BSON file. It can be used with multiple workers.\n",
    "\n",
    "**Note:** For fastest results, put the train.bson and test.bson files on a fast drive (SSD).\n",
    "\n",
    "See also the code in: https://github.com/fchollet/keras/blob/master/keras/preprocessing/image.py"
   ]
  },
  {
   "cell_type": "code",
   "execution_count": 54,
   "metadata": {
    "_cell_guid": "78d8b565-336e-4836-b613-768bb6581499",
    "_uuid": "c43d82c645b098b2dd8fc0962bd392bdfc43057d",
    "collapsed": true
   },
   "outputs": [],
   "source": [
    "from keras.preprocessing.image import Iterator\n",
    "from keras.preprocessing.image import ImageDataGenerator\n",
    "from keras import backend as K\n",
    "\n",
    "class BSONIterator(Iterator):\n",
    "    def __init__(self, bson_file, images_df, offsets_df, num_class,\n",
    "                 image_data_generator, lock, target_size=(180, 180), \n",
    "                 with_labels=True, batch_size=32, shuffle=False, seed=None):\n",
    "\n",
    "        self.file = bson_file\n",
    "        self.images_df = images_df\n",
    "        self.offsets_df = offsets_df\n",
    "        self.with_labels = with_labels\n",
    "        self.samples = len(images_df)\n",
    "        self.num_class = num_class\n",
    "        self.image_data_generator = image_data_generator\n",
    "        self.target_size = tuple(target_size)\n",
    "        self.image_shape = self.target_size + (3,)\n",
    "\n",
    "        print(\"Found %d images belonging to %d classes.\" % (self.samples, self.num_class))\n",
    "\n",
    "        super(BSONIterator, self).__init__(self.samples, batch_size, shuffle, seed)\n",
    "        self.lock = lock\n",
    "\n",
    "    def _get_batches_of_transformed_samples(self, index_array):\n",
    "        batch_x = np.zeros((len(index_array),) + self.image_shape, dtype=K.floatx())\n",
    "        if self.with_labels:\n",
    "            batch_y = np.zeros((len(batch_x), self.num_class), dtype=K.floatx())\n",
    "\n",
    "        for i, j in enumerate(index_array):\n",
    "            # Protect file and dataframe access with a lock.\n",
    "            with self.lock:\n",
    "                image_row = self.images_df.iloc[j]\n",
    "                product_id = image_row[\"product_id\"]\n",
    "                offset_row = self.offsets_df.loc[product_id]\n",
    "\n",
    "                # Read this product's data from the BSON file.\n",
    "                self.file.seek(offset_row[\"offset\"])\n",
    "                item_data = self.file.read(offset_row[\"length\"])\n",
    "\n",
    "            # Grab the image from the product.\n",
    "            item = bson.BSON.decode(item_data)\n",
    "            img_idx = image_row[\"img_idx\"]\n",
    "            bson_img = item[\"imgs\"][img_idx][\"picture\"]\n",
    "\n",
    "            # Load the image.\n",
    "            img = load_img(io.BytesIO(bson_img), target_size=self.target_size)\n",
    "\n",
    "            # Preprocess the image.\n",
    "            x = img_to_array(img)\n",
    "            x = self.image_data_generator.random_transform(x)\n",
    "            x = self.image_data_generator.standardize(x)\n",
    "\n",
    "            # Add the image and the label to the batch (one-hot encoded).\n",
    "            batch_x[i] = x\n",
    "            if self.with_labels:\n",
    "                #batch_y[i, image_row[\"category_idx\"]] = 1\n",
    "                batch_y[i, image_row[\"cat1_idx\"]] = 1\n",
    "\n",
    "        if self.with_labels:\n",
    "            return batch_x, batch_y\n",
    "        else:\n",
    "            return batch_x\n",
    "\n",
    "    def next(self):\n",
    "        with self.lock:\n",
    "            index_array = next(self.index_generator)\n",
    "#         return self._get_batches_of_transformed_samples(index_array)\n",
    "        return self._get_batches_of_transformed_samples(index_array[0])\n",
    "    "
   ]
  },
  {
   "cell_type": "code",
   "execution_count": 55,
   "metadata": {
    "_cell_guid": "86525843-13cc-413e-b372-085e4864a45a",
    "_uuid": "a1de21a39914a95128adb7675b5fa17a5284f338",
    "collapsed": true
   },
   "outputs": [],
   "source": [
    "train_bson_file = open(train_bson_path, \"rb\")"
   ]
  },
  {
   "cell_type": "markdown",
   "metadata": {
    "_cell_guid": "0c1f8649-6383-4ccf-9b72-0a33d4011019",
    "_uuid": "65d447e854e1bc67a3046d8318240f1b71814d4b"
   },
   "source": [
    "Because the training and validation generators read from the same BSON file, they need to use the same lock to protect it."
   ]
  },
  {
   "cell_type": "code",
   "execution_count": 56,
   "metadata": {
    "_cell_guid": "13fc319e-fc07-4ba8-a293-807f0a588cae",
    "_uuid": "4b3c7259068815be68ae576136ad67b0c7bc89a6",
    "collapsed": true
   },
   "outputs": [],
   "source": [
    "import threading\n",
    "lock = threading.Lock()"
   ]
  },
  {
   "cell_type": "code",
   "execution_count": 57,
   "metadata": {
    "collapsed": false
   },
   "outputs": [
    {
     "data": {
      "text/plain": [
       "38"
      ]
     },
     "execution_count": 57,
     "metadata": {},
     "output_type": "execute_result"
    }
   ],
   "source": [
    "len(train_images_df['cat1_idx'].unique())"
   ]
  },
  {
   "cell_type": "markdown",
   "metadata": {
    "_cell_guid": "2742b451-159b-4353-a7eb-96885fdf8919",
    "_uuid": "a4a76294778c99600228091e797507026d8ba4c3"
   },
   "source": [
    "Create a generator for training and a generator for validation."
   ]
  },
  {
   "cell_type": "code",
   "execution_count": 58,
   "metadata": {
    "_cell_guid": "d9381773-ad58-4656-b225-306e68a603f7",
    "_uuid": "ffc317a85c6849dca92c8e5322eecff66269cca4",
    "collapsed": false
   },
   "outputs": [
    {
     "name": "stdout",
     "output_type": "stream",
     "text": [
      "Found 8465 images belonging to 5270 classes.\n",
      "Found 1344 images belonging to 5270 classes.\n"
     ]
    }
   ],
   "source": [
    "num_classes = 5270\n",
    "#num_classes = len(train_images_df['category_idx'].unique())\n",
    "num_train_images = len(train_images_df)\n",
    "num_val_images = len(val_images_df)\n",
    "batch_size = 128\n",
    "\n",
    "# Tip: use ImageDataGenerator for data augmentation and preprocessing.\n",
    "train_datagen = ImageDataGenerator()\n",
    "train_gen = BSONIterator(train_bson_file, train_images_df, train_offsets_df, \n",
    "                         num_classes, train_datagen, lock,\n",
    "                         batch_size=batch_size, shuffle=True)\n",
    "\n",
    "val_datagen = ImageDataGenerator()\n",
    "val_gen = BSONIterator(train_bson_file, val_images_df, train_offsets_df,\n",
    "                       num_classes, val_datagen, lock,\n",
    "                       batch_size=batch_size, shuffle=True)"
   ]
  },
  {
   "cell_type": "markdown",
   "metadata": {
    "_cell_guid": "5c5871a3-6d4a-4260-b8d4-462454ad8983",
    "_uuid": "c3cb7cadf70e26f22f9cd35f8f375b4e9483325a"
   },
   "source": [
    "How fast is the generator? Create a single batch:"
   ]
  },
  {
   "cell_type": "code",
   "execution_count": 59,
   "metadata": {
    "_cell_guid": "1b3227e9-902a-41ff-a16a-460c3eb5c7e3",
    "_uuid": "e5092cb6348a56b0f67d5a0b08115125eab2774a",
    "collapsed": false
   },
   "outputs": [
    {
     "name": "stdout",
     "output_type": "stream",
     "text": [
      "CPU times: user 268 ms, sys: 68 ms, total: 336 ms\n",
      "Wall time: 1.2 s\n"
     ]
    }
   ],
   "source": [
    "next(train_gen)  # warm-up\n",
    "\n",
    "%time bx, by = next(train_gen)"
   ]
  },
  {
   "cell_type": "markdown",
   "metadata": {
    "_cell_guid": "b393341b-1ab5-4f1f-9cfc-06cd2537d993",
    "_uuid": "98f84fd5e6a320f891b9ac21b345e2a590d37c82"
   },
   "source": [
    "Does it really output images and one-hot encoded class labels? Note that the images are pre-processed (and augmented) and therefore may look weird."
   ]
  },
  {
   "cell_type": "code",
   "execution_count": 60,
   "metadata": {
    "_cell_guid": "f2c3d3d3-f030-4b7c-b1d5-bf918d17f32f",
    "_uuid": "4dbc717fd62d116085f7b17092fb0f785e38b03e",
    "collapsed": false
   },
   "outputs": [
    {
     "data": {
      "text/plain": [
       "<matplotlib.image.AxesImage at 0x7f025a7df748>"
      ]
     },
     "execution_count": 60,
     "metadata": {},
     "output_type": "execute_result"
    },
    {
     "data": {
      "image/png": "[encoded data removed]",
      "text/plain": [
       "<matplotlib.figure.Figure at 0x7f03141579b0>"
      ]
     },
     "metadata": {},
     "output_type": "display_data"
    }
   ],
   "source": [
    "plt.imshow(bx[-1].astype(np.uint8))"
   ]
  },
  {
   "cell_type": "code",
   "execution_count": 61,
   "metadata": {
    "_cell_guid": "9bafa70a-6f48-4c08-a291-213e276c96e4",
    "_uuid": "a1567274363fc542693d44e68385c77414c5528a",
    "collapsed": false
   },
   "outputs": [
    {
     "data": {
      "text/plain": [
       "category_level1    CHAUSSURES - ACCESSOIRES\n",
       "category_level2          CHAUSSURES DETENTE\n",
       "category_level3                  ESPADRILLE\n",
       "category_idx                           1562\n",
       "cat1_idx                                 11\n",
       "cat2_idx                                 92\n",
       "category_id                      1000010554\n",
       "Name: 1000010554, dtype: object"
      ]
     },
     "execution_count": 61,
     "metadata": {},
     "output_type": "execute_result"
    }
   ],
   "source": [
    "cat_idx = np.argmax(by[-1])\n",
    "cat_id = idx2cat[cat_idx]\n",
    "categories_df.loc[cat_id]"
   ]
  },
  {
   "cell_type": "code",
   "execution_count": 62,
   "metadata": {
    "_cell_guid": "52a5f50b-c334-47b7-9696-04930acacc70",
    "_uuid": "dc592b117db8c985f51e5846510775f68f9e597f",
    "collapsed": false
   },
   "outputs": [
    {
     "name": "stdout",
     "output_type": "stream",
     "text": [
      "CPU times: user 264 ms, sys: 88 ms, total: 352 ms\n",
      "Wall time: 1.21 s\n"
     ]
    }
   ],
   "source": [
    "%time bx, by = next(val_gen)"
   ]
  },
  {
   "cell_type": "code",
   "execution_count": 63,
   "metadata": {
    "_cell_guid": "010217b8-7ebb-4396-bbdc-bf5d41913bbf",
    "_uuid": "a5d562f80ab3d820d1585888f775250b95dc9a59",
    "collapsed": false
   },
   "outputs": [
    {
     "data": {
      "text/plain": [
       "<matplotlib.image.AxesImage at 0x7f029c432a90>"
      ]
     },
     "execution_count": 63,
     "metadata": {},
     "output_type": "execute_result"
    },
    {
     "data": {
      "image/png": "[encoded data removed]",
      "text/plain": [
       "<matplotlib.figure.Figure at 0x7f03141577b8>"
      ]
     },
     "metadata": {},
     "output_type": "display_data"
    }
   ],
   "source": [
    "plt.imshow(bx[-1].astype(np.uint8))"
   ]
  },
  {
   "cell_type": "code",
   "execution_count": 64,
   "metadata": {
    "_cell_guid": "95881156-e36f-4209-ba52-ba871dd267e1",
    "_uuid": "4be78cd87a23367b4ed07007ca15b5fda6c5b877",
    "collapsed": false
   },
   "outputs": [
    {
     "data": {
      "text/plain": [
       "category_level1                       INFORMATIQUE\n",
       "category_level2                           TABLETTE\n",
       "category_level3    TABLETTE TACTILE RECONDITIONNEE\n",
       "category_idx                                  2615\n",
       "cat1_idx                                        22\n",
       "cat2_idx                                       201\n",
       "category_id                             1000022307\n",
       "Name: 1000022307, dtype: object"
      ]
     },
     "execution_count": 64,
     "metadata": {},
     "output_type": "execute_result"
    }
   ],
   "source": [
    "cat_idx = np.argmax(by[-1])\n",
    "cat_id = idx2cat[cat_idx]\n",
    "categories_df.loc[cat_id]"
   ]
  },
  {
   "cell_type": "markdown",
   "metadata": {
    "_cell_guid": "2250dba6-6ab0-4417-854e-6a3eb924fc33",
    "_uuid": "3daa4847924e17f4bab9a58470460667dc517075"
   },
   "source": [
    "# Part 3: Training\n",
    "\n",
    "Create a very simple Keras model and train it, to test that the generators work."
   ]
  },
  {
   "cell_type": "code",
   "execution_count": 65,
   "metadata": {
    "_cell_guid": "eaa3b3ba-7502-445f-91da-26d29af2bee8",
    "_uuid": "126271374bf7cfcf0871b8b78441e1f1dfa05cbb",
    "collapsed": false
   },
   "outputs": [
    {
     "name": "stdout",
     "output_type": "stream",
     "text": [
      "_________________________________________________________________\n",
      "Layer (type)                 Output Shape              Param #   \n",
      "=================================================================\n",
      "conv2d_1 (Conv2D)            (None, 180, 180, 32)      896       \n",
      "_________________________________________________________________\n",
      "max_pooling2d_1 (MaxPooling2 (None, 90, 90, 32)        0         \n",
      "_________________________________________________________________\n",
      "conv2d_2 (Conv2D)            (None, 90, 90, 64)        18496     \n",
      "_________________________________________________________________\n",
      "max_pooling2d_2 (MaxPooling2 (None, 45, 45, 64)        0         \n",
      "_________________________________________________________________\n",
      "conv2d_3 (Conv2D)            (None, 45, 45, 128)       73856     \n",
      "_________________________________________________________________\n",
      "max_pooling2d_3 (MaxPooling2 (None, 22, 22, 128)       0         \n",
      "_________________________________________________________________\n",
      "global_average_pooling2d_1 ( (None, 128)               0         \n",
      "_________________________________________________________________\n",
      "dense_1 (Dense)              (None, 5270)              679830    \n",
      "=================================================================\n",
      "Total params: 773,078\n",
      "Trainable params: 773,078\n",
      "Non-trainable params: 0\n",
      "_________________________________________________________________\n"
     ]
    }
   ],
   "source": [
    "from keras.models import Sequential\n",
    "from keras.layers import Dropout, Flatten, Dense\n",
    "from keras.layers.convolutional import Conv2D\n",
    "from keras.layers.pooling import MaxPooling2D, GlobalAveragePooling2D\n",
    "\n",
    "model = Sequential()\n",
    "model.add(Conv2D(32, 3, padding=\"same\", activation=\"relu\", input_shape=(180, 180, 3)))\n",
    "model.add(MaxPooling2D())\n",
    "model.add(Conv2D(64, 3, padding=\"same\", activation=\"relu\"))\n",
    "model.add(MaxPooling2D())\n",
    "model.add(Conv2D(128, 3, padding=\"same\", activation=\"relu\"))\n",
    "model.add(MaxPooling2D())\n",
    "model.add(GlobalAveragePooling2D())\n",
    "model.add(Dense(num_classes, activation=\"softmax\"))\n",
    "\n",
    "model.compile(optimizer=\"adam\",\n",
    "              loss=\"categorical_crossentropy\",\n",
    "              metrics=[\"accuracy\"])\n",
    "\n",
    "model.summary()"
   ]
  },
  {
   "cell_type": "code",
   "execution_count": 67,
   "metadata": {
    "_cell_guid": "0b8d0061-a07c-4a78-b53c-6ca1a2cf9799",
    "_kg_hide-output": false,
    "_uuid": "ce48a33358e9824f2c19e2c69878be9762915b1c",
    "collapsed": false
   },
   "outputs": [
    {
     "name": "stdout",
     "output_type": "stream",
     "text": [
      "Epoch 1/1\n",
      "66/66 [==============================] - 652s - loss: 3.7349 - acc: 0.1206 - val_loss: 2.7114 - val_acc: 0.1702\b\b\b\b\b\b\b\b\b\b\b\b\b\b\b\b\b\b\b\b\b\b\b\b\b\b\b\b\b\b\b\b\b\b\b\b\b\b\b\b\b\b\b\b\b\b\b\b\b\b\b\b\b\b\b\b\b\b\b\b\b\b\b\b\b\b\b\b\b\b\b\b\b\b\b\b\b\b\b\b\b\b\b\b\b\b\b\b\b\b\b\b\b\b\b\b\b\b\b\b\b\b\b\b\b\b\b\b\b\b\b\b\b\b\b\b\b\b\b\b\b\b\b\b\b\b\b\b\b\b\b\b\b\b\b\b\b\b\b\b\b\b\b\b\b\b\b\b\b\b\b\b\b\b\b\b\b\b\b\b\b\b\b\b\b\b\b\b\b\b\b\b\b\b\b\b\b\b\b\b\b\b\b\b\b\b\b\b\b\b\b\b\b\b\b\b\b\b\b\b\b\b\b\b\b\b\b\b\b\b\b\b\b\b\b\b\b\b\b\b\b\b\b\b\b\b\b\b\b\b\b\b\b\b\b\b\b\b\b\b\b\b\b\b\b\b\b\b\b\b\b\b\b\b\b\b\b\b\b\b\b\b\b\b\b\b\b\b\b\b\b\b\b\b\b\b\b\b\b\b\b\b\b\b\b\b\b\b\b\b\b\b\b\b\b\b\b\b\b\b\b\b\b\b\b\b\b\b\b\b\b\b\b\b\b\b\b\b\b\b\b\b\b\b\b\b\b\b\b\b\b\b\b\b\b\b\b\b\b\b\b\b\b\b\b\b\b\b\b\b\b\b\b\b\b\b\b\b\b\b\b\b\b\b\b\b\b\b\b\b\b\b\b\b\b\b\b\b\b\b\b\b\b\b\b\b\b\b\b\b\b\b\b\b\b\b\b\b\b\b\b\b\b\b\b\b\b\b\b\b\b\b\b\b\b\b\b\b\b\b\b\b\b\b\b\b\b\b\b\b\b\b\b\b\b\b\b\b\b\b\b\b\b\b\b\b\b\b\b\b\b\b\b\b\b\b\b\b\b\b\b\b\b\b\b\b\b\b\b\b\b\b\b\b\b\b\b\b\b\b\b\b\b\b\b\b\b\b\b\b\b\b\b\b\b\b\b\b\b\b\b\b\b\b\b\b\b\b\b\b\b\b\b\b\b\b\b\b\b\b\b\b\b\b\b\b\b\b\b\b\b\b\b\b\b\b\b\b\b\b\b\b\b\b\b\b\b\b\b\b\b\b\b\b\b\b\b\b\b\b\b\b\b\b\b\b\b\b\b\b\b\b\b\b\b\b\b\b\b\b\b\b\b\b\b\b\b\b\b\b\b\b\b\b\b\b\b\b\b\b\b\b\b\b\b\b\b\b\b\b\b\b\b\b\b\b\b\b\b\b\b\b\b\b\b\b\b\b\b\b\b\b\b\b\b\b\b\b\b\b\b\b\b\b\b\b\b\b\b\b\b\b\b\b\b\b\b\b\b\b\b\b\b\b\b\b\b\b\b\b\b\b\b\b\b\b\b\b\b\b\b\b\b\b\b\b\b\b\b\b\b\b\b\b\b\b\b\b\b\b\b\b\b\b\b\b\b\b\b\b\b\b\b\b\b\b\b\b\b\b\b\b\b\b\b\b\b\b\b\b\b\b\b\b\b\b\b\b\b\b\b\b\b\b\b\b\b\b\b\b\b\b\b\b\b\b\b\b\b\b\b\b\b\b\b\b\b\b\b\b\b\b\b\b\b\b\b\b\b\b\b\b\b\b\b\b\b\b\b\b\b\b\b\b\b\b\b\b\b\b\b\b\b\b\b\b\b\b\b\b\b\b\b\b\b\b\b\b\b\b\b\b\b\b\b\b\b\b\b\b\b\b\b\b\b\b\b\b\b\b\b\b\b\b\b\b\b\b\b\b\b\b\b\b\b\b\b\b\b\b\b\b\b\b\b\b\b\b\b\b\b\b\b\b\b\b\b\b\b\b\b\b\b\b\b\b\b\b\b\b\b\b\b\b\b\b\b\b\b\b\b\b\b\b\b\b\b\b\b\b\b\b\b\b\b\b\b\b\b\b\b\b\b\b\b\b\b\b\b\b\b\b\b\b\b\b\b\b\b\b\b\b\b\b\b\b\b\b\b\b\b\b\b\b\b\b\b\b\b\b\b\b\b\b\b\b\b\b\b\b\b\b\b\b\b\b\b\b\b\b\b\b\b\b\b\b\b\b\b\b\b\b\b\b\b\b\b\b\b\b\b\b\b\b\b\b\b\b\b\b\b\b\b\b\b\b\b\b\b\b\b\b\b\b\b\b\b\b\b\b\b\b\b\b\b\b\b\b\b\b\b\b\b\b\b\b\b\b\b\b\b\b\b\b\b\b\b\b\b\b\b\b\b\b\b\b\b\b\b\b\b\b\b\b\b\b\b\b\b\b\b\b\b\b\b\b\b\b\b\b\b\b\b\b\b\b\b\b\b\b\b\b\b\b\b\b\b\b\b\b\b\b\b\b\b\b\b\b\b\b\b\b\b\b\b\b\b\b\b\b\b\b\b\b\b\b\b\b\b\b\b\b\b\b\b\b\b\b\b\b\b\b\b\b\b\b\b\b\b\b\b\b\b\b\b\b\b\b\b\b\b\b\b\b\b\b\b\b\b\b\b\b\b\b\b\b\b\b\b\b\b\b\b\b\b\b\b\b\b\b\b\b\b\b\b\b\b\b\b\b\b\b\b\b\b\b\b\b\b\b\b\b\b\b\b\b\b\b\b\b\b\b\b\b\b\b\b\b\b\b\b\b\b\b\b\b\b\b\b\b\b\b\b\b\b\b\b\b\b\b\b\b\b\b\b\b\b\b\b\b\b\b\b\b\b\b\b\b\b\b\b\b\b\b\b\b\b\b\b\b\b\b\b\b\b\b\b\b\b\b\b\b\b\b\b\b\b\b\b\b\b\b\b\b\b\b\b\b\b\b\b\b\b\b\b\b\b\b\b\b\b\b\b\b\b\b\b\b\b\b\b\b\b\b\b\b\b\b\b\b\b\b\b\b\b\b\b\b\b\b\b\b\b\b\b\b\b\b\b\b\b\b\b\b\b\b\b\b\b\b\b\b\b\b\b\b\b\b\b\b\b\b\b\b\b\b\b\b\b\b\b\b\b\b\b\b\b\b\b\b\b\b\b\b\b\b\b\b\b\b\b\b\b\b\b\b\b\b\b\b\b\b\b\b\b\b\b\b\b\b\b\b\b\b\b\b\b\b\b\b\b\b\b\b\b\b\b\b\b\b\b\b\b\b\b\b\b\b\b\b\b\b\b\b\b\b\b\b\b\b\b\b\b\b\b\b\b\b\b\b\b\b\b\b\b\b\b\b\b\b\b\b\b\b\b\b\b\b\b\b\b\b\b\b\b\b\b\b\b\b\b\b\b\b\b\b\b\b\b\b\b\b\b\b\b\b\b\b\b\b\b\b\b\b\b\b\b\b\b\b\b\b\b\b\b\b\b\b\b\b\b\b\b\b\b\b\b\b\b\b\b\b\b\b\b\b\b\b\b\b\b\b\b\b\b\b\b\b\b\b\b\b\b\b\b\b\b\b\b\b\b\b\b\b\b\b\b\b\b\b\b\b\b\b\b\b\b\b\b\b\b\b\b\b\b\b\b\b\b\b\b\b\b\b\b\b\b\b\b\b\b\b\b\b\b\b\b\b\b\b\b\b\b\b\b\b\b\b\b\b\b\b\b\b\b\b\b\b\b\b\b\b\b\b\b\b\b\b\b\b\b\b\b\b\b\b\b\b\b\b\b\b\b\b\b\b\b\b\b\b\b\b\b\b\b\b\b\b\b\b\b\b\b\b\b\b\b\b\b\b\b\b\b\b\b\b\b\b\b\b\b\b\b\b\b\b\b\b\b\b\b\b\b\b\b\b\b\b\b\b\b\b\b\b\b\b\b\b\b\b\b\b\b\b\b\b\b\b\b\b\b\b\b\b\b\b\b\b\b\b\b\b\b\b\b\b\b\b\b\b\b\b\b\b\b\b\b\b\b\b\b\b\b\b\b\b\b\b\b\b\b\b\b\b\b\b\b\b\b\b\b\b\b\b\b\b\b\b\b\b\b\b\b\b\b\b\b\b\b\b\b\b\b\b\b\b\b\b\b\b\b\b\b\b\b\b\b\b\b\b\b\b\b\b\b\b\b\b\b\b\b\b\b\b\b\b\b\b\b\b\b\b\b\b\b\b\b\b\b\b\b\b\b\b\b\b\b\b\b\b\b\b\b\b\b\b\b\b\b\b\b\b\b\b\b\b\b\b\b\b\b\b\b\b\b\b\b\b\b\b\b\b\b\b\b\b\b\b\b\b\b\b\b\b\b\b\b\b\b\b\b\b\b\b\b\b\b\b\b\b\b\b\b\b\b\b\b\b\b\b\b\b\b\b\b\b\b\b\b\b\b\b\b\b\b\b\b\b\b\b\b\b\b\b\b\b\b\b\b\b\b\b\b\b\b\b\b\b\b\b\b\b\b\b\b\b\b\b\b\b\b\b\b\b\b\b\b\b\b\b\b\b\b\b\b\b\b\b\b\b\b\b\b\b\b\b\b\b\b\b\b\b\b\b\b\b\b\b\b\b\b\b\b\b\b\b\b\b\b\b\b\b\b\b\b\b\b\b\b\b\b\b\b\b\b\b\b\b\b\b\b\b\b\b\b\b\b\b\b\b\b\b\b\b\b\b\b\b\b\b\b\b\b\b\b\b\b\b\b\b\b\b\b\b\b\b\b\b\b\b\b\b\b\b\b\b\b\b\b\b\b\b\b\b\b\b\b\b\b\b\b\b\b\b\b\b\b\b\b\b\b\b\b\b\b\b\b\b\b\b\b\b\b\b\b\b\b\b\b\b\b\b\b\b\b\b\b\b\b\b\b\b\b\b\b\b\b\b\b\b\b\b\b\b\b\b\b\b\b\b\b\b\b\b\b\b\b\b\b\b\b\b\b\b\b\b\b\b\b\b\b\b\b\b\b\b\b\b\b\b\b\b\b\b\b\b\b\b\b\b\b\b\b\b\b\b\b\b\b\b\b\b\b\b\b\b\b\b\b\b\b\b\b\b\b\b\b\b\b\b\b\b\b\b\b\b\b\b\b\b\b\b\b\b\b\b\b\b\b\b\b\b\b\b\b\b\b\b\b\b\b\b\b\b\b\b\b\b\b\b\b\b\b\b\b\b\b\b\b\b\b\b\b\b\b\b\b\b\b\b\b\b\b\b\b\b\b\b\b\b\b\b\b\b\b\b\b\b\b\b\b\b\b\b\b\b\b\b\b\b\b\b\b\b\b\b\b\b\b\b\b\b\b\b\b\b\b\b\b\b\b\b\b\b\b\b\b\b\b\b\b\b\b\b\b\b\b\b\b\b\b\b\b\b\b\b\b\b\b\b\b\b\b\b\b\b\b\b\b\b\b\b\b\b\b\b\b\b\b\b\b\b\b\b\b\b\b\b\b\b\b\b\b\b\b\b\b\b\b\b\b\b\b\b\b\b\b\b\b\b\b\b\b\b\b\b\b\b\b\b\b\b\b\b\b\b\b\b\b\b\b\b\b\b\b\b\b\b\b\b\b\b\b\b\b\b\b\b\b\b\b\b\b\b\b\b\b\b\b\b\b\b\b\b\b\b\b\b\b\b\b\b\b\b\b\b\b\b\b\b\b\b\b\b\b\b\b\b\b\b\b\b\b\b\b\b\b\b\b\b\b\b\b\b\b\b\b\b\b\b\b\b\b\b\b\b\b\b\b\b\b\b\b\b\b\b\b\b\b\b\b\b\b\b\b\b\b\b\b\b\b\b\b\b\b\b\b\b\b\b\b\b\b\b\b\b\b\b\b\b\b\b\b\b\b\b\b\b\b\b\b\b\b\b\b\b\b\b\b\b\b\b\b\b\b\b\b\b\b\b\b\b\b\b\b\b\b\b\b\b\b\b\b\b\b\b\b\b\b\b\b\b\b\b\b\b\b\b\b\b\b\b\b\b\b\b\b\b\b\b\b\b\b\b\b\b\b\b\b\b\b\b\b\b\b\b\b\b\b\b\b\b\b\b\b\b\b\b\b\b\b\b\b\b\b\b\b\b\b\b\b\b\b\b\b\b\b\b\b\b\b\b\b\b\b\b\b\b\b\b\b\b\b\b\b\b\b\b\b\b\b\b\b\b\b\b\b\b\b\b\b\b\b\b\b\b\b\b\b\b\b\b\b\b\b\b\b\b\b\b\b\b\b\b\b\b\b\b\b\b\b\b\b\b\b\b\b\b\b\b\b\b\b\b\b\b\b\b\b\b\b\b\b\b\b\b\b\b\b\b\b\b\b\b\b\b\b\b\b\b\b\b\b\b\b\b\b\b\b\b\b\b\b\b\b\b\b\b\b\b\b\b\b\b\b\b\b\b\b\b\b\b\b\b\b\b\b\b\b\b\b\b\b\b\b\b\b\b\b\b\b\b\b\b\b\b\b\b\b\b\b\b\b\b\b\b\b\b\b\b\b\b\b\b\b\b\b\b\b\b\b\b\b\b\b\b\b\b\b\b\b\b\b\b\b\b\b\b\b\b\b\b\b\b\b\b\b\b\b\b\b\b\b\b\b\b\b\b\b\b\b\b\b\b\b\b\b\b\b\b\b\b\b\b\b\b\b\b\b\b\b\b\b\b\b\b\b\b\b\b\b\b\b\b\b\b\b\b\b\b\b\b\b\b\b\b\b\b\b\b\b\b\b\b\b\b\b\b\b\b\b\b\b\b\b\b\b\b\b\b\b\b\b\b\b\b\b\b\b\b\b\b\b\b\b\b\b\b\b\b\b\b\b\b\b\b\b\b\b\b\b\b\b\b\b\b\b\b\b\b\b\b\b\b\b\b\b\b\b\b\b\b\b\b\b\b\b\b\b\b\b\b\b\b\b\b\b\b\b\b\b\b\b\b\b\b\b\b\b\b\b\b\b\b\b\b\b\b\b\b\b\b\b\b\b\b\b\b\b\b\b\b\b\b\b\b\b\b\b\b\b\b\b\b\b\b\b\b\b\b\b\b\b\b\b\b\b\b\b\b\b\b\b\b\b\b\b\b\b\b\b\b\b\b\b\b\b\b\b\b\b\b\b\b\b\b\b\b\b\b\b\b\b\b\b\b\b\b\b\b\b\b\b\b\b\b\b\b\b\b\b\b\b\b\b\b\b\b\b\b\b\b\b\b\b\b\b\b\b\b\b\b\b\b\b\b\b\b\b\b\b\b\b\b\b\b\b\b\b\b\b\b\b\b\b\b\b\b\b\b\b\b\b\b\b\b\b\b\b\b\b\b\b\b\b\b\b\b\b\b\b\b\b\b\b\b\b\b\b\b\b\b\b\b\b\b\b\b\b\b\b\b\b\b\b\b\b\b\b\b\b\b\b\b\b\b\b\b\b\b\b\b\b\b\b\b\b\b\b\b\b\b\b\b\b\b\b\b\b\b\b\b\b\b\b\b\b\b\b\b\b\b\b\b\b\b\b\b\b\b\b\b\b\b\b\b\b\b\b\b\b\b\b\b\b\b\b\b\b\b\b\b\b\b\b\b\b\b\b\b\b\b\b\b\b\b\b\b\b\b\b\b\b\b\b\b\b\b\b\b\b\b\b\b\b\b\b\b\b\b\b\b\b\b\b\b\b\b\b\b\b\b\b\b\b\b\b\b\b\b\b\b\b\b\b\b\b\b\b\b\b\b\b\b\b\b\b\b\b\b\b\b\b\b\b\b\b\b\b\b\b\b\b\b\b\b\b\b\b\b\b\b\b\b\b\b\b\b\b\b\b\b\b\b\b\b\b\b\b\b\b\b\b\b\b\b\b\b\b\b\b\b\b\b\b\b\b\b\b\b\b\b\b\b\b\b\b\b\b\b\b\b\b\b\b\b\b\b\b\b\b\b\b\b\b\b\b\b\b\b\b\b\b\b\b\b\b\b\b\b\b\b\b\b\b\b\b\b\b\b\b\b\b\b\b\b\b\b\b\b\b\b\b\b\b\b\b\b\b\b\b\b\b\b\b\b\b\b\b\b\b\b\b\b\b\b\b\b\b\b\b\b\b\b\b\b\b\b\b\b\b\b\b\b\b\b\b\b\b\b\b\b\b\b\b\b\b\b\b\b\b\b\b\b\b\b\b\b\b\b\b\b\b\b\b\b\b\b\b\b\b\b\b\b\b\b\b\b\b\b\b\b\b\b\b\b\b\b\b\b\b\b\b\b\b\b\b\b\b\b\b\b\b\b\b\b\b\b\b\b\b\b\b\b\b\b\b\b\b\b\b\b\b\b\b\b\b\b\b\b\b\b\b\b\b\b\b\b\b\b\b\b\b\b\b\b\b\b\b\b\b\b\b\b\b\b\b\b\b\b\b\b\b\b\b\b\b\b\b\b\b\b\b\b\b\b\b\b\b\b\b\b\b\b\b\b\b\b\b\b\b\b\b\b\b\b\b\b\b\b\b\b\b\b\b\b\b\b\b\b\b\b\b\b\b\b\b\b\b\b\b\b\b\b\b\b\b\b\b\b\b\b\b\b\b\b\b\b\b\b\b\b\b\b\b\b\b\b\b\b\b\b\b\b\b\b\b\b\b\b\b\b\b\b\b\b\b\b\b\b\b\b\b\b\b\b\b\b\b\b\b\b\b\b\b\b\b\b\b\b\b\b\b\b\b\b\b\b\b\b\b\b\b\b\b\b\b\b\b\b\b\b\b\b\b\b\b\b\b\b\b\b\b\b\b\b\b\b\b\b\b\b\b\b\b\b\b\b\b\b\b\b\b\b\b\b\b\b\b\b\b\b\b\b\b\b\b\b\b\b\b\b\b\b\b\b\b\b\b\b\b\b\b\b\b\b\b\b\b\b\b\b\b\b\b\b\b\b\b\b\b\b\b\b\b\b\b\b\b\b\b\b\b\b\b\b\b\b\b\b\b\b\b\b\b\b\b\b\b\b\b\b\b\b\b\b\b\b\b\b\b\b\b\b\b\b\b\b\b\b\b\b\b\b\b\b\b\b\b\b\b\b\b\b\b\b\b\b\b\b\b\b\b\b\b\b\b\b\b\b\b\b\b\b\b\b\b\b\b\b\b\b\b\b\b\b\b\b\b\b\b\b\b\b\b\b\b\b\b\b\b\b\b\b\b\b\b\b\b\b\b\b\b\b\b\b\b\b\b\b\b\b\b\b\b\b\b\b\b\b\b\b\b\b\b\b\b\b\b\b\b\b\b\b\b\b\b\b\b\b\b\b\b\b\b\b\b\b\b\b\b\b\b\b\b\b\b\b\b\b\b\b\b\b\b\b\b\b\b\b\b\b\b\b\b\b\b\b\b\b\b\b\b\b\b\b\b\b\b\b\b\b\b\b\b\b\b\b\b\b\b\b\b\b\b\b\b\b\b\b\b\b\b\b\b\b\b\b\b\b\b\b\b\b\b\b\b\b\b\b\b\b\b\b\b\b\b\b\b\b\b\b\b\b\b\b\b\b\b\b\b\b\b\b\b\b\b\b\b\b\b\b\b\b\b\b\b\b\b\b\b\b\b\b\b\b\b\b\b\b\b\b\b\b\b\b\b\b\b\b\b\b\b\b\b\b\b\b\b\b\b\b\b\b\b\b\b\b\b\b\b\b\b\b\b\b\b\b\b\b\b\b\b\b\b\b\b\b\b\b\b\b\b\b\b\b\b\b\b\b\b\b\b\b\b\b\b\b\b\b\b\b\b\b\b\b\b\b\b\b\b\b\b\b\b\b\b\b\b\b\b\b\b\b\b\b\b\b\b\b\b\b\b\b\b\b\b\b\b\b\b\b\b\b\b\b\b\b\b\b\b\b\b\b\b\b\b\b\b\b\b\b\b\b\b\b\b\b\b\b\b\b\b\b\b\b\b\b\b\b\b\b\b\b\b\b\b\b\b\b\b\b\b\b\b\b\b\b\b\b\b\b\b\b\b\b\b\b\b\b\b\b\b\b\b\b\b\b\b\b\b\b\b\b\b\b\b\b\b\b\b\b\b\b\b\b\b\b\b\b\b\b\b\b\b\b\b\b\b\b\b\b\b\b\b\b\b\b\b\b\b\b\b\b\b\b\b\b\b\b\b\b\b\b\b\b\b\b\b\b\b\b\b\b\b\b\b\b\b\b\b\b\b\b\b\b\b\b\b\b\b\b\b\b\b\b\b\b\b\b\b\b\b\b\b\b\b\b\b\b\b\b\b\b\b\b\b\b\b\b\b\b\b\b\b\b\b\b\b\b\b\b\b\b\b\b\b\b\b\b\b\b\b\b\b\b\b\b\b\b\b\b\b\b\b\b\b\b\b\b\b\b\b\b\b\b\b\b\b\b\b\b\b\b\b\b\b\b\b\b\b\b\b\b\b\b\b\b\b\b\b\b\b\b\b\b\b\b\b\b\b\b\b\b\b\b\b\b\b\b\b\b\b\b\b\b\b\b\b\b\b\b\b\b\b\b\b\b\b\b\b\b\b\b\b\b\b\b\b\b\b\b\b\b\b\b\b\b\b\b\b\b\b\b\b\b\b\b\b\b\b\b\b\b\b\b\b\b\b\b\b\b\b\b\b\b\b\b\b\b\b\b\b\b\b\b\b\b\b\b\b\b\b\b\b\b\b\b\b\b\b\b\b\b\b\b\b\b\b\b\b\b\b\b\b\b\b\b\b\b\b\b\b\b\b\b\b\b\b\b\b\b\b\b\b\b\b\b\b\b\b\b\b\b\b\b\b\b\b\b\b\b\b\b\b\b\b\b\b\b\b\b\b\b\b\b\b\b\b\b\b\b\b\b\b\b\b\b\b\b\b\b\b\b\b\b\b\b\b\b\b\b\b\b\b\b\b\b\b\b\b\b\b\b\b\b\b\b\b\b\b\b\b\b\b\b\b\b\b\b\b\b\b\b\b\b\b\b\b\b\b\b\b\b\b\b\b\b\b\b\b\b\b\b\b\b\b\b\b\b\b\b\b\b\b\b\b\b\b\b\b\b\b\b\b\b\b\b\b\b\b\b\b\b\b\b\b\b\b\b\b\b\b\b\b\b\b\b\b\b\b\b\b\b\b\b\b\b\b\b\b\b\b\b\b\b\b\b\b\b\b\b\b\b\b\b\b\b\b\b\b\b\b\b\b\b\b\b\b\b\b\b\b\b\b\b\b\b\b\b\b\b\b\b\b\b\b\b\b\b\b\b\b\b\b\b\b\b\b\b\b\b\b\b\b\b\b\b\b\b\b\b\b\b\b\b\b\b\b\b\b\b\b\b\b\b\b\b\b\b\b\b\b\b\b\b\b\b\b\b\b\b\b\b\b\b\b\b\b\b\b\b\b\b\b\b\b\b\b\b\b\b\b\b\b\b\b\b\b\b\b\b\b\b\b\b\b\b\b\b\b\b\b\b\b\b\b\b\n"
     ]
    },
    {
     "data": {
      "text/plain": [
       "<keras.callbacks.History at 0x7f02d5541e48>"
      ]
     },
     "execution_count": 67,
     "metadata": {},
     "output_type": "execute_result"
    }
   ],
   "source": [
    "batch_size = 128\n",
    "# To train the model:\n",
    "model.fit_generator(train_gen,\n",
    "                    steps_per_epoch = num_train_images // batch_size,\n",
    "                    epochs = 1,\n",
    "                    validation_data = val_gen,\n",
    "                    validation_steps = num_val_images // batch_size,\n",
    "                     workers = 8,\n",
    "                   verbose =1)"
   ]
  },
  {
   "cell_type": "code",
   "execution_count": 68,
   "metadata": {
    "collapsed": false
   },
   "outputs": [],
   "source": [
    "model.save('model0.h5')"
   ]
  },
  {
   "cell_type": "code",
   "execution_count": 69,
   "metadata": {
    "_cell_guid": "d2822e2c-6b4e-4b8b-b346-86e4b5feeb42",
    "_uuid": "3303ec963fa2aeef322fd9d864b296ba1bbb04b1",
    "collapsed": true
   },
   "outputs": [],
   "source": [
    "# To evaluate on the validation set:\n",
    "y = model.evaluate_generator(val_gen, steps=num_val_images // batch_size, workers=8)"
   ]
  },
  {
   "cell_type": "code",
   "execution_count": 74,
   "metadata": {
    "collapsed": false
   },
   "outputs": [
    {
     "data": {
      "text/plain": [
       "[2.6540143224928112, 0.171875]"
      ]
     },
     "execution_count": 74,
     "metadata": {},
     "output_type": "execute_result"
    }
   ],
   "source": [
    "y"
   ]
  },
  {
   "cell_type": "code",
   "execution_count": null,
   "metadata": {
    "collapsed": true
   },
   "outputs": [],
   "source": [
    "num_val_images, batch_size"
   ]
  },
  {
   "cell_type": "code",
   "execution_count": 70,
   "metadata": {
    "collapsed": true
   },
   "outputs": [],
   "source": [
    "y_pred = model.predict_generator(val_gen, steps=num_val_images//batch_size)"
   ]
  },
  {
   "cell_type": "code",
   "execution_count": 71,
   "metadata": {
    "collapsed": true
   },
   "outputs": [],
   "source": [
    "np.set_printoptions(threshold=np.nan)"
   ]
  },
  {
   "cell_type": "code",
   "execution_count": 72,
   "metadata": {
    "collapsed": false
   },
   "outputs": [
    {
     "data": {
      "text/plain": [
       "array([ 0.23855443,  0.24192107,  0.13803399,  0.13593166,  0.28812724,\n",
       "        0.14914721,  0.26099813,  0.1979484 ,  0.15999374,  0.11100385,\n",
       "        0.1637235 ,  0.19755256,  0.1414104 ,  0.14052543,  0.66644758,\n",
       "        0.1323518 ,  0.16411701,  0.24406151,  0.15728939,  0.17902146,\n",
       "        0.13678104,  0.14374608,  0.18738264,  0.21362114,  0.19181491,\n",
       "        0.15717094,  0.22280394,  0.36431792,  0.16146813,  0.17998023,\n",
       "        0.1472941 ,  0.20943645,  0.20050897,  0.16161475,  0.13033432,\n",
       "        0.13958763,  0.17249781,  0.15854551,  0.13531646,  0.19837923,\n",
       "        0.18247768,  0.17135723,  0.14548761,  0.16335718,  0.21822375,\n",
       "        0.21479625,  0.17033802,  0.23472936,  0.15042706,  0.1532466 ,\n",
       "        0.10673691,  0.20086288,  0.32589892,  0.16277982,  0.15466623,\n",
       "        0.15687121,  0.11111456,  0.20581318,  0.19073071,  0.13103238,\n",
       "        0.09973056,  0.13828105,  0.17123345,  0.12552984,  0.16849111,\n",
       "        0.15619847,  0.11852587,  0.17338334,  0.1396348 ,  0.15695657,\n",
       "        0.15563703,  0.30275765,  0.16334623,  0.17254683,  0.14776024,\n",
       "        0.18826269,  0.11911362,  0.18850885,  0.15170173,  0.24031506,\n",
       "        0.19320445,  0.19730727,  0.16814934,  0.15178467,  0.10617159,\n",
       "        0.19156872,  0.13772388,  0.21597044,  0.15715642,  0.14246266,\n",
       "        0.18554367,  0.36804605,  0.20971666,  0.12847432,  0.10381636,\n",
       "        0.1839194 ,  0.20803785,  0.24404512,  0.14396046,  0.13062026,\n",
       "        0.18730322,  0.12614782,  0.13781659,  0.07128514,  0.0932274 ,\n",
       "        0.26611835,  0.1490663 ,  0.13759185,  0.14761011,  0.13101847,\n",
       "        0.1216149 ,  0.17431942,  0.27202091,  0.11682103,  0.13647212,\n",
       "        0.22477774,  0.20482668,  0.17624281,  0.21543139,  0.21033467,\n",
       "        0.22884709,  0.16590965,  0.17342493,  0.15999374,  0.1215763 ,\n",
       "        0.29412156,  0.13061646,  0.17965363,  0.12535504,  0.16778772,\n",
       "        0.23736723,  0.19294973,  0.51989889,  0.27471673,  0.14955564,\n",
       "        0.178096  ,  0.17034149,  0.18559626,  0.23014583,  0.13167791,\n",
       "        0.14225547,  0.14169492,  0.1490985 ,  0.15156096,  0.22940807,\n",
       "        0.15767692,  0.17689493,  0.15963979,  0.1676501 ,  0.19271897,\n",
       "        0.1536745 ,  0.18388931,  0.1411774 ,  0.24517307,  0.12970018,\n",
       "        0.20653474,  0.23424236,  0.14768091,  0.14221622,  0.21946158,\n",
       "        0.1447812 ,  0.14569899,  0.28187847,  0.14207798,  0.14200489,\n",
       "        0.19949982,  0.22035769,  0.17936769,  0.11696814,  0.15227675,\n",
       "        0.19080989,  0.19326311,  0.10270555,  0.14567919,  0.3825708 ,\n",
       "        0.22021848,  0.20082912,  0.24541096,  0.15436554,  0.10097554,\n",
       "        0.19988351,  0.13768879,  0.15272596,  0.23058605,  0.20891757,\n",
       "        0.10260647,  0.102231  ,  0.23609808,  0.24721867,  0.16871221,\n",
       "        0.19157557,  0.16068764,  0.17295194,  0.28209525,  0.17908388,\n",
       "        0.14169492,  0.16927868,  0.21604441,  0.15658648,  0.16107979,\n",
       "        0.23305495,  0.17351745,  0.16785443,  0.11441731,  0.23519447,\n",
       "        0.18045819,  0.14737251,  0.15359235,  0.12872136,  0.3024781 ,\n",
       "        0.17383316,  0.14931503,  0.21120921,  0.1588852 ,  0.1809745 ,\n",
       "        0.19994554,  0.1189558 ,  0.28603745,  0.1727493 ,  0.22021848,\n",
       "        0.11045625,  0.16476953,  0.12186774,  0.16865908,  0.16486637,\n",
       "        0.23989488,  0.20093453,  0.16783655,  0.20004277,  0.20017157,\n",
       "        0.16661543,  0.14238776,  0.58680403,  0.15593322,  0.17193665,\n",
       "        0.13600926,  0.15289718,  0.18989992,  0.14027384,  0.19993617,\n",
       "        0.15338658,  0.11795618,  0.14445527,  0.19839635,  0.21552441,\n",
       "        0.14155729,  0.16086875,  0.15106347,  0.13218708,  0.28294778,\n",
       "        0.1507519 ,  0.12040707,  0.14892949,  0.17721245,  0.23357692,\n",
       "        0.16275163,  0.13678946,  0.14134137,  0.22267939,  0.13827832,\n",
       "        0.19523686,  0.16650559,  0.13437834,  0.0964274 ,  0.21232906,\n",
       "        0.18097676,  0.16231294,  0.16354908,  0.14123486,  0.16428843,\n",
       "        0.13946928,  0.14777657,  0.12678616,  0.16731256,  0.14600858,\n",
       "        0.17114478,  0.24939531,  0.20882699,  0.13099396,  0.12215813,\n",
       "        0.17182088,  0.14634034,  0.31885701,  0.22335012,  0.13997193,\n",
       "        0.15106347,  0.22695428,  0.20988931,  0.25046405,  0.14729154,\n",
       "        0.19409871,  0.25710633,  0.14601265,  0.1082505 ,  0.13929534,\n",
       "        0.09898376,  0.203199  ,  0.14849836,  0.26984566,  0.20101663,\n",
       "        0.16632712,  0.08984943,  0.14728275,  0.15401484,  0.14014603,\n",
       "        0.13739774,  0.23577307,  0.36984906,  0.14175262,  0.1739364 ,\n",
       "        0.17107342,  0.1324043 ,  0.16422908,  0.15401129,  0.16852888,\n",
       "        0.20437284,  0.14691475,  0.25067252,  0.15012264,  0.1293952 ,\n",
       "        0.14705826,  0.20780067,  0.13723612,  0.15721938,  0.0276886 ,\n",
       "        0.36281264,  0.21027356,  0.23945083,  0.20898043,  0.15444218,\n",
       "        0.16154087,  0.15440521,  0.17310305,  0.14282985,  0.1518537 ,\n",
       "        0.1393404 ,  0.14973564,  0.17123036,  0.19431607,  0.11113097,\n",
       "        0.12367769,  0.11820703,  0.15686888,  0.1495102 ,  0.15485819,\n",
       "        0.1585709 ,  0.14281751,  0.21999134,  0.12565081,  0.14586923,\n",
       "        0.1215763 ,  0.20494418,  0.11674622,  0.13153054,  0.34238225,\n",
       "        0.12775271,  0.16012317,  0.11833541,  0.27598193,  0.26284543,\n",
       "        0.14014983,  0.26670283,  0.16107979,  0.15542486,  0.16611862,\n",
       "        0.23565306,  0.17818348,  0.17804871,  0.18660718,  0.21043727,\n",
       "        0.16865052,  0.15543273,  0.13772388,  0.2308457 ,  0.14106712,\n",
       "        0.11770535,  0.20020707,  0.58121163,  0.24403211,  0.12630388,\n",
       "        0.1292316 ,  0.03018397,  0.21620832,  0.08567479,  0.13589913,\n",
       "        0.13330448,  0.15597175,  0.17141737,  0.22280394,  0.13278875,\n",
       "        0.1269833 ,  0.14802992,  0.15106347,  0.13183834,  0.14895734,\n",
       "        0.14524111,  0.17255016,  0.12907475,  0.18904355,  0.12779638,\n",
       "        0.17526132,  0.14703916,  0.1030255 ,  0.17537957,  0.12852359,\n",
       "        0.20480044,  0.22127804,  0.27192542,  0.16823623,  0.17926702,\n",
       "        0.09515528,  0.20648809,  0.11270551,  0.16331671,  0.1376121 ,\n",
       "        0.10785081,  0.21552606,  0.14470769,  0.19376755,  0.19861139,\n",
       "        0.12582387,  0.14153968,  0.11354686,  0.11674622,  0.2421086 ,\n",
       "        0.1451702 ,  0.15884747,  0.16047508,  0.16967884,  0.25584784,\n",
       "        0.19145614,  0.12258653,  0.22203779,  0.12381352,  0.10206293,\n",
       "        0.22662859,  0.11104361,  0.26195869,  0.25099298,  0.14156786,\n",
       "        0.21915476,  0.11792334,  0.15988867,  0.1037854 ,  0.12392689,\n",
       "        0.3067424 ,  0.21552441,  0.13737869,  0.16179627,  0.14334854,\n",
       "        0.22619143,  0.1863353 ,  0.1497355 ,  0.19139327,  0.35560957,\n",
       "        0.16551724,  0.2328452 ,  0.2106481 ,  0.31346837,  0.17405787,\n",
       "        0.15679763,  0.23881282,  0.16369909,  0.12985575,  0.16975957,\n",
       "        0.15058327,  0.13625836,  0.16286907,  0.18492806,  0.18496943,\n",
       "        0.14007306,  0.1411019 ,  0.15216127,  0.14283057,  0.22778948,\n",
       "        0.12780732,  0.19955462,  0.18310171,  0.13845187,  0.41242555,\n",
       "        0.24097393,  0.18544306,  0.14847612,  0.13702205,  0.12556435,\n",
       "        0.14976563,  0.1617455 ,  0.17876245,  0.14280514,  0.14366345,\n",
       "        0.15807539,  0.29008973,  0.21720463,  0.13088544,  0.14588447,\n",
       "        0.12986599,  0.14180905,  0.2204065 ,  0.16022204,  0.1273724 ,\n",
       "        0.14680839,  0.14207798,  0.24894659,  0.11069715,  0.13736489,\n",
       "        0.19127204,  0.13583098,  0.12596066,  0.20495705,  0.16486491,\n",
       "        0.17937922,  0.13375814,  0.2122729 ,  0.17320074,  0.21105349,\n",
       "        0.14829476,  0.15807539,  0.18492806,  0.15030043,  0.18273099,\n",
       "        0.17753279,  0.10637705,  0.31275293,  0.10670098,  0.21442527,\n",
       "        0.16946143,  0.15818979,  0.13264869,  0.24964476,  0.16631353,\n",
       "        0.18922049,  0.16824177,  0.20259061,  0.19184062,  0.16213311,\n",
       "        0.1527025 ,  0.13780305,  0.14828071,  0.14531587,  0.22864196,\n",
       "        0.14107782,  0.20429294,  0.13375814,  0.16962621,  0.16743746,\n",
       "        0.14118405,  0.2822769 ,  0.34054238,  0.16258435,  0.15852386,\n",
       "        0.17286739,  0.15486413,  0.21409808,  0.14115369,  0.19107936,\n",
       "        0.14807136,  0.24289303,  0.19274525,  0.16680153,  0.0968614 ,\n",
       "        0.16258106,  0.15753646,  0.19112048,  0.17460661,  0.18400173,\n",
       "        0.15612344,  0.2375599 ,  0.23807377,  0.19431475,  0.13846518,\n",
       "        0.11942397,  0.10859401,  0.27007997,  0.22241333,  0.20563136,\n",
       "        0.15249468,  0.17881598,  0.15889108,  0.10831081,  0.18353897,\n",
       "        0.15440521,  0.12640196,  0.14431638,  0.14737304,  0.16380958,\n",
       "        0.17147128,  0.13604541,  0.17183551,  0.26857099,  0.19023308,\n",
       "        0.14506851,  0.18624772,  0.15384638,  0.2064995 ,  0.26974976,\n",
       "        0.25871462,  0.18010207,  0.18232207,  0.21452661,  0.12576364,\n",
       "        0.15118419,  0.15734911,  0.12886423,  0.13599777,  0.15531856,\n",
       "        0.14281751,  0.1696512 ,  0.15711807,  0.11383432,  0.19679299,\n",
       "        0.30326587,  0.23915158,  0.1714315 ,  0.14611004,  0.14942105,\n",
       "        0.17507663,  0.22895092,  0.13855456,  0.22724551,  0.13999684,\n",
       "        0.14995831,  0.16887209,  0.14517616,  0.18693849,  0.18729742,\n",
       "        0.30084357,  0.25972456,  0.20943645,  0.19655049,  0.13928205,\n",
       "        0.22678502,  0.21956865,  0.1185689 ,  0.11524484,  0.1457527 ,\n",
       "        0.18893014,  0.11122879,  0.19586527,  0.29810452,  0.13081488,\n",
       "        0.18520831,  0.14376938,  0.11618865,  0.11441731,  0.22133301,\n",
       "        0.16332804,  0.17102814,  0.16422908,  0.19324745,  0.23305495,\n",
       "        0.28118253,  0.15960003,  0.11778857,  0.19942825,  0.14518161,\n",
       "        0.14222386,  0.27356648,  0.23201677,  0.15067956,  0.18492806,\n",
       "        0.16701065,  0.170757  ,  0.10967606,  0.1498137 ,  0.1576381 ,\n",
       "        0.22692649,  0.16848373,  0.1501933 ,  0.18130313,  0.143501  ,\n",
       "        0.16107979,  0.16558076,  0.16865052,  0.14690031,  0.142009  ,\n",
       "        0.13899016,  0.16134728,  0.23368752,  0.1536704 ,  0.15429235,\n",
       "        0.11161819,  0.16213311,  0.20743085,  0.17519996,  0.15491407,\n",
       "        0.15387891,  0.17351745,  0.12596907,  0.13396619,  0.51720786,\n",
       "        0.14545023,  0.18843535,  0.16312048,  0.13883269,  0.14058161,\n",
       "        0.13735172,  0.1865392 ,  0.18492806,  0.29869112,  0.14026587,\n",
       "        0.16700843,  0.35335371,  0.14153114,  0.38148549,  0.19318281,\n",
       "        0.15990581,  0.24206157,  0.21093836,  0.16286907,  0.21684794,\n",
       "        0.17953427,  0.1501838 ,  0.27471673,  0.17196955,  0.21367724,\n",
       "        0.21022537,  0.24405299,  0.29642582,  0.17025784,  0.1180021 ,\n",
       "        0.19123758,  0.14550775,  0.15761995,  0.16093761,  0.12977093,\n",
       "        0.13119105,  0.19720788,  0.13081448,  0.1912405 ,  0.14865039,\n",
       "        0.13025044,  0.19465794,  0.25097215,  0.19080397,  0.09386595,\n",
       "        0.19225913,  0.11661523,  0.14445548,  0.16448025,  0.16895743,\n",
       "        0.16453512,  0.12646119,  0.43189773,  0.13501991,  0.22197154,\n",
       "        0.07734095,  0.12973638,  0.16113804,  0.23268436,  0.16708651,\n",
       "        0.15414691,  0.13912976,  0.223354  ,  0.13827866,  0.12744467,\n",
       "        0.17624788,  0.20254835,  0.14725292,  0.11350559,  0.21582566,\n",
       "        0.09173542,  0.15721938,  0.19160731,  0.1507466 ,  0.26459014,\n",
       "        0.16514513,  0.21897551,  0.11110202,  0.13739026,  0.17434737,\n",
       "        0.33621547,  0.33573541,  0.21349671,  0.18829447,  0.20292521,\n",
       "        0.11441731,  0.42560399,  0.15721938,  0.19806443,  0.13498731,\n",
       "        0.1659773 ,  0.21730442,  0.24734235,  0.187475  ,  0.34175742,\n",
       "        0.13384016,  0.17376781,  0.27471673,  0.1519182 ,  0.161474  ,\n",
       "        0.18257816,  0.25346825,  0.2239186 ,  0.16895594,  0.21262243,\n",
       "        0.2004122 ,  0.1057503 ,  0.16230009,  0.15320802,  0.21946158,\n",
       "        0.1520021 ,  0.14716835,  0.13909683,  0.20846419,  0.22694881,\n",
       "        0.13787971,  0.14837645,  0.16106093,  0.20086974,  0.10770119,\n",
       "        0.18417336,  0.17244323,  0.73218286,  0.14677097,  0.15265374,\n",
       "        0.13092239,  0.28490412,  0.1536704 ,  0.12576693,  0.13162141,\n",
       "        0.15688808,  0.18790172,  0.11987472,  0.15244985,  0.22122008,\n",
       "        0.19705513,  0.13375814,  0.18945126,  0.21123129,  0.11253849,\n",
       "        0.11844003,  0.17522654,  0.24025919,  0.15427311,  0.08252764,\n",
       "        0.12014783,  0.20389903,  0.28232023,  0.17734747,  0.12592967,\n",
       "        0.16258277,  0.16017316,  0.17929484,  0.14741576,  0.10287216,\n",
       "        0.16924842,  0.02038225,  0.1707568 ,  0.1443311 ,  0.1945488 ,\n",
       "        0.22133301,  0.28065169,  0.17855851,  0.10398284,  0.20049182,\n",
       "        0.19883929,  0.24441063,  0.17631187,  0.12600166,  0.28635144,\n",
       "        0.22255082,  0.1170781 ,  0.17005157,  0.11914615,  0.24256584,\n",
       "        0.18487313,  0.17902146,  0.13440987,  0.13726701,  0.16436151,\n",
       "        0.15036272,  0.15083803,  0.19537197,  0.18657534,  0.11934368,\n",
       "        0.15578656,  0.14156611,  0.16766167,  0.17447008,  0.20262925,\n",
       "        0.15339281,  0.13638707,  0.1779194 ,  0.16088367,  0.11841334,\n",
       "        0.13553348,  0.14145878,  0.15909277,  0.15226334,  0.18689212,\n",
       "        0.12183083,  0.13062611,  0.15622734,  0.15020265,  0.21822375,\n",
       "        0.28864989,  0.18486135,  0.19523171,  0.2493915 ,  0.17793538,\n",
       "        0.12326265,  0.19179174,  0.27471673,  0.11161663,  0.18117356,\n",
       "        0.14825283,  0.23983502,  0.17351745,  0.214789  ,  0.19202374,\n",
       "        0.27173105,  0.19696975,  0.15208131,  0.19391537,  0.31035578,\n",
       "        0.15653032,  0.11302974,  0.23385064,  0.08782172,  0.18173014,\n",
       "        0.22450721,  0.15479732,  0.19104527,  0.26461741,  0.2024826 ,\n",
       "        0.24496053,  0.16556787,  0.18673763,  0.14432518,  0.23356551,\n",
       "        0.14634025,  0.18482393,  0.14354503,  0.17387168,  0.17929842,\n",
       "        0.14715321,  0.15956759,  0.06860766,  0.04718995,  0.23085369,\n",
       "        0.15178968,  0.1243606 ,  0.19963488,  0.15724716,  0.1828931 ,\n",
       "        0.17479078,  0.13702439,  0.20997342,  0.1392296 ,  0.19309776,\n",
       "        0.15703711,  0.20102896,  0.22246546,  0.16541639,  0.14913544,\n",
       "        0.15635242,  0.38074845,  0.16056748,  0.14495665,  0.15051132,\n",
       "        0.15532202,  0.18130837,  0.09751674,  0.14298882,  0.12850605,\n",
       "        0.25872958,  0.15683925,  0.17653112,  0.16497777,  0.17215817,\n",
       "        0.20901647,  0.15954731,  0.11700744,  0.14895734,  0.12293198,\n",
       "        0.13756928,  0.22175217,  0.16665195,  0.15956116,  0.22887737,\n",
       "        0.18691476,  0.13881677,  0.35921198,  0.20540921,  0.16111282,\n",
       "        0.16286907,  0.15732738,  0.19347708,  0.13921385,  0.09555204,\n",
       "        0.13375814,  0.18516774,  0.23268436,  0.18805084,  0.15856399,\n",
       "        0.19280738,  0.21232906,  0.15823016,  0.1536704 ,  0.198945  ,\n",
       "        0.17805222,  0.15985213,  0.17965606,  0.11616506,  0.15183711,\n",
       "        0.14625566,  0.21246871,  0.20484188,  0.24133478,  0.12574297,\n",
       "        0.15834075,  0.13961536,  0.2237661 ,  0.13839863,  0.1802319 ,\n",
       "        0.17996752,  0.14954577,  0.22327137,  0.12716956,  0.25737318,\n",
       "        0.1450149 ,  0.48147908,  0.15119971,  0.22518   ,  0.26116934,\n",
       "        0.16327427,  0.23383489,  0.09145045,  0.20150831,  0.21886548,\n",
       "        0.12894212,  0.21657638,  0.17469074,  0.15734138,  0.14280514,\n",
       "        0.26509142,  0.15217166,  0.11138934,  0.14435266,  0.11086045,\n",
       "        0.24080649,  0.12322015,  0.21895684,  0.14325584,  0.18366291,\n",
       "        0.16634342,  0.23494853,  0.26193643,  0.21054851,  0.17156214,\n",
       "        0.1423007 ,  0.09831049,  0.12847929,  0.13405375,  0.23361021,\n",
       "        0.16339077,  0.17685296,  0.14877845,  0.14208324,  0.15148912,\n",
       "        0.15057269,  0.17717876,  0.16272634,  0.15699652,  0.27651623,\n",
       "        0.14883859,  0.15731217,  0.17028345,  0.27745011,  0.17203741,\n",
       "        0.11795701,  0.14760402,  0.15685229,  0.14281969,  0.14866319,\n",
       "        0.18427595,  0.19361444,  0.17072396,  0.15518837,  0.16364077,\n",
       "        0.2725296 ,  0.13886963,  0.21233739,  0.17540449,  0.14607632,\n",
       "        0.25141925,  0.19838616,  0.2141161 ,  0.09595365,  0.37321463,\n",
       "        0.16551419,  0.18826269,  0.12629816,  0.15909036,  0.1896963 ,\n",
       "        0.14337106,  0.12786262,  0.11396606,  0.24759009,  0.23894037,\n",
       "        0.14271916,  0.14457071,  0.13418896,  0.13957527,  0.13377671,\n",
       "        0.15198936,  0.149764  ,  0.17734081,  0.08118244,  0.17491207,\n",
       "        0.29550681,  0.15783103,  0.15474975,  0.23925136,  0.11324321,\n",
       "        0.1540478 ,  0.14461742,  0.1466402 ,  0.13772388,  0.13823737,\n",
       "        0.17588602,  0.1845452 ,  0.18685484,  0.18719774,  0.25172701,\n",
       "        0.16149299,  0.15450624,  0.15762345,  0.20818025,  0.15370336,\n",
       "        0.15796228,  0.26329833,  0.07428635,  0.15485595,  0.16155878,\n",
       "        0.14224552,  0.22280394,  0.2137821 ,  0.24342015,  0.14903365,\n",
       "        0.25148579,  0.1506988 ,  0.23305495,  0.23012713,  0.25742701,\n",
       "        0.17775904,  0.17443007,  0.14005937,  0.14837645,  0.1339405 ,\n",
       "        0.18529972,  0.17444909,  0.14882945,  0.14563757,  0.15311556,\n",
       "        0.16628796,  0.19186686,  0.11873802,  0.29978466,  0.23387626,\n",
       "        0.14340833,  0.14575982,  0.1615181 ,  0.25496328,  0.18822834,\n",
       "        0.31833637,  0.18171716,  0.14486812,  0.17297494,  0.21054849,\n",
       "        0.23419759,  0.26995426,  0.14056537,  0.18635367,  0.15491909,\n",
       "        0.19523686,  0.19136739,  0.16724671,  0.13164586,  0.15277335,\n",
       "        0.14401035,  0.1606593 ,  0.1677821 ,  0.16994438,  0.14270608,\n",
       "        0.09617728,  0.11183328,  0.1033649 ,  0.12536241,  0.17729065,\n",
       "        0.11892115,  0.37936482,  0.15600389,  0.1131066 ,  0.26960778,\n",
       "        0.22365077,  0.18955001,  0.15602794,  0.14086838,  0.47312453,\n",
       "        0.14225955,  0.14071456,  0.6320442 ,  0.16840081,  0.1503493 ,\n",
       "        0.10830091,  0.19542977,  0.20467086,  0.15389214,  0.17215817,\n",
       "        0.14634025,  0.12054943,  0.29738954,  0.16944017,  0.15585138,\n",
       "        0.1246215 ,  0.21978514,  0.45196399,  0.22068669,  0.2639896 ,\n",
       "        0.17435221,  0.14496937,  0.14778344,  0.29613733,  0.1992006 ,\n",
       "        0.15143575,  0.17686059,  0.24030651,  0.15958019,  0.18961981,\n",
       "        0.63359302,  0.1989971 ,  0.21006976,  0.16199462,  0.30817887,\n",
       "        0.13761903,  0.10554621,  0.2119323 ,  0.11991981,  0.22197154,\n",
       "        0.21673512,  0.14307873,  0.13242091,  0.18764985,  0.19563572,\n",
       "        0.16225341,  0.09555204,  0.16071036,  0.10695801,  0.22154443,\n",
       "        0.13955778,  0.15668973,  0.15107302,  0.13723396,  0.16596322,\n",
       "        0.20415719,  0.14467527,  0.15594323,  0.14702292,  0.21136278,\n",
       "        0.10511004,  0.15106347,  0.11807403,  0.14555439,  0.17245819,\n",
       "        0.12729436,  0.15433945,  0.19638494,  0.15847947,  0.16333109,\n",
       "        0.44084966,  0.17973149,  0.16226779,  0.1409622 ,  0.1608579 ,\n",
       "        0.16200142,  0.13049279,  0.09555873,  0.19661975,  0.12265027], dtype=float32)"
      ]
     },
     "execution_count": 72,
     "metadata": {},
     "output_type": "execute_result"
    }
   ],
   "source": [
    "np.max(y_pred, axis=1)"
   ]
  },
  {
   "cell_type": "code",
   "execution_count": null,
   "metadata": {
    "collapsed": true
   },
   "outputs": [],
   "source": [
    "np.max(y_pred)"
   ]
  },
  {
   "cell_type": "code",
   "execution_count": null,
   "metadata": {
    "collapsed": true
   },
   "outputs": [],
   "source": [
    "y_pred[300][5236], np.argmax(y_pred[300])"
   ]
  },
  {
   "cell_type": "code",
   "execution_count": 73,
   "metadata": {
    "collapsed": false
   },
   "outputs": [
    {
     "data": {
      "text/plain": [
       "array([45, 45,  6, 27, 45, 45, 45, 45, 45, 14,  6, 27,  6,  6, 27, 45, 27,\n",
       "       45,  6, 45, 14, 14, 45,  6,  6, 45, 45, 45, 45,  6, 45, 45,  6, 14,\n",
       "       14, 45, 35,  6,  6, 45,  6,  6, 45, 45, 45,  6,  6, 45,  6, 45,  6,\n",
       "       45, 45, 45,  6,  6,  6, 45,  6, 45, 45, 45, 45, 45,  6,  6, 45, 45,\n",
       "        6, 27, 45, 45,  6, 45, 45,  6, 45, 45, 35,  6, 45,  6,  6, 45, 45,\n",
       "       45, 45,  6, 45,  6, 35,  6,  6, 14,  6,  6,  6,  6,  6, 45,  6,  6,\n",
       "       45, 45, 45, 45, 45,  6,  6,  6, 45,  6, 45, 14, 45,  6,  6, 45, 45,\n",
       "        6,  6, 45, 45, 45, 45,  6, 45,  6,  6, 45, 45, 45, 45, 45,  6, 45,\n",
       "        6, 45, 45, 14,  6,  6, 45, 45,  6,  6,  6,  6, 45, 45, 45, 45,  6,\n",
       "       45, 45, 45, 45,  6, 45, 45, 45, 27,  6,  6, 45, 45,  6,  6, 45, 45,\n",
       "       45, 45, 14, 45, 45,  6, 27,  6,  6, 45,  6,  6, 45, 27, 45, 14, 14,\n",
       "       45, 45, 14, 45,  6,  6, 27,  6,  6, 45, 45,  6,  6,  6, 45, 45, 45,\n",
       "       45, 45,  6,  6, 45, 27,  6, 45,  6, 45, 45, 45, 45, 45, 45,  6, 45,\n",
       "        6, 45, 45,  6,  6,  6, 45, 27, 45,  6, 14, 45, 45, 45,  6, 45, 45,\n",
       "        6,  6,  6, 45,  6, 45,  6, 45, 45, 45, 45, 35, 45,  6,  6, 45,  6,\n",
       "       27, 45, 45, 45, 45, 45, 45,  6, 27, 45,  6,  6,  6,  6, 45, 27,  6,\n",
       "        6,  6, 45, 14, 27, 45, 45, 45, 45,  6, 45,  6, 45, 45, 27, 45,  6,\n",
       "        6, 45, 45, 27, 45, 45, 14,  6, 45, 45,  6,  6, 27,  6,  6,  6,  6,\n",
       "       45, 27,  6,  6, 45, 45, 45,  6, 27, 45, 45,  6,  6, 27,  6, 45, 45,\n",
       "       45,  6, 45, 45, 45,  6,  6, 45,  6, 45, 45, 45,  6,  6, 45,  6, 14,\n",
       "       45, 45,  6, 45, 45, 45,  6,  6, 45,  6, 45, 45, 45, 14, 45, 45,  6,\n",
       "        6, 35, 27,  6, 45,  6,  6, 14, 45, 45, 45,  6, 45, 45,  6, 45,  6,\n",
       "       45, 45,  6, 45, 45, 45, 45, 45, 45, 14,  6, 45, 45, 45, 45, 45, 14,\n",
       "       45, 45, 45, 45,  6,  6, 45,  6, 45, 45, 45, 14,  6, 27, 45, 45,  6,\n",
       "        6, 45, 45, 45, 45, 45, 45, 45, 45,  6, 45,  6, 27, 45, 45, 45,  6,\n",
       "       45, 45,  6, 27, 45,  6, 45, 27, 45, 45, 45, 45,  6, 45, 45,  6, 45,\n",
       "        6, 45, 45, 45,  6, 45,  6, 45,  6,  6,  6,  6, 45, 45, 45, 45, 45,\n",
       "       45, 45, 45,  6,  6, 45, 45, 45,  6,  6,  6,  6, 45,  6,  6,  6, 45,\n",
       "        6,  6, 27, 45, 45,  6, 45,  6, 45, 45,  6, 45, 45, 45, 45, 27, 35,\n",
       "       14,  6, 14,  6, 35, 27,  6, 27,  6, 27, 14, 45,  6,  6, 45, 45,  6,\n",
       "       45, 45,  6, 35, 45,  6, 45,  6,  6,  6, 45, 45, 35, 45, 45, 45, 45,\n",
       "       27,  6, 27,  6, 45, 45, 45, 45,  6, 45, 45,  6,  6, 45, 45, 45,  6,\n",
       "       45,  6,  6, 35, 45, 45, 45,  6, 45, 45, 45,  6, 45, 45,  6, 14,  6,\n",
       "        6,  6, 45,  6,  6, 35,  6, 45,  6,  6, 14, 45, 45, 45, 14,  6, 45,\n",
       "        6,  6,  6, 45, 45, 45, 45,  6,  6, 35,  6,  6,  6,  6, 45,  6,  6,\n",
       "        6,  6,  6, 45, 45,  6, 45, 45, 27, 45,  6,  6,  6, 27, 45, 27,  6,\n",
       "        6,  6,  6,  6,  6, 45,  6, 45, 45, 45, 45,  6,  6, 27, 35, 45, 45,\n",
       "       45,  6, 27, 27, 14,  6, 45, 45, 45,  6, 45, 27,  6, 45, 45,  6, 45,\n",
       "        6, 45, 45,  6, 27, 27,  6,  6,  6, 14,  6,  6, 45,  6, 45, 45, 45,\n",
       "        6, 45, 14,  6,  6, 27, 45,  6,  6, 45,  6,  6,  6,  6, 45,  6, 45,\n",
       "       27, 45,  6, 45,  6,  6, 45, 14,  6, 45, 45,  6, 45,  6, 45, 45,  6,\n",
       "        6, 35, 45, 45, 35, 14, 35, 45,  6, 45,  6,  6,  6, 45, 45, 45,  6,\n",
       "       45, 45,  6, 45, 45, 45,  6, 45,  6, 45,  6,  6, 14, 45,  6, 45, 27,\n",
       "       45,  6,  6, 27, 45, 14,  6, 14,  6, 45, 45, 35, 45, 45, 14, 27, 27,\n",
       "        6, 45,  6, 45, 45, 45, 45,  6,  6,  6, 27,  6, 45, 45, 45, 45, 45,\n",
       "        6,  6, 45, 45,  6, 45, 45,  6, 45, 45, 45, 35, 45, 45, 45, 45,  6,\n",
       "       27, 45, 45,  6,  6, 45,  6, 45, 45, 27,  6, 45, 27,  6, 45, 45, 45,\n",
       "       45,  6, 45, 45, 45, 45,  6, 45,  6,  6, 45, 45, 45, 45, 45, 27, 45,\n",
       "       45,  6, 45,  6,  6,  6, 45, 45,  6,  6, 45, 45,  6, 45, 45, 45,  6,\n",
       "       45, 45, 45, 45, 45, 45, 14,  6, 45,  6, 45,  6, 27,  6, 35, 45,  6,\n",
       "        6, 27, 45, 14, 45,  6, 45, 45, 27, 45,  6, 14,  6,  6, 35,  6, 45,\n",
       "       45, 45, 45,  6, 45, 45,  6, 45, 45,  6,  6, 14, 27,  6, 45, 45,  6,\n",
       "       45,  6, 45,  6,  6, 45, 45,  6,  6,  6, 45,  6,  6, 45, 45, 45,  6,\n",
       "       45, 45, 14,  6, 45,  6, 45, 45, 45, 45, 45,  6, 35, 27, 45, 45,  6,\n",
       "       45,  6,  6, 45,  6, 27, 45, 45,  6, 35,  6, 45,  6,  6, 45,  6,  6,\n",
       "        6, 45,  6, 14, 27,  6, 14, 45, 27,  6, 14, 27,  6,  6, 45,  6,  6,\n",
       "        6,  6, 45,  6, 27,  6, 45, 45, 45,  6, 45, 45, 27,  6,  6, 45,  6,\n",
       "       45,  6, 45, 45, 45, 45, 45,  6, 45,  6, 27,  6, 45, 27, 45,  6,  6,\n",
       "        6,  6,  6, 45, 45, 45,  6,  6, 45,  6, 45, 45,  6, 45, 45, 45, 45,\n",
       "       27, 45, 45,  6, 45,  6, 45, 45, 45, 45, 27, 45, 45, 45,  6, 45, 45,\n",
       "       45, 45,  6,  6,  6, 45, 45, 45, 45,  6, 45,  6, 45,  6, 45,  6,  6,\n",
       "       45,  6, 27,  6, 27, 27,  6, 45,  6, 45, 45, 45, 27,  6, 27, 27,  6,\n",
       "       45, 45, 45, 45,  6, 45,  6,  6,  6, 45, 45, 45, 45,  6,  6, 45, 27,\n",
       "        6,  6,  6, 14,  6, 45, 45, 45,  6, 27, 45,  6, 45, 45,  6,  6, 35,\n",
       "       14, 45, 45,  6, 45, 45, 45, 45, 45,  6, 45,  6,  6, 27, 45,  6, 45,\n",
       "       45, 14, 45, 27,  6,  6, 45,  6,  6, 45, 45, 45, 27, 45, 45,  6, 45,\n",
       "       45, 45, 45,  6, 27, 45, 45, 45, 35,  6, 14, 45, 14,  6, 45,  6,  6,\n",
       "       27, 45, 27,  6,  6, 45, 14,  6, 45, 45, 45, 45, 45, 45, 45, 45, 45,\n",
       "        6, 45, 45, 45, 45, 45, 45,  6,  6, 27, 45, 35, 45,  6, 45,  6,  6,\n",
       "        6,  6, 45, 45, 45, 45,  6,  6, 45,  6,  6,  6, 45, 14, 45, 14,  6,\n",
       "       45, 45, 45, 45,  6, 45, 27,  6, 45, 45, 27, 45, 45, 45, 45, 14,  6,\n",
       "        6, 45, 45,  6, 45, 45,  6, 45, 27, 45, 45, 45, 45, 45,  6, 45, 45,\n",
       "       45,  6, 45, 45, 27,  6, 45,  6, 45, 27, 45, 45, 45, 45, 45, 45, 45,\n",
       "        6, 14,  6,  6, 45, 45,  6, 14, 45,  6,  6, 45, 45, 45,  6, 45,  6,\n",
       "        6, 45, 45, 45, 45, 45,  6, 14,  6,  6, 45,  6, 27, 45, 45,  6,  6,\n",
       "       27,  6, 45, 45, 27])"
      ]
     },
     "execution_count": 73,
     "metadata": {},
     "output_type": "execute_result"
    }
   ],
   "source": [
    "np.argmax(y_pred, axis=1)"
   ]
  },
  {
   "cell_type": "code",
   "execution_count": 75,
   "metadata": {
    "collapsed": false
   },
   "outputs": [
    {
     "data": {
      "text/plain": [
       "(1280, 1344, 2)"
      ]
     },
     "execution_count": 75,
     "metadata": {},
     "output_type": "execute_result"
    }
   ],
   "source": [
    "len(y_pred), len(val_images_df), len(y)"
   ]
  },
  {
   "cell_type": "code",
   "execution_count": 145,
   "metadata": {
    "collapsed": false
   },
   "outputs": [
    {
     "data": {
      "text/plain": [
       "((1280, 5270), (1344, 10))"
      ]
     },
     "execution_count": 145,
     "metadata": {},
     "output_type": "execute_result"
    }
   ],
   "source": [
    "y_pred.shape, val_images_df.shape"
   ]
  },
  {
   "cell_type": "code",
   "execution_count": 136,
   "metadata": {
    "collapsed": false
   },
   "outputs": [
    {
     "data": {
      "text/html": [
       "<div>\n",
       "<style>\n",
       "    .dataframe thead tr:only-child th {\n",
       "        text-align: right;\n",
       "    }\n",
       "\n",
       "    .dataframe thead th {\n",
       "        text-align: left;\n",
       "    }\n",
       "\n",
       "    .dataframe tbody tr th {\n",
       "        vertical-align: top;\n",
       "    }\n",
       "</style>\n",
       "<table border=\"1\" class=\"dataframe\">\n",
       "  <thead>\n",
       "    <tr style=\"text-align: right;\">\n",
       "      <th></th>\n",
       "      <th>product_id</th>\n",
       "      <th>category_idx_x</th>\n",
       "      <th>category_id</th>\n",
       "      <th>img_idx</th>\n",
       "      <th>category_level1</th>\n",
       "      <th>category_level2</th>\n",
       "      <th>category_level3</th>\n",
       "      <th>category_idx_y</th>\n",
       "      <th>cat1_idx</th>\n",
       "      <th>cat2_idx</th>\n",
       "    </tr>\n",
       "  </thead>\n",
       "  <tbody>\n",
       "    <tr>\n",
       "      <th>0</th>\n",
       "      <td>860</td>\n",
       "      <td>45</td>\n",
       "      <td>1000010653</td>\n",
       "      <td>0</td>\n",
       "      <td>TELEPHONIE - GPS</td>\n",
       "      <td>ACCESSOIRE TELEPHONE</td>\n",
       "      <td>COQUE TELEPHONE - BUMPER TELEPHONE</td>\n",
       "      <td>5055</td>\n",
       "      <td>45</td>\n",
       "      <td>455</td>\n",
       "    </tr>\n",
       "    <tr>\n",
       "      <th>1</th>\n",
       "      <td>10305</td>\n",
       "      <td>45</td>\n",
       "      <td>1000010653</td>\n",
       "      <td>0</td>\n",
       "      <td>TELEPHONIE - GPS</td>\n",
       "      <td>ACCESSOIRE TELEPHONE</td>\n",
       "      <td>COQUE TELEPHONE - BUMPER TELEPHONE</td>\n",
       "      <td>5055</td>\n",
       "      <td>45</td>\n",
       "      <td>455</td>\n",
       "    </tr>\n",
       "  </tbody>\n",
       "</table>\n",
       "</div>"
      ],
      "text/plain": [
       "   product_id  category_idx_x  category_id  img_idx   category_level1  \\\n",
       "0         860              45   1000010653        0  TELEPHONIE - GPS   \n",
       "1       10305              45   1000010653        0  TELEPHONIE - GPS   \n",
       "\n",
       "        category_level2                     category_level3  category_idx_y  \\\n",
       "0  ACCESSOIRE TELEPHONE  COQUE TELEPHONE - BUMPER TELEPHONE            5055   \n",
       "1  ACCESSOIRE TELEPHONE  COQUE TELEPHONE - BUMPER TELEPHONE            5055   \n",
       "\n",
       "   cat1_idx  cat2_idx  \n",
       "0        45       455  \n",
       "1        45       455  "
      ]
     },
     "execution_count": 136,
     "metadata": {},
     "output_type": "execute_result"
    }
   ],
   "source": [
    "val_temp2 = val_images_df[0:len(y_pred)]\n",
    "len(val_temp2)\n",
    "val_temp2.head(2)"
   ]
  },
  {
   "cell_type": "code",
   "execution_count": 149,
   "metadata": {
    "collapsed": false
   },
   "outputs": [
    {
     "name": "stderr",
     "output_type": "stream",
     "text": [
      "/home/manojps/anaconda3/lib/python3.6/site-packages/ipykernel/__main__.py:1: SettingWithCopyWarning: \n",
      "A value is trying to be set on a copy of a slice from a DataFrame.\n",
      "Try using .loc[row_indexer,col_indexer] = value instead\n",
      "\n",
      "See the caveats in the documentation: http://pandas.pydata.org/pandas-docs/stable/indexing.html#indexing-view-versus-copy\n",
      "  if __name__ == '__main__':\n"
     ]
    },
    {
     "data": {
      "text/html": [
       "<div>\n",
       "<style>\n",
       "    .dataframe thead tr:only-child th {\n",
       "        text-align: right;\n",
       "    }\n",
       "\n",
       "    .dataframe thead th {\n",
       "        text-align: left;\n",
       "    }\n",
       "\n",
       "    .dataframe tbody tr th {\n",
       "        vertical-align: top;\n",
       "    }\n",
       "</style>\n",
       "<table border=\"1\" class=\"dataframe\">\n",
       "  <thead>\n",
       "    <tr style=\"text-align: right;\">\n",
       "      <th></th>\n",
       "      <th>product_id</th>\n",
       "      <th>category_idx_x</th>\n",
       "      <th>category_id</th>\n",
       "      <th>img_idx</th>\n",
       "      <th>category_level1</th>\n",
       "      <th>category_level2</th>\n",
       "      <th>category_level3</th>\n",
       "      <th>category_idx_y</th>\n",
       "      <th>cat1_idx</th>\n",
       "      <th>cat2_idx</th>\n",
       "      <th>cat1_pred</th>\n",
       "    </tr>\n",
       "  </thead>\n",
       "  <tbody>\n",
       "    <tr>\n",
       "      <th>0</th>\n",
       "      <td>860</td>\n",
       "      <td>45</td>\n",
       "      <td>1000010653</td>\n",
       "      <td>0</td>\n",
       "      <td>TELEPHONIE - GPS</td>\n",
       "      <td>ACCESSOIRE TELEPHONE</td>\n",
       "      <td>COQUE TELEPHONE - BUMPER TELEPHONE</td>\n",
       "      <td>5055</td>\n",
       "      <td>45</td>\n",
       "      <td>455</td>\n",
       "      <td>45</td>\n",
       "    </tr>\n",
       "    <tr>\n",
       "      <th>1</th>\n",
       "      <td>10305</td>\n",
       "      <td>45</td>\n",
       "      <td>1000010653</td>\n",
       "      <td>0</td>\n",
       "      <td>TELEPHONIE - GPS</td>\n",
       "      <td>ACCESSOIRE TELEPHONE</td>\n",
       "      <td>COQUE TELEPHONE - BUMPER TELEPHONE</td>\n",
       "      <td>5055</td>\n",
       "      <td>45</td>\n",
       "      <td>455</td>\n",
       "      <td>45</td>\n",
       "    </tr>\n",
       "  </tbody>\n",
       "</table>\n",
       "</div>"
      ],
      "text/plain": [
       "   product_id  category_idx_x  category_id  img_idx   category_level1  \\\n",
       "0         860              45   1000010653        0  TELEPHONIE - GPS   \n",
       "1       10305              45   1000010653        0  TELEPHONIE - GPS   \n",
       "\n",
       "        category_level2                     category_level3  category_idx_y  \\\n",
       "0  ACCESSOIRE TELEPHONE  COQUE TELEPHONE - BUMPER TELEPHONE            5055   \n",
       "1  ACCESSOIRE TELEPHONE  COQUE TELEPHONE - BUMPER TELEPHONE            5055   \n",
       "\n",
       "   cat1_idx  cat2_idx  cat1_pred  \n",
       "0        45       455         45  \n",
       "1        45       455         45  "
      ]
     },
     "execution_count": 149,
     "metadata": {},
     "output_type": "execute_result"
    }
   ],
   "source": [
    "val_temp2['cat1_pred'] = np.argmax(y_pred, axis=1)\n",
    "val_temp2.head(2)"
   ]
  },
  {
   "cell_type": "code",
   "execution_count": 155,
   "metadata": {
    "collapsed": false
   },
   "outputs": [
    {
     "data": {
      "text/plain": [
       "(1280, 11)"
      ]
     },
     "execution_count": 155,
     "metadata": {},
     "output_type": "execute_result"
    }
   ],
   "source": [
    "val_temp2.shape"
   ]
  },
  {
   "cell_type": "code",
   "execution_count": 138,
   "metadata": {
    "collapsed": true
   },
   "outputs": [],
   "source": [
    "def make_category_tables():\n",
    "    cat2idx = {}\n",
    "    idx2cat = {}\n",
    "    for ir in val_temp2.itertuples():\n",
    "        category_id = ir[3]\n",
    "        #category_idx = ir[4] # Category level3\n",
    "        category_idx = ir[11] # Category level1\n",
    "        #category_idx = ir[6] # Category level2 \n",
    "        cat2idx[category_id] = category_idx\n",
    "        idx2cat[category_idx] = category_id\n",
    "    return cat2idx, idx2cat"
   ]
  },
  {
   "cell_type": "code",
   "execution_count": 139,
   "metadata": {
    "collapsed": true
   },
   "outputs": [],
   "source": [
    "cat2idx, idx2cat = make_category_tables()"
   ]
  },
  {
   "cell_type": "code",
   "execution_count": 157,
   "metadata": {
    "collapsed": false
   },
   "outputs": [
    {
     "data": {
      "text/plain": [
       "228"
      ]
     },
     "execution_count": 157,
     "metadata": {},
     "output_type": "execute_result"
    }
   ],
   "source": [
    "len(cat2idx)"
   ]
  },
  {
   "cell_type": "code",
   "execution_count": 140,
   "metadata": {
    "collapsed": false
   },
   "outputs": [
    {
     "data": {
      "text/html": [
       "<div>\n",
       "<style>\n",
       "    .dataframe thead tr:only-child th {\n",
       "        text-align: right;\n",
       "    }\n",
       "\n",
       "    .dataframe thead th {\n",
       "        text-align: left;\n",
       "    }\n",
       "\n",
       "    .dataframe tbody tr th {\n",
       "        vertical-align: top;\n",
       "    }\n",
       "</style>\n",
       "<table border=\"1\" class=\"dataframe\">\n",
       "  <thead>\n",
       "    <tr style=\"text-align: right;\">\n",
       "      <th></th>\n",
       "      <th>num_imgs</th>\n",
       "      <th>offset</th>\n",
       "      <th>length</th>\n",
       "      <th>category_id</th>\n",
       "      <th>index1</th>\n",
       "      <th>product_id</th>\n",
       "    </tr>\n",
       "    <tr>\n",
       "      <th>product_id</th>\n",
       "      <th></th>\n",
       "      <th></th>\n",
       "      <th></th>\n",
       "      <th></th>\n",
       "      <th></th>\n",
       "      <th></th>\n",
       "    </tr>\n",
       "  </thead>\n",
       "  <tbody>\n",
       "    <tr>\n",
       "      <th>0</th>\n",
       "      <td>1</td>\n",
       "      <td>0</td>\n",
       "      <td>6979</td>\n",
       "      <td>1000010653</td>\n",
       "      <td>0</td>\n",
       "      <td>0</td>\n",
       "    </tr>\n",
       "    <tr>\n",
       "      <th>1</th>\n",
       "      <td>1</td>\n",
       "      <td>6979</td>\n",
       "      <td>7318</td>\n",
       "      <td>1000010653</td>\n",
       "      <td>1</td>\n",
       "      <td>1</td>\n",
       "    </tr>\n",
       "    <tr>\n",
       "      <th>2</th>\n",
       "      <td>1</td>\n",
       "      <td>14297</td>\n",
       "      <td>5455</td>\n",
       "      <td>1000004079</td>\n",
       "      <td>2</td>\n",
       "      <td>2</td>\n",
       "    </tr>\n",
       "    <tr>\n",
       "      <th>3</th>\n",
       "      <td>1</td>\n",
       "      <td>19752</td>\n",
       "      <td>4580</td>\n",
       "      <td>1000004141</td>\n",
       "      <td>3</td>\n",
       "      <td>3</td>\n",
       "    </tr>\n",
       "    <tr>\n",
       "      <th>4</th>\n",
       "      <td>1</td>\n",
       "      <td>24332</td>\n",
       "      <td>6346</td>\n",
       "      <td>1000015539</td>\n",
       "      <td>4</td>\n",
       "      <td>4</td>\n",
       "    </tr>\n",
       "  </tbody>\n",
       "</table>\n",
       "</div>"
      ],
      "text/plain": [
       "            num_imgs  offset  length  category_id  index1  product_id\n",
       "product_id                                                           \n",
       "0                  1       0    6979   1000010653       0           0\n",
       "1                  1    6979    7318   1000010653       1           1\n",
       "2                  1   14297    5455   1000004079       2           2\n",
       "3                  1   19752    4580   1000004141       3           3\n",
       "4                  1   24332    6346   1000015539       4           4"
      ]
     },
     "execution_count": 140,
     "metadata": {},
     "output_type": "execute_result"
    }
   ],
   "source": [
    "train_offsets_df['product_id'] = train_offsets_df.index\n",
    "train_offsets_df.head()"
   ]
  },
  {
   "cell_type": "code",
   "execution_count": 154,
   "metadata": {
    "collapsed": false
   },
   "outputs": [
    {
     "data": {
      "text/plain": [
       "(747,)"
      ]
     },
     "execution_count": 154,
     "metadata": {},
     "output_type": "execute_result"
    }
   ],
   "source": [
    "prod_id_array = pd.Series(val_temp2['product_id'].unique())\n",
    "prod_id_array.shape"
   ]
  },
  {
   "cell_type": "code",
   "execution_count": 148,
   "metadata": {
    "collapsed": false
   },
   "outputs": [
    {
     "data": {
      "text/html": [
       "<div>\n",
       "<style>\n",
       "    .dataframe thead tr:only-child th {\n",
       "        text-align: right;\n",
       "    }\n",
       "\n",
       "    .dataframe thead th {\n",
       "        text-align: left;\n",
       "    }\n",
       "\n",
       "    .dataframe tbody tr th {\n",
       "        vertical-align: top;\n",
       "    }\n",
       "</style>\n",
       "<table border=\"1\" class=\"dataframe\">\n",
       "  <thead>\n",
       "    <tr style=\"text-align: right;\">\n",
       "      <th></th>\n",
       "      <th>num_imgs</th>\n",
       "      <th>offset</th>\n",
       "      <th>length</th>\n",
       "      <th>category_id</th>\n",
       "      <th>index1</th>\n",
       "      <th>product_id</th>\n",
       "    </tr>\n",
       "    <tr>\n",
       "      <th>product_id</th>\n",
       "      <th></th>\n",
       "      <th></th>\n",
       "      <th></th>\n",
       "      <th></th>\n",
       "      <th></th>\n",
       "      <th></th>\n",
       "    </tr>\n",
       "  </thead>\n",
       "  <tbody>\n",
       "    <tr>\n",
       "      <th>860</th>\n",
       "      <td>1</td>\n",
       "      <td>5067806</td>\n",
       "      <td>5408</td>\n",
       "      <td>1000010653</td>\n",
       "      <td>860</td>\n",
       "      <td>860</td>\n",
       "    </tr>\n",
       "    <tr>\n",
       "      <th>10305</th>\n",
       "      <td>4</td>\n",
       "      <td>63811236</td>\n",
       "      <td>22316</td>\n",
       "      <td>1000010653</td>\n",
       "      <td>10305</td>\n",
       "      <td>10305</td>\n",
       "    </tr>\n",
       "    <tr>\n",
       "      <th>8926920</th>\n",
       "      <td>1</td>\n",
       "      <td>24517401149</td>\n",
       "      <td>7789</td>\n",
       "      <td>1000010653</td>\n",
       "      <td>8926920</td>\n",
       "      <td>8926920</td>\n",
       "    </tr>\n",
       "    <tr>\n",
       "      <th>6462274</th>\n",
       "      <td>1</td>\n",
       "      <td>17055255311</td>\n",
       "      <td>7871</td>\n",
       "      <td>1000010653</td>\n",
       "      <td>6462274</td>\n",
       "      <td>6462274</td>\n",
       "    </tr>\n",
       "    <tr>\n",
       "      <th>20568</th>\n",
       "      <td>1</td>\n",
       "      <td>129616582</td>\n",
       "      <td>4563</td>\n",
       "      <td>1000010653</td>\n",
       "      <td>20568</td>\n",
       "      <td>20568</td>\n",
       "    </tr>\n",
       "  </tbody>\n",
       "</table>\n",
       "</div>"
      ],
      "text/plain": [
       "            num_imgs       offset  length  category_id   index1  product_id\n",
       "product_id                                                                 \n",
       "860                1      5067806    5408   1000010653      860         860\n",
       "10305              4     63811236   22316   1000010653    10305       10305\n",
       "8926920            1  24517401149    7789   1000010653  8926920     8926920\n",
       "6462274            1  17055255311    7871   1000010653  6462274     6462274\n",
       "20568              1    129616582    4563   1000010653    20568       20568"
      ]
     },
     "execution_count": 148,
     "metadata": {},
     "output_type": "execute_result"
    }
   ],
   "source": [
    "train_offsets_df2 = train_offsets_df.loc[prod_id_array]\n",
    "train_offsets_df2.head()"
   ]
  },
  {
   "cell_type": "code",
   "execution_count": 153,
   "metadata": {
    "collapsed": false
   },
   "outputs": [
    {
     "data": {
      "text/plain": [
       "(747, 6)"
      ]
     },
     "execution_count": 153,
     "metadata": {},
     "output_type": "execute_result"
    }
   ],
   "source": [
    "train_offsets_df2.shape"
   ]
  },
  {
   "cell_type": "code",
   "execution_count": 152,
   "metadata": {
    "collapsed": false
   },
   "outputs": [
    {
     "name": "stderr",
     "output_type": "stream",
     "text": [
      "747it [00:00, 237161.84it/s]\n",
      "100%|██████████| 747/747 [00:00<00:00, 19897.03it/s]\n"
     ]
    }
   ],
   "source": [
    "train_images_df2, val_images_df2 = make_val_set(train_offsets_df2, split_percentage=0.2, \n",
    "                                              drop_percentage=0)"
   ]
  },
  {
   "cell_type": "code",
   "execution_count": null,
   "metadata": {
    "collapsed": true
   },
   "outputs": [],
   "source": []
  },
  {
   "cell_type": "code",
   "execution_count": null,
   "metadata": {
    "collapsed": true
   },
   "outputs": [],
   "source": []
  },
  {
   "cell_type": "code",
   "execution_count": null,
   "metadata": {
    "collapsed": true
   },
   "outputs": [],
   "source": []
  },
  {
   "cell_type": "code",
   "execution_count": null,
   "metadata": {
    "collapsed": true
   },
   "outputs": [],
   "source": []
  },
  {
   "cell_type": "code",
   "execution_count": null,
   "metadata": {
    "collapsed": true
   },
   "outputs": [],
   "source": []
  },
  {
   "cell_type": "markdown",
   "metadata": {
    "_cell_guid": "2116a8c3-ec60-4878-93af-94c185c08cb3",
    "_uuid": "ee05e14fd2e9354008f23941f97ee3ff7ff73aaf"
   },
   "source": [
    "# Part 4: Test set predictions\n",
    "\n",
    "Note: The previous version of this kernel used `BSONIterator` to load the test set images in batches. However, storing the prediction results takes up a huge amount of memory. \n",
    "\n",
    "I suggest using a different kind of generator instead, something like the following:\n",
    "\n",
    "```\n",
    "from keras import backend as K\n",
    "from keras.preprocessing.image import ImageDataGenerator\n",
    "\n",
    "submission_df = pd.read_csv(data_dir + \"sample_submission.csv\")\n",
    "submission_df.head()\n",
    "\n",
    "test_datagen = ImageDataGenerator(preprocessing_function=preprocess_input)\n",
    "data = bson.decode_file_iter(open(test_bson_path, \"rb\"))\n",
    "\n",
    "with tqdm(total=num_test_products) as pbar:\n",
    "    for c, d in enumerate(data):\n",
    "        product_id = d[\"_id\"]\n",
    "        num_imgs = len(d[\"imgs\"])\n",
    "\n",
    "        batch_x = np.zeros((num_imgs, 180, 180, 3), dtype=K.floatx())\n",
    "\n",
    "        for i in range(num_imgs):\n",
    "            bson_img = d[\"imgs\"][i][\"picture\"]\n",
    "\n",
    "            # Load and preprocess the image.\n",
    "            img = load_img(io.BytesIO(bson_img), target_size=(180, 180))\n",
    "            x = img_to_array(img)\n",
    "            x = test_datagen.random_transform(x)\n",
    "            x = test_datagen.standardize(x)\n",
    "\n",
    "            # Add the image to the batch.\n",
    "            batch_x[i] = x\n",
    "\n",
    "        prediction = model.predict(batch_x, batch_size=num_imgs)\n",
    "        avg_pred = prediction.mean(axis=0)\n",
    "        cat_idx = np.argmax(avg_pred)\n",
    "        \n",
    "        submission_df.iloc[c][\"category_id\"] = idx2cat[cat_idx]        \n",
    "        pbar.update()\n",
    "        \n",
    "submission_df.to_csv(\"my_submission.csv.gz\", compression=\"gzip\", index=False)        \n",
    "```"
   ]
  },
  {
   "cell_type": "code",
   "execution_count": null,
   "metadata": {
    "collapsed": true
   },
   "outputs": [],
   "source": [
    "num_classes = 5270\n",
    "#num_classes = len(train_images_df['category_idx'].unique())\n",
    "num_test_images = len(test_images_df)\n",
    "batch_size = 1000\n",
    "\n",
    "# Tip: use ImageDataGenerator for data augmentation and preprocessing.\n",
    "test_datagen = ImageDataGenerator()\n",
    "test_gen = BSONIterator(test_bson_file, test_images_df, train_offsets_df, \n",
    "                         num_classes, train_datagen, lock,\n",
    "                         batch_size=batch_size, shuffle=True)"
   ]
  }
 ],
 "metadata": {
  "kernelspec": {
   "display_name": "Python 3",
   "language": "python",
   "name": "python3"
  },
  "language_info": {
   "codemirror_mode": {
    "name": "ipython",
    "version": 3
   },
   "file_extension": ".py",
   "mimetype": "text/x-python",
   "name": "python",
   "nbconvert_exporter": "python",
   "pygments_lexer": "ipython3",
   "version": "3.6.0"
  }
 },
 "nbformat": 4,
 "nbformat_minor": 1
}
